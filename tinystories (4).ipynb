{
 "cells": [
  {
   "cell_type": "markdown",
   "id": "de29384b",
   "metadata": {
    "papermill": {
     "duration": 0.00329,
     "end_time": "2025-08-01T09:21:33.443539",
     "exception": false,
     "start_time": "2025-08-01T09:21:33.440249",
     "status": "completed"
    },
    "tags": []
   },
   "source": [
    "# TinyStories Language Model Experiments\n",
    "\n",
    "This notebook compares two different approaches for language modeling on the TinyStories dataset:\n",
    "1. A Deep Reservoir Computing-based Model\n",
    "2. A Transformer-based Model\n",
    "\n",
    "Both models will be evaluated on the same dataset with the same evaluation metrics for fair comparison."
   ]
  },
  {
   "cell_type": "code",
   "execution_count": 1,
   "id": "cb37644d",
   "metadata": {
    "execution": {
     "iopub.execute_input": "2025-08-01T09:21:33.449627Z",
     "iopub.status.busy": "2025-08-01T09:21:33.449382Z",
     "iopub.status.idle": "2025-08-01T09:21:37.361169Z",
     "shell.execute_reply": "2025-08-01T09:21:37.360245Z"
    },
    "papermill": {
     "duration": 3.916261,
     "end_time": "2025-08-01T09:21:37.362523",
     "exception": false,
     "start_time": "2025-08-01T09:21:33.446262",
     "status": "completed"
    },
    "tags": []
   },
   "outputs": [
    {
     "name": "stdout",
     "output_type": "stream",
     "text": [
      "Using device: cuda\n"
     ]
    }
   ],
   "source": [
    "import os\n",
    "import torch\n",
    "\n",
    "# -----------------------------------------------------------------------------\n",
    "# Shared Configuration for Both Models\n",
    "# -----------------------------------------------------------------------------\n",
    "\n",
    "SHARED_CONFIG = {\n",
    "    # Data parameters\n",
    "    'MAX_STORIES': 2000,                # Number of stories to use for training\n",
    "    \n",
    "    # Training parameters\n",
    "    'EPOCHS': 4,                       # Number of training epochs\n",
    "    'BATCH_SIZE': 32,                  # Batch size for training\n",
    "    'BLOCK_SIZE': 128,                 # Context size for training\n",
    "    'DEVICE': 'cuda' if torch.cuda.is_available() else 'cpu',\n",
    "    \n",
    "    # Evaluation parameters\n",
    "    'EVAL_INTERVAL': 1000,              # Steps between evaluations\n",
    "    'EVAL_ITER': 50,                   # Number of batches for evaluation\n",
    "    'MAX_OUT_TOKENS': 100,             # Number of tokens to generate for samples\n",
    "    \n",
    "    # File paths\n",
    "    'RESERVOIR_SAVE_PATH': 'models/deep_reservoir_trained.pt',\n",
    "    'TRANSFORMER_SAVE_PATH': 'models/tiny_lm_trained.pt'\n",
    "}\n",
    "\n",
    "print(f\"Using device: {SHARED_CONFIG['DEVICE']}\")\n",
    "os.makedirs(\"models\", exist_ok=True)"
   ]
  },
  {
   "cell_type": "code",
   "execution_count": 2,
   "id": "179d8f55",
   "metadata": {
    "execution": {
     "iopub.execute_input": "2025-08-01T09:21:37.368673Z",
     "iopub.status.busy": "2025-08-01T09:21:37.368370Z",
     "iopub.status.idle": "2025-08-01T09:21:48.969898Z",
     "shell.execute_reply": "2025-08-01T09:21:48.969321Z"
    },
    "papermill": {
     "duration": 11.606075,
     "end_time": "2025-08-01T09:21:48.971301",
     "exception": false,
     "start_time": "2025-08-01T09:21:37.365226",
     "status": "completed"
    },
    "tags": []
   },
   "outputs": [
    {
     "data": {
      "application/vnd.jupyter.widget-view+json": {
       "model_id": "967ce52c8f674381baa3c765480d4a00",
       "version_major": 2,
       "version_minor": 0
      },
      "text/plain": [
       "tokenizer_config.json:   0%|          | 0.00/26.0 [00:00<?, ?B/s]"
      ]
     },
     "metadata": {},
     "output_type": "display_data"
    },
    {
     "data": {
      "application/vnd.jupyter.widget-view+json": {
       "model_id": "0b51d96ecc194dbebc45a2973b1fb3e4",
       "version_major": 2,
       "version_minor": 0
      },
      "text/plain": [
       "vocab.json:   0%|          | 0.00/1.04M [00:00<?, ?B/s]"
      ]
     },
     "metadata": {},
     "output_type": "display_data"
    },
    {
     "data": {
      "application/vnd.jupyter.widget-view+json": {
       "model_id": "774735137b8242fa89d7cfc8d885f770",
       "version_major": 2,
       "version_minor": 0
      },
      "text/plain": [
       "merges.txt:   0%|          | 0.00/456k [00:00<?, ?B/s]"
      ]
     },
     "metadata": {},
     "output_type": "display_data"
    },
    {
     "data": {
      "application/vnd.jupyter.widget-view+json": {
       "model_id": "6404dfc10a534ce3a5e813a2c25ab57f",
       "version_major": 2,
       "version_minor": 0
      },
      "text/plain": [
       "tokenizer.json:   0%|          | 0.00/1.36M [00:00<?, ?B/s]"
      ]
     },
     "metadata": {},
     "output_type": "display_data"
    },
    {
     "data": {
      "application/vnd.jupyter.widget-view+json": {
       "model_id": "dcfbcc31050f4222b23c0da058128d02",
       "version_major": 2,
       "version_minor": 0
      },
      "text/plain": [
       "config.json:   0%|          | 0.00/665 [00:00<?, ?B/s]"
      ]
     },
     "metadata": {},
     "output_type": "display_data"
    }
   ],
   "source": [
    "# -----------------------------------------------------------------------------\n",
    "# Import Common Libraries\n",
    "# -----------------------------------------------------------------------------\n",
    "import numpy as np\n",
    "import torch\n",
    "import torch.nn as nn\n",
    "import torch.nn.functional as F\n",
    "from torch.utils import data\n",
    "from tqdm import tqdm\n",
    "from transformers import GPT2TokenizerFast\n",
    "from datasets import load_dataset\n",
    "import matplotlib.pyplot as plt\n",
    "\n",
    "\n",
    "# -----------------------------------------------------------------------------\n",
    "# Data Download and Tokenization\n",
    "# -----------------------------------------------------------------------------\n",
    "\n",
    "# Initialize tokenizer\n",
    "tokenizer = GPT2TokenizerFast.from_pretrained(\"gpt2\")\n",
    "\n",
    "def download_and_save_dataset(max_stories=None):\n",
    "    \"\"\"Downloads the TinyStories dataset and saves a subset if specified.\"\"\"\n",
    "    data_dir = \"data\"\n",
    "    if max_stories:\n",
    "        train_path = os.path.join(data_dir, f\"TinyStories-train-{max_stories}.txt\")\n",
    "        valid_path = os.path.join(data_dir, f\"TinyStories-valid-{max_stories}.txt\")\n",
    "    else:\n",
    "        train_path = os.path.join(data_dir, \"TinyStories-train.txt\")\n",
    "        valid_path = os.path.join(data_dir, \"TinyStories-valid.txt\")\n",
    "\n",
    "    if os.path.exists(train_path) and os.path.exists(valid_path):\n",
    "        print(f\"Dataset files already exist: {train_path}, {valid_path}\")\n",
    "        return train_path, valid_path\n",
    "\n",
    "    print(\"Downloading TinyStories dataset from Hugging Face...\")\n",
    "    os.makedirs(data_dir, exist_ok=True)\n",
    "    ds = load_dataset(\"roneneldan/TinyStories\")\n",
    "\n",
    "    print(f\"Saving training split to {train_path}...\")\n",
    "    with open(train_path, 'w', encoding='utf-8') as f:\n",
    "        for i, story in enumerate(tqdm(ds['train'])):\n",
    "            if max_stories and i >= max_stories:\n",
    "                break\n",
    "            f.write(story['text'] + '\\n')\n",
    "\n",
    "    print(f\"Saving validation split to {valid_path}...\")\n",
    "    with open(valid_path, 'w', encoding='utf-8') as f:\n",
    "        val_stories_to_save = max_stories // 10 if max_stories else None\n",
    "        for i, story in enumerate(tqdm(ds['validation'])):\n",
    "            if val_stories_to_save and i >= val_stories_to_save:\n",
    "                break\n",
    "            f.write(story['text'] + '\\n')\n",
    "    return train_path, valid_path\n",
    "\n",
    "def pre_tokenize_dataset(path, save_path):\n",
    "    print(f\"Running tokenization for {path}...\")\n",
    "    with open(path, 'r', encoding='utf-8') as file:\n",
    "        text = file.read()\n",
    "        tokens = tokenizer.encode(text)\n",
    "        np.save(save_path, np.array(tokens, dtype=np.int32))\n",
    "        print(f\"Saved tokenized file to binary {save_path}\")\n",
    "\n",
    "class TinyStoriesDataset(data.Dataset):\n",
    "    def __init__(self, tokenized_path, block_size: int):\n",
    "        self.block_size = block_size\n",
    "        self.data = np.load(tokenized_path, mmap_mode='r')\n",
    "\n",
    "    def __len__(self):\n",
    "        return len(self.data) - self.block_size\n",
    "\n",
    "    def __getitem__(self, idx):\n",
    "        chunk = self.data[idx:idx + self.block_size + 1]\n",
    "        source = torch.from_numpy(chunk[:-1].astype(np.int64))\n",
    "        target = torch.from_numpy(chunk[1:].astype(np.int64))\n",
    "        return source, target"
   ]
  },
  {
   "cell_type": "code",
   "execution_count": 3,
   "id": "9e91defe",
   "metadata": {
    "execution": {
     "iopub.execute_input": "2025-08-01T09:21:48.978604Z",
     "iopub.status.busy": "2025-08-01T09:21:48.978234Z",
     "iopub.status.idle": "2025-08-01T09:22:05.598444Z",
     "shell.execute_reply": "2025-08-01T09:22:05.597492Z"
    },
    "papermill": {
     "duration": 16.624822,
     "end_time": "2025-08-01T09:22:05.599606",
     "exception": false,
     "start_time": "2025-08-01T09:21:48.974784",
     "status": "completed"
    },
    "tags": []
   },
   "outputs": [
    {
     "name": "stdout",
     "output_type": "stream",
     "text": [
      "Downloading TinyStories dataset from Hugging Face...\n"
     ]
    },
    {
     "data": {
      "application/vnd.jupyter.widget-view+json": {
       "model_id": "0647225956a446a3948edb58fe39d5f7",
       "version_major": 2,
       "version_minor": 0
      },
      "text/plain": [
       "README.md: 0.00B [00:00, ?B/s]"
      ]
     },
     "metadata": {},
     "output_type": "display_data"
    },
    {
     "data": {
      "application/vnd.jupyter.widget-view+json": {
       "model_id": "3f2d66fdb8a740e9b1f249325bb67a7f",
       "version_major": 2,
       "version_minor": 0
      },
      "text/plain": [
       "(…)-00000-of-00004-2d5a1467fff1081b.parquet:   0%|          | 0.00/249M [00:00<?, ?B/s]"
      ]
     },
     "metadata": {},
     "output_type": "display_data"
    },
    {
     "data": {
      "application/vnd.jupyter.widget-view+json": {
       "model_id": "0c5262ca1d6e481d9c7086c14d1253d4",
       "version_major": 2,
       "version_minor": 0
      },
      "text/plain": [
       "(…)-00001-of-00004-5852b56a2bd28fd9.parquet:   0%|          | 0.00/248M [00:00<?, ?B/s]"
      ]
     },
     "metadata": {},
     "output_type": "display_data"
    },
    {
     "data": {
      "application/vnd.jupyter.widget-view+json": {
       "model_id": "dc2c3dd21a7e4734975f9e75d66d0dbf",
       "version_major": 2,
       "version_minor": 0
      },
      "text/plain": [
       "(…)-00002-of-00004-a26307300439e943.parquet:   0%|          | 0.00/246M [00:00<?, ?B/s]"
      ]
     },
     "metadata": {},
     "output_type": "display_data"
    },
    {
     "data": {
      "application/vnd.jupyter.widget-view+json": {
       "model_id": "5379cab6da64414ea2b38c98dd871a59",
       "version_major": 2,
       "version_minor": 0
      },
      "text/plain": [
       "(…)-00003-of-00004-d243063613e5a057.parquet:   0%|          | 0.00/248M [00:00<?, ?B/s]"
      ]
     },
     "metadata": {},
     "output_type": "display_data"
    },
    {
     "data": {
      "application/vnd.jupyter.widget-view+json": {
       "model_id": "1e9b44ff9e464cd5a166c2aee8654bd1",
       "version_major": 2,
       "version_minor": 0
      },
      "text/plain": [
       "(…)-00000-of-00001-869c898b519ad725.parquet:   0%|          | 0.00/9.99M [00:00<?, ?B/s]"
      ]
     },
     "metadata": {},
     "output_type": "display_data"
    },
    {
     "data": {
      "application/vnd.jupyter.widget-view+json": {
       "model_id": "23bc0517d485496e9ce6bf70adbc6539",
       "version_major": 2,
       "version_minor": 0
      },
      "text/plain": [
       "Generating train split:   0%|          | 0/2119719 [00:00<?, ? examples/s]"
      ]
     },
     "metadata": {},
     "output_type": "display_data"
    },
    {
     "data": {
      "application/vnd.jupyter.widget-view+json": {
       "model_id": "db6f78e107704412a3be73645c661308",
       "version_major": 2,
       "version_minor": 0
      },
      "text/plain": [
       "Generating validation split:   0%|          | 0/21990 [00:00<?, ? examples/s]"
      ]
     },
     "metadata": {},
     "output_type": "display_data"
    },
    {
     "name": "stdout",
     "output_type": "stream",
     "text": [
      "Saving training split to data/TinyStories-train-2000.txt...\n"
     ]
    },
    {
     "name": "stderr",
     "output_type": "stream",
     "text": [
      "  0%|          | 2000/2119719 [00:00<00:38, 55091.44it/s]\n"
     ]
    },
    {
     "name": "stdout",
     "output_type": "stream",
     "text": [
      "Saving validation split to data/TinyStories-valid-2000.txt...\n"
     ]
    },
    {
     "name": "stderr",
     "output_type": "stream",
     "text": [
      "  1%|          | 200/21990 [00:00<00:00, 42781.56it/s]"
     ]
    },
    {
     "name": "stdout",
     "output_type": "stream",
     "text": [
      "Running tokenization for data/TinyStories-train-2000.txt...\n"
     ]
    },
    {
     "name": "stderr",
     "output_type": "stream",
     "text": [
      "\n",
      "Token indices sequence length is longer than the specified maximum sequence length for this model (419455 > 1024). Running this sequence through the model will result in indexing errors\n"
     ]
    },
    {
     "name": "stdout",
     "output_type": "stream",
     "text": [
      "Saved tokenized file to binary data/TinyStories-train-2000.npy\n",
      "Running tokenization for data/TinyStories-valid-2000.txt...\n",
      "Saved tokenized file to binary data/TinyStories-valid-2000.npy\n",
      "Data preparation complete! Tokenizer vocabulary size: 50257\n"
     ]
    }
   ],
   "source": [
    "# -----------------------------------------------------------------------------\n",
    "# Download and Prepare Dataset\n",
    "# -----------------------------------------------------------------------------\n",
    "\n",
    "# Download dataset\n",
    "train_txt_path, val_txt_path = download_and_save_dataset(max_stories=SHARED_CONFIG[\"MAX_STORIES\"])\n",
    "\n",
    "# Tokenize training data\n",
    "train_tokenized_path = train_txt_path.replace('.txt', '.npy')\n",
    "if not os.path.exists(train_tokenized_path):\n",
    "    pre_tokenize_dataset(train_txt_path, train_tokenized_path)\n",
    "\n",
    "# Tokenize validation data\n",
    "val_tokenized_path = val_txt_path.replace('.txt', '.npy')\n",
    "if not os.path.exists(val_tokenized_path):\n",
    "    pre_tokenize_dataset(val_txt_path, val_tokenized_path)\n",
    "\n",
    "# Create data loaders\n",
    "train_dataset = TinyStoriesDataset(train_tokenized_path, SHARED_CONFIG['BLOCK_SIZE'])\n",
    "train_loader = data.DataLoader(train_dataset, batch_size=SHARED_CONFIG['BATCH_SIZE'], shuffle=True)\n",
    "\n",
    "val_dataset = TinyStoriesDataset(val_tokenized_path, SHARED_CONFIG['BLOCK_SIZE'])\n",
    "val_loader = data.DataLoader(val_dataset, batch_size=SHARED_CONFIG['BATCH_SIZE'])\n",
    "\n",
    "print(f\"Data preparation complete! Tokenizer vocabulary size: {tokenizer.vocab_size}\")"
   ]
  },
  {
   "cell_type": "code",
   "execution_count": 4,
   "id": "9f0d6458",
   "metadata": {
    "execution": {
     "iopub.execute_input": "2025-08-01T09:22:05.610788Z",
     "iopub.status.busy": "2025-08-01T09:22:05.610551Z",
     "iopub.status.idle": "2025-08-01T09:22:06.680166Z",
     "shell.execute_reply": "2025-08-01T09:22:06.679025Z"
    },
    "papermill": {
     "duration": 1.0773,
     "end_time": "2025-08-01T09:22:06.682231",
     "exception": false,
     "start_time": "2025-08-01T09:22:05.604931",
     "status": "completed"
    },
    "tags": []
   },
   "outputs": [
    {
     "name": "stdout",
     "output_type": "stream",
     "text": [
      "Training configuration:\n",
      "  Dataset size: 419,327 sequences\n",
      "  Steps per epoch: 13,104\n",
      "  Total training steps: 52,416\n",
      "  Warmup steps: 1,000\n",
      "  Effective batch size: 128\n",
      "Optimized model: 20,030,016 trainable parameters\n"
     ]
    }
   ],
   "source": [
    "class OptimizedParallelReservoir(nn.Module):\n",
    "    \"\"\"\n",
    "    Memory and computation optimized reservoir with gradient checkpointing support.\n",
    "    \"\"\"\n",
    "    def __init__(self, input_size, hidden_size, window_size, spectral_radius=1.2,\n",
    "                 sparsity=0.1, activation='tanh', device='cuda'):\n",
    "        super().__init__()\n",
    "        self.window_size = window_size\n",
    "        self.device = device\n",
    "        self.hidden_size = hidden_size\n",
    "        \n",
    "        # Use smaller precision for reservoir weights to save memory\n",
    "        self.projection = nn.Linear(input_size * window_size, hidden_size, bias=False, dtype=torch.float16).to(device)\n",
    "        self._initialize_weights(spectral_radius, sparsity)\n",
    "        \n",
    "        # Precompute activation function\n",
    "        if activation == 'tanh':\n",
    "            self.activation = torch.tanh\n",
    "        elif activation == 'leaky_relu':\n",
    "            self.activation = lambda x: F.leaky_relu(x, 0.01, inplace=True)  # Small negative slope, inplace\n",
    "        elif activation == 'gelu':\n",
    "            self.activation = F.gelu\n",
    "        else:\n",
    "            raise ValueError(\"Unsupported activation function\")\n",
    "\n",
    "    def _initialize_weights(self, spectral_radius, sparsity):\n",
    "        # Freeze reservoir weights\n",
    "        for param in self.projection.parameters():\n",
    "            param.requires_grad = False\n",
    "\n",
    "        with torch.no_grad():\n",
    "            W = self.projection.weight.data\n",
    "            \n",
    "            # More efficient spectral radius normalization\n",
    "            if W.shape[0] == W.shape[1]:\n",
    "                # Use power iteration for large matrices (more efficient than full eigendecomposition)\n",
    "                if W.shape[0] > 512:\n",
    "                    current_radius = self._power_iteration_spectral_radius(W)\n",
    "                else:\n",
    "                    eigenvalues = torch.linalg.eigvals(W)\n",
    "                    current_radius = torch.max(torch.abs(eigenvalues))\n",
    "                W *= spectral_radius / current_radius\n",
    "            \n",
    "            # Apply sparsity mask\n",
    "            mask = (torch.rand(W.shape, device=self.device) > sparsity)\n",
    "            W *= mask.to(W.dtype)\n",
    "\n",
    "    def _power_iteration_spectral_radius(self, W, num_iterations=10):\n",
    "        \"\"\"Estimate spectral radius using power iteration (more efficient for large matrices)\"\"\"\n",
    "        v = torch.randn(W.shape[1], device=W.device, dtype=W.dtype)\n",
    "        for _ in range(num_iterations):\n",
    "            v = torch.mv(W, v)\n",
    "            v = v / torch.norm(v)\n",
    "        return torch.norm(torch.mv(W, v))\n",
    "\n",
    "    def forward(self, x):\n",
    "        # More memory-efficient windowing using stride tricks\n",
    "        batch_size, seq_len, input_size = x.shape\n",
    "        \n",
    "        # Pad only what we need\n",
    "        if self.window_size > 1:\n",
    "            padding = (0, 0, self.window_size - 1, 0)\n",
    "            x_padded = F.pad(x, padding, \"constant\", 0)\n",
    "        else:\n",
    "            x_padded = x\n",
    "            \n",
    "        # Use unfold for efficient windowing\n",
    "        windows = x_padded.unfold(1, self.window_size, 1)\n",
    "        windows_flat = windows.contiguous().view(batch_size, seq_len, -1)\n",
    "        \n",
    "        # Convert to float16 for computation, back to float32 for output\n",
    "        windows_flat = windows_flat.to(torch.float16)\n",
    "        output = self.activation(self.projection(windows_flat))\n",
    "        return output.to(torch.float32)\n",
    "\n",
    "\n",
    "class OptimizedReservoirBlock(nn.Module):\n",
    "    def __init__(self, config):\n",
    "        super().__init__()\n",
    "        self.reservoirs = nn.ModuleList()\n",
    "        total_reservoir_size = 0\n",
    "        \n",
    "        for res_config in config['reservoirs_per_block']:\n",
    "            self.reservoirs.append(\n",
    "                OptimizedParallelReservoir(\n",
    "                    input_size=config['embedding_dim'],\n",
    "                    hidden_size=res_config['reservoir_size'],\n",
    "                    window_size=res_config['window_size'],\n",
    "                    spectral_radius=res_config['spectral_radius'],\n",
    "                    sparsity=res_config.get('sparsity', 0.1),\n",
    "                    activation=res_config.get('activation', 'gelu'),  # GELU often works better\n",
    "                    device=config['DEVICE']\n",
    "                )\n",
    "            )\n",
    "            total_reservoir_size += res_config['reservoir_size']\n",
    "\n",
    "        # Simplified readout with better initialization\n",
    "        self.readout = nn.Sequential(\n",
    "            nn.LayerNorm(total_reservoir_size),  # Add layer norm for stability\n",
    "            nn.Linear(total_reservoir_size, config['readout_hidden_size']),\n",
    "            nn.GELU(),\n",
    "            nn.Dropout(config.get('dropout', 0.1)),  # Reduced dropout\n",
    "            nn.Linear(config['readout_hidden_size'], config['embedding_dim'])\n",
    "        )\n",
    "        \n",
    "        # Initialize readout weights properly\n",
    "        self._init_readout_weights()\n",
    "\n",
    "    def _init_readout_weights(self):\n",
    "        for module in self.readout.modules():\n",
    "            if isinstance(module, nn.Linear):\n",
    "                nn.init.xavier_uniform_(module.weight)\n",
    "                if module.bias is not None:\n",
    "                    nn.init.zeros_(module.bias)\n",
    "\n",
    "    def forward(self, x):\n",
    "        # Use gradient checkpointing for memory efficiency during training\n",
    "        if self.training and hasattr(torch.utils.checkpoint, 'checkpoint'):\n",
    "            reservoir_states = [torch.utils.checkpoint.checkpoint(res, x, use_reentrant=False) \n",
    "                              for res in self.reservoirs]\n",
    "        else:\n",
    "            reservoir_states = [res(x) for res in self.reservoirs]\n",
    "            \n",
    "        combined_states = torch.cat(reservoir_states, dim=-1)\n",
    "        update_vector = self.readout(combined_states)\n",
    "        return update_vector\n",
    "\n",
    "\n",
    "class OptimizedDeepReservoirModel(nn.Module):\n",
    "    def __init__(self, vocab_size, config):\n",
    "        super().__init__()\n",
    "        \n",
    "        # Trainable embedding with proper initialization\n",
    "        self.embedding = nn.Embedding(vocab_size, config['embedding_dim'])\n",
    "        nn.init.normal_(self.embedding.weight, mean=0, std=0.02)\n",
    "        \n",
    "        # Add positional encoding for better sequence understanding\n",
    "        self.pos_encoding = nn.Parameter(\n",
    "            torch.randn(config['max_seq_len'], config['embedding_dim']) * 0.02\n",
    "        )\n",
    "        \n",
    "        # Input projection to stabilize training\n",
    "        self.input_proj = nn.Sequential(\n",
    "            nn.LayerNorm(config['embedding_dim']),\n",
    "            nn.Linear(config['embedding_dim'], config['embedding_dim']),\n",
    "            nn.GELU()\n",
    "        )\n",
    "        \n",
    "        self.blocks = nn.ModuleList([\n",
    "            OptimizedReservoirBlock(config) for _ in range(config['num_blocks'])\n",
    "        ])\n",
    "        \n",
    "        # Output head with better initialization\n",
    "        self.output_norm = nn.LayerNorm(config['embedding_dim'])\n",
    "        self.final_head = nn.Linear(config['embedding_dim'], vocab_size, bias=False)\n",
    "        \n",
    "        # Tie weights between embedding and output (common practice)\n",
    "        if config.get('tie_weights', True):\n",
    "            self.final_head.weight = self.embedding.weight\n",
    "        \n",
    "        self._init_weights()\n",
    "\n",
    "    def _init_weights(self):\n",
    "        for module in self.modules():\n",
    "            if isinstance(module, nn.Linear) and module != self.final_head:\n",
    "                nn.init.xavier_uniform_(module.weight)\n",
    "                if module.bias is not None:\n",
    "                    nn.init.zeros_(module.bias)\n",
    "\n",
    "    def forward(self, idx):\n",
    "        batch_size, seq_len = idx.shape\n",
    "        \n",
    "        # Embedding + positional encoding\n",
    "        x_emb = self.embedding(idx)\n",
    "        pos_emb = self.pos_encoding[:seq_len].unsqueeze(0).expand(batch_size, -1, -1)\n",
    "        x = self.input_proj(x_emb + pos_emb)\n",
    "        \n",
    "        # Reservoir blocks with residual connections\n",
    "        for block in self.blocks:\n",
    "            update = block(x)\n",
    "            x = x + update  # Residual connection\n",
    "        \n",
    "        # Output projection\n",
    "        x = self.output_norm(x)\n",
    "        logits = self.final_head(x)\n",
    "        return logits\n",
    "\n",
    "\n",
    "@torch.no_grad()\n",
    "def eval_reservoir_model(model, data_loader, config):\n",
    "    \"\"\"Evaluates the reservoir model with mixed precision.\"\"\"\n",
    "    model.eval()\n",
    "    total_loss = 0\n",
    "    criterion = nn.CrossEntropyLoss()\n",
    "    num_batches = 0\n",
    "    \n",
    "    with torch.autocast(device_type='cuda', dtype=torch.float16):\n",
    "        for x, y in data_loader:\n",
    "            if num_batches >= config['EVAL_ITER']:\n",
    "                break\n",
    "            x, y = x.to(config['DEVICE']), y.to(config['DEVICE'])\n",
    "            logits = model(x)\n",
    "            B, T, C = logits.shape\n",
    "            loss = criterion(logits.view(B * T, C), y.view(B * T))\n",
    "            total_loss += loss.item()\n",
    "            num_batches += 1\n",
    "    \n",
    "    model.train()\n",
    "    return total_loss / num_batches if num_batches > 0 else float('inf')\n",
    "\n",
    "\n",
    "@torch.no_grad()\n",
    "def generate_from_reservoir(model, context_str, max_new_tokens, config, tokenizer):\n",
    "    \"\"\"Generates text from the reservoir model with temperature sampling.\"\"\"\n",
    "    model.eval()\n",
    "    start_indices = tokenizer.encode(context_str)\n",
    "    context = torch.tensor(start_indices, dtype=torch.long, device=config['DEVICE']).unsqueeze(0)\n",
    "    \n",
    "    temperature = config.get('temperature', 0.8)\n",
    "    top_k = config.get('top_k', 50)\n",
    "\n",
    "    for _ in range(max_new_tokens):\n",
    "        current_context = context[:, -config['BLOCK_SIZE']:]\n",
    "        \n",
    "        with torch.autocast(device_type='cuda', dtype=torch.float16):\n",
    "            logits = model(current_context)\n",
    "            \n",
    "        logits = logits[:, -1, :] / temperature\n",
    "        \n",
    "        # Top-k sampling\n",
    "        if top_k > 0:\n",
    "            top_k_logits, top_k_indices = torch.topk(logits, top_k)\n",
    "            logits = torch.full_like(logits, float('-inf'))\n",
    "            logits.scatter_(1, top_k_indices, top_k_logits)\n",
    "        \n",
    "        probs = torch.nn.functional.softmax(logits, dim=-1)\n",
    "        idx_next = torch.multinomial(probs, num_samples=1)\n",
    "        context = torch.cat((context, idx_next), dim=1)\n",
    "\n",
    "    model.train()\n",
    "    return tokenizer.decode(context.squeeze().tolist())\n",
    "\n",
    "\n",
    "def create_optimized_reservoir_config(shared_config, train_loader):\n",
    "    \"\"\"Create optimized reservoir config based on dataset size and shared config.\"\"\"\n",
    "    \n",
    "    # Calculate training steps based on actual dataset\n",
    "    steps_per_epoch = len(train_loader)\n",
    "    total_steps = steps_per_epoch * shared_config['EPOCHS']\n",
    "    \n",
    "    # Calculate warmup and scheduling parameters\n",
    "    warmup_steps = min(1000, total_steps // 10)  # 10% of training or 1000 steps, whichever is smaller\n",
    "    \n",
    "    config = {\n",
    "        # Model architecture\n",
    "        'embedding_dim': 384,  # Slightly smaller for efficiency\n",
    "        'num_blocks': 3,       # More blocks, each smaller\n",
    "        'max_seq_len': shared_config['BLOCK_SIZE'] * 2,  # Based on your block size\n",
    "        'tie_weights': True,   # Tie embedding and output weights\n",
    "        'dropout': 0.1,\n",
    "        \n",
    "        'reservoirs_per_block': [\n",
    "            # Fewer, more focused reservoirs per block\n",
    "            {'reservoir_size': 192, 'window_size': min(64, shared_config['BLOCK_SIZE']//2), \n",
    "             'spectral_radius': 0.95, 'sparsity': 0.2, 'activation': 'gelu'},\n",
    "            {'reservoir_size': 256, 'window_size': min(32, shared_config['BLOCK_SIZE']//4), \n",
    "             'spectral_radius': 1.05, 'sparsity': 0.15, 'activation': 'gelu'},\n",
    "        ],\n",
    "        'readout_hidden_size': 192,\n",
    "        \n",
    "        # Training params from shared config\n",
    "        'BATCH_SIZE': shared_config['BATCH_SIZE'],\n",
    "        'BLOCK_SIZE': shared_config['BLOCK_SIZE'],\n",
    "        'EVAL_INTERVAL': shared_config['EVAL_INTERVAL'],\n",
    "        'EVAL_ITER': shared_config['EVAL_ITER'],\n",
    "        'DEVICE': shared_config['DEVICE'],\n",
    "        'EPOCHS': shared_config['EPOCHS'],\n",
    "        'SAVE_PATH': shared_config['RESERVOIR_SAVE_PATH'],\n",
    "        \n",
    "        # Calculated training parameters\n",
    "        'steps_per_epoch': steps_per_epoch,\n",
    "        'total_steps': total_steps,\n",
    "        'warmup_steps': warmup_steps,\n",
    "        \n",
    "        # Optimized learning parameters\n",
    "        'LR': 3e-4,           # Higher initial learning rate\n",
    "        'weight_decay': 0.01,  # L2 regularization\n",
    "        'accumulation_steps': 4,  # Gradient accumulation\n",
    "        \n",
    "        # Generation parameters\n",
    "        'temperature': 0.8,\n",
    "        'top_k': 50,\n",
    "    }\n",
    "    \n",
    "    print(f\"Training configuration:\")\n",
    "    print(f\"  Dataset size: {len(train_loader.dataset):,} sequences\")\n",
    "    print(f\"  Steps per epoch: {steps_per_epoch:,}\")\n",
    "    print(f\"  Total training steps: {total_steps:,}\")\n",
    "    print(f\"  Warmup steps: {warmup_steps:,}\")\n",
    "    print(f\"  Effective batch size: {config['BATCH_SIZE'] * config['accumulation_steps']}\")\n",
    "    \n",
    "    return config\n",
    "\n",
    "\n",
    "def get_cosine_schedule_with_warmup(optimizer, warmup_steps, total_steps):\n",
    "    \"\"\"Creates a cosine annealing scheduler with warmup based on actual training steps.\"\"\"\n",
    "    def lr_lambda(step):\n",
    "        if step < warmup_steps:\n",
    "            # Linear warmup\n",
    "            return step / warmup_steps\n",
    "        elif total_steps <= warmup_steps:\n",
    "            # Edge case: no cosine annealing phase, maintain warmup final value\n",
    "            return 1.0\n",
    "        else:\n",
    "            # Cosine annealing\n",
    "            progress = (step - warmup_steps) / (total_steps - warmup_steps)\n",
    "            return 0.5 * (1 + np.cos(np.pi * progress))\n",
    "    \n",
    "    return torch.optim.lr_scheduler.LambdaLR(optimizer, lr_lambda)\n",
    "\n",
    "\n",
    "# Training function with all optimizations\n",
    "def train_optimized_reservoir_model(model, train_loader, val_loader, config, tokenizer, shared_config):\n",
    "    \"\"\"Optimized training loop with mixed precision, gradient accumulation, and cosine scheduling.\"\"\"\n",
    "    \n",
    "    criterion = nn.CrossEntropyLoss()\n",
    "    optimizer = torch.optim.AdamW(\n",
    "        model.parameters(), \n",
    "        lr=config['LR'], \n",
    "        weight_decay=config['weight_decay'],\n",
    "        betas=(0.9, 0.95)  # Better betas for language modeling\n",
    "    )\n",
    "    \n",
    "    scheduler = get_cosine_schedule_with_warmup(\n",
    "        optimizer, \n",
    "        config['warmup_steps'], \n",
    "        config['total_steps']\n",
    "    )\n",
    "    \n",
    "    # Mixed precision training\n",
    "    scaler = torch.cuda.amp.GradScaler()\n",
    "    \n",
    "    # Gradient accumulation\n",
    "    accumulation_steps = config['accumulation_steps']\n",
    "    \n",
    "    train_losses = []\n",
    "    val_perplexities = []\n",
    "    learning_rates = []\n",
    "    steps = []\n",
    "    total_batches = 0\n",
    "    \n",
    "    print(\"Starting Optimized Reservoir Model training...\")\n",
    "    print(f\"Training for {config['EPOCHS']} epochs, {config['total_steps']} total steps\")\n",
    "    \n",
    "    model.train()\n",
    "    optimizer.zero_grad()\n",
    "    \n",
    "    for epoch in range(config['EPOCHS']):\n",
    "        print(f\"\\n--- Epoch {epoch + 1}/{config['EPOCHS']} ---\")\n",
    "        pbar = tqdm(train_loader, desc=f\"Epoch {epoch + 1}\")\n",
    "        \n",
    "        for x, y in pbar:\n",
    "            total_batches += 1\n",
    "            x, y = x.to(config['DEVICE']), y.to(config['DEVICE'])\n",
    "            \n",
    "            # Mixed precision forward pass\n",
    "            with torch.autocast(device_type='cuda', dtype=torch.float16):\n",
    "                logits = model(x)\n",
    "                B, T, C = logits.shape\n",
    "                loss = criterion(logits.view(B * T, C), y.view(B * T))\n",
    "                loss = loss / accumulation_steps  # Scale loss for accumulation\n",
    "            \n",
    "            # Backward pass with gradient scaling\n",
    "            scaler.scale(loss).backward()\n",
    "            \n",
    "            if total_batches % accumulation_steps == 0:\n",
    "                # Gradient clipping\n",
    "                scaler.unscale_(optimizer)\n",
    "                torch.nn.utils.clip_grad_norm_(model.parameters(), 1.0)\n",
    "                \n",
    "                # Optimizer step\n",
    "                scaler.step(optimizer)\n",
    "                scaler.update()\n",
    "                scheduler.step()\n",
    "                optimizer.zero_grad()\n",
    "            \n",
    "            train_losses.append(loss.item() * accumulation_steps)  # Unscale for logging\n",
    "            current_lr = scheduler.get_last_lr()[0]\n",
    "            learning_rates.append(current_lr)\n",
    "            \n",
    "            pbar.set_postfix({\n",
    "                'loss': f\"{loss.item() * accumulation_steps:.4f}\",\n",
    "                'lr': f\"{current_lr:.2e}\",\n",
    "                'step': f\"{total_batches}/{config['total_steps']}\"\n",
    "            })\n",
    "            \n",
    "            # Evaluation\n",
    "            if total_batches % config['EVAL_INTERVAL'] == 0:\n",
    "                val_loss = eval_reservoir_model(model, val_loader, config)\n",
    "                perplexity = np.exp(val_loss)\n",
    "                val_perplexities.append(perplexity)\n",
    "                steps.append(total_batches)\n",
    "                \n",
    "                print(f\"\\nStep {total_batches}: Val Loss: {val_loss:.4f}, Perplexity: {perplexity:.4f}\")\n",
    "                \n",
    "                # Generate sample\n",
    "                generated_text = generate_from_reservoir(\n",
    "                    model, \"Once upon a time\", shared_config['MAX_OUT_TOKENS'], config, tokenizer\n",
    "                )\n",
    "                print(\"Generated:\", generated_text[:150] + \"...\")\n",
    "            \n",
    "            # Stop if we've reached the total steps\n",
    "            if total_batches >= config['total_steps']:\n",
    "                break\n",
    "        \n",
    "        # Break from epoch loop if we've reached total steps\n",
    "        if total_batches >= config['total_steps']:\n",
    "            break\n",
    "    \n",
    "    print(f\"\\nTraining completed! Total steps: {total_batches}\")\n",
    "    \n",
    "    return {\n",
    "        'train_losses': train_losses,\n",
    "        'val_perplexities': val_perplexities,\n",
    "        'learning_rates': learning_rates,\n",
    "        'steps': steps\n",
    "    }\n",
    "\n",
    "optimized_reservoir_config = create_optimized_reservoir_config(SHARED_CONFIG, train_loader)\n",
    "\n",
    "optimized_model = OptimizedDeepReservoirModel(\n",
    "    vocab_size=tokenizer.vocab_size,\n",
    "    config=optimized_reservoir_config\n",
    ").to(optimized_reservoir_config['DEVICE'])\n",
    "\n",
    "print(f\"Optimized model: {sum(p.numel() for p in optimized_model.parameters() if p.requires_grad):,} trainable parameters\")"
   ]
  },
  {
   "cell_type": "code",
   "execution_count": 5,
   "id": "946772af",
   "metadata": {
    "execution": {
     "iopub.execute_input": "2025-08-01T09:22:06.695592Z",
     "iopub.status.busy": "2025-08-01T09:22:06.695199Z",
     "iopub.status.idle": "2025-08-01T12:54:15.207847Z",
     "shell.execute_reply": "2025-08-01T12:54:15.207229Z"
    },
    "papermill": {
     "duration": 12728.521288,
     "end_time": "2025-08-01T12:54:15.209384",
     "exception": false,
     "start_time": "2025-08-01T09:22:06.688096",
     "status": "completed"
    },
    "tags": []
   },
   "outputs": [
    {
     "name": "stderr",
     "output_type": "stream",
     "text": [
      "/tmp/ipykernel_19/338642556.py:338: FutureWarning: `torch.cuda.amp.GradScaler(args...)` is deprecated. Please use `torch.amp.GradScaler('cuda', args...)` instead.\n",
      "  scaler = torch.cuda.amp.GradScaler()\n"
     ]
    },
    {
     "name": "stdout",
     "output_type": "stream",
     "text": [
      "Starting Optimized Reservoir Model training...\n",
      "Training for 4 epochs, 52416 total steps\n",
      "\n",
      "--- Epoch 1/4 ---\n"
     ]
    },
    {
     "name": "stderr",
     "output_type": "stream",
     "text": [
      "Epoch 1:   8%|▊         | 999/13104 [03:59<48:02,  4.20it/s, loss=6.2596, lr=7.50e-05, step=1000/52416]"
     ]
    },
    {
     "name": "stdout",
     "output_type": "stream",
     "text": [
      "\n",
      "Step 1000: Val Loss: 6.1633, Perplexity: 474.9706\n"
     ]
    },
    {
     "name": "stderr",
     "output_type": "stream",
     "text": [
      "Epoch 1:   8%|▊         | 1000/13104 [04:03<5:27:38,  1.62s/it, loss=6.2596, lr=7.50e-05, step=1000/52416]"
     ]
    },
    {
     "name": "stdout",
     "output_type": "stream",
     "text": [
      "Generated: Once upon a time so wanted were.....\n",
      "\n",
      "\n",
      "\n",
      " the. had his\n",
      " mom and.. in, the the\n",
      "\n",
      "\n",
      " a.\n",
      ". the...\n",
      " is. is Lily,\n",
      " but be the. I they,.. a, He the The little ...\n"
     ]
    },
    {
     "name": "stderr",
     "output_type": "stream",
     "text": [
      "Epoch 1:  15%|█▌        | 1999/13104 [08:02<44:03,  4.20it/s, loss=4.3522, lr=1.50e-04, step=2000/52416]"
     ]
    },
    {
     "name": "stdout",
     "output_type": "stream",
     "text": [
      "\n",
      "Step 2000: Val Loss: 4.2907, Perplexity: 73.0146\n"
     ]
    },
    {
     "name": "stderr",
     "output_type": "stream",
     "text": [
      "Epoch 1:  15%|█▌        | 2000/13104 [08:06<4:44:35,  1.54s/it, loss=4.3522, lr=1.50e-04, step=2000/52416]"
     ]
    },
    {
     "name": "stdout",
     "output_type": "stream",
     "text": [
      "Generated: Once upon a time, but Jack and saw a very happy to the car. She's not good with it could it.\n",
      "\n",
      "The man was very happy! \n",
      "\n",
      "\n",
      "The little were so excited. H...\n"
     ]
    },
    {
     "name": "stderr",
     "output_type": "stream",
     "text": [
      "Epoch 1:  23%|██▎       | 2999/13104 [12:05<40:05,  4.20it/s, loss=3.6326, lr=2.25e-04, step=3000/52416]"
     ]
    },
    {
     "name": "stdout",
     "output_type": "stream",
     "text": [
      "\n",
      "Step 3000: Val Loss: 3.8118, Perplexity: 45.2296\n"
     ]
    },
    {
     "name": "stderr",
     "output_type": "stream",
     "text": [
      "Epoch 1:  23%|██▎       | 3000/13104 [12:09<4:19:20,  1.54s/it, loss=3.6326, lr=2.25e-04, step=3000/52416]"
     ]
    },
    {
     "name": "stdout",
     "output_type": "stream",
     "text": [
      "Generated: Once upon a time, there was a little girl named Tim. He loved to play with it.\n",
      "\n",
      "\"That's go on the new toy car as she made for the little girl.\n",
      "\n",
      "The li...\n"
     ]
    },
    {
     "name": "stderr",
     "output_type": "stream",
     "text": [
      "Epoch 1:  31%|███       | 3999/13104 [16:07<36:07,  4.20it/s, loss=3.2816, lr=3.00e-04, step=4000/52416]"
     ]
    },
    {
     "name": "stdout",
     "output_type": "stream",
     "text": [
      "\n",
      "Step 4000: Val Loss: 3.6972, Perplexity: 40.3361\n"
     ]
    },
    {
     "name": "stderr",
     "output_type": "stream",
     "text": [
      "Epoch 1:  31%|███       | 4000/13104 [16:12<3:53:26,  1.54s/it, loss=3.2816, lr=3.00e-04, step=4000/52416]"
     ]
    },
    {
     "name": "stdout",
     "output_type": "stream",
     "text": [
      "Generated: Once upon a time, there was a little boy who was too fast. It was so happy. The fox called Joe in his friends. As his mum the animals, Jack was a good...\n"
     ]
    },
    {
     "name": "stderr",
     "output_type": "stream",
     "text": [
      "Epoch 1:  38%|███▊      | 4999/13104 [20:10<32:11,  4.20it/s, loss=2.9669, lr=3.00e-04, step=5000/52416]"
     ]
    },
    {
     "name": "stdout",
     "output_type": "stream",
     "text": [
      "\n",
      "Step 5000: Val Loss: 3.6841, Perplexity: 39.8099\n"
     ]
    },
    {
     "name": "stderr",
     "output_type": "stream",
     "text": [
      "Epoch 1:  38%|███▊      | 5000/13104 [20:15<3:27:51,  1.54s/it, loss=2.9669, lr=3.00e-04, step=5000/52416]"
     ]
    },
    {
     "name": "stdout",
     "output_type": "stream",
     "text": [
      "Generated: Once upon a time, there was a little boy named Jack who lived in a big and beautiful flower. They started to find some other and the water. \n",
      "\n",
      "Then, sh...\n"
     ]
    },
    {
     "name": "stderr",
     "output_type": "stream",
     "text": [
      "Epoch 1:  46%|████▌     | 5999/13104 [24:13<28:13,  4.20it/s, loss=2.6711, lr=3.00e-04, step=6000/52416]"
     ]
    },
    {
     "name": "stdout",
     "output_type": "stream",
     "text": [
      "\n",
      "Step 6000: Val Loss: 3.7554, Perplexity: 42.7510\n"
     ]
    },
    {
     "name": "stderr",
     "output_type": "stream",
     "text": [
      "Epoch 1:  46%|████▌     | 6000/13104 [24:18<3:02:39,  1.54s/it, loss=2.6711, lr=3.00e-04, step=6000/52416]"
     ]
    },
    {
     "name": "stdout",
     "output_type": "stream",
     "text": [
      "Generated: Once upon a time, there was a little girl named John. She loved to play with the big green ball. One day, she heard a big tree with her tiring, he. Sh...\n"
     ]
    },
    {
     "name": "stderr",
     "output_type": "stream",
     "text": [
      "Epoch 1:  53%|█████▎    | 6999/13104 [28:16<24:13,  4.20it/s, loss=2.5604, lr=3.00e-04, step=7000/52416]"
     ]
    },
    {
     "name": "stdout",
     "output_type": "stream",
     "text": [
      "\n",
      "Step 7000: Val Loss: 3.8376, Perplexity: 46.4159\n"
     ]
    },
    {
     "name": "stderr",
     "output_type": "stream",
     "text": [
      "Epoch 1:  53%|█████▎    | 7000/13104 [28:21<2:36:32,  1.54s/it, loss=2.5604, lr=3.00e-04, step=7000/52416]"
     ]
    },
    {
     "name": "stdout",
     "output_type": "stream",
     "text": [
      "Generated: Once upon a time, there was a little boy named Lily. It had a three years old. One day, she saw a big, in a big boat in a big red marble. The dog want...\n"
     ]
    },
    {
     "name": "stderr",
     "output_type": "stream",
     "text": [
      "Epoch 1:  61%|██████    | 7999/13104 [32:19<20:15,  4.20it/s, loss=2.2271, lr=3.00e-04, step=8000/52416]"
     ]
    },
    {
     "name": "stdout",
     "output_type": "stream",
     "text": [
      "\n",
      "Step 8000: Val Loss: 3.9390, Perplexity: 51.3670\n"
     ]
    },
    {
     "name": "stderr",
     "output_type": "stream",
     "text": [
      "Epoch 1:  61%|██████    | 8000/13104 [32:23<2:10:44,  1.54s/it, loss=2.2271, lr=3.00e-04, step=8000/52416]"
     ]
    },
    {
     "name": "stdout",
     "output_type": "stream",
     "text": [
      "Generated: Once upon a time there was a little girl called out. She was only 3 years old and she loved to play with her toys. One day, she noticed something stra...\n"
     ]
    },
    {
     "name": "stderr",
     "output_type": "stream",
     "text": [
      "Epoch 1:  69%|██████▊   | 8999/13104 [36:22<16:16,  4.20it/s, loss=2.1828, lr=3.00e-04, step=9000/52416]"
     ]
    },
    {
     "name": "stdout",
     "output_type": "stream",
     "text": [
      "\n",
      "Step 9000: Val Loss: 4.0594, Perplexity: 57.9385\n"
     ]
    },
    {
     "name": "stderr",
     "output_type": "stream",
     "text": [
      "Epoch 1:  69%|██████▊   | 9000/13104 [36:26<1:45:09,  1.54s/it, loss=2.1828, lr=3.00e-04, step=9000/52416]"
     ]
    },
    {
     "name": "stdout",
     "output_type": "stream",
     "text": [
      "Generated: Once upon a time, there was a generous rabbit named Jack. She loved to play and the park with his favorite toy. One day, while playing a big, red vest...\n"
     ]
    },
    {
     "name": "stderr",
     "output_type": "stream",
     "text": [
      "Epoch 1:  76%|███████▋  | 9999/13104 [40:25<12:19,  4.20it/s, loss=2.0047, lr=2.99e-04, step=10000/52416]"
     ]
    },
    {
     "name": "stdout",
     "output_type": "stream",
     "text": [
      "\n",
      "Step 10000: Val Loss: 4.1540, Perplexity: 63.6874\n"
     ]
    },
    {
     "name": "stderr",
     "output_type": "stream",
     "text": [
      "Epoch 1:  76%|███████▋  | 10000/13104 [40:29<1:19:29,  1.54s/it, loss=2.0047, lr=2.99e-04, step=10000/52416]"
     ]
    },
    {
     "name": "stdout",
     "output_type": "stream",
     "text": [
      "Generated: Once upon a time, there was a little boy named Timmy. Timmy loved to play outside. One day, he saw a big tree in his house. The car was very sad to th...\n"
     ]
    },
    {
     "name": "stderr",
     "output_type": "stream",
     "text": [
      "Epoch 1:  84%|████████▍ | 10999/13104 [44:27<08:21,  4.20it/s, loss=1.9287, lr=2.99e-04, step=11000/52416]"
     ]
    },
    {
     "name": "stdout",
     "output_type": "stream",
     "text": [
      "\n",
      "Step 11000: Val Loss: 4.2691, Perplexity: 71.4569\n"
     ]
    },
    {
     "name": "stderr",
     "output_type": "stream",
     "text": [
      "Epoch 1:  84%|████████▍ | 11000/13104 [44:32<53:53,  1.54s/it, loss=1.9287, lr=2.99e-04, step=11000/52416]"
     ]
    },
    {
     "name": "stdout",
     "output_type": "stream",
     "text": [
      "Generated: Once upon a time, there was a little girl who loved to play with the beach. One day, she saw an idea. She saw a big green apple in her backyard. She w...\n"
     ]
    },
    {
     "name": "stderr",
     "output_type": "stream",
     "text": [
      "Epoch 1:  92%|█████████▏| 11999/13104 [48:30<04:22,  4.20it/s, loss=1.7193, lr=2.99e-04, step=12000/52416]"
     ]
    },
    {
     "name": "stdout",
     "output_type": "stream",
     "text": [
      "\n",
      "Step 12000: Val Loss: 4.4245, Perplexity: 83.4730\n"
     ]
    },
    {
     "name": "stderr",
     "output_type": "stream",
     "text": [
      "Epoch 1:  92%|█████████▏| 12000/13104 [48:35<28:16,  1.54s/it, loss=1.7193, lr=2.99e-04, step=12000/52416]"
     ]
    },
    {
     "name": "stdout",
     "output_type": "stream",
     "text": [
      "Generated: Once upon a time, there was a little girl named Jane. She was only three years old. One day, she saw a special visit place - it had a secret.\n",
      "\n",
      "One day...\n"
     ]
    },
    {
     "name": "stderr",
     "output_type": "stream",
     "text": [
      "Epoch 1:  99%|█████████▉| 12999/13104 [52:33<00:24,  4.20it/s, loss=1.6316, lr=2.99e-04, step=13000/52416]"
     ]
    },
    {
     "name": "stdout",
     "output_type": "stream",
     "text": [
      "\n",
      "Step 13000: Val Loss: 4.5203, Perplexity: 91.8674\n"
     ]
    },
    {
     "name": "stderr",
     "output_type": "stream",
     "text": [
      "Epoch 1:  99%|█████████▉| 13000/13104 [52:37<02:39,  1.54s/it, loss=1.6316, lr=2.99e-04, step=13000/52416]"
     ]
    },
    {
     "name": "stdout",
     "output_type": "stream",
     "text": [
      "Generated: Once upon a time, there was a little girl named Lily. She loved to play all day, but he was much better smile. One day, she decided to create new thin...\n"
     ]
    },
    {
     "name": "stderr",
     "output_type": "stream",
     "text": [
      "Epoch 1: 100%|██████████| 13104/13104 [53:02<00:00,  4.12it/s, loss=1.7395, lr=2.99e-04, step=13104/52416]\n"
     ]
    },
    {
     "name": "stdout",
     "output_type": "stream",
     "text": [
      "\n",
      "--- Epoch 2/4 ---\n"
     ]
    },
    {
     "name": "stderr",
     "output_type": "stream",
     "text": [
      "Epoch 2:   7%|▋         | 895/13104 [03:33<48:23,  4.21it/s, loss=1.6050, lr=2.98e-04, step=14000/52416]"
     ]
    },
    {
     "name": "stdout",
     "output_type": "stream",
     "text": [
      "\n",
      "Step 14000: Val Loss: 4.6519, Perplexity: 104.7887\n"
     ]
    },
    {
     "name": "stderr",
     "output_type": "stream",
     "text": [
      "Epoch 2:   7%|▋         | 896/13104 [03:38<5:12:29,  1.54s/it, loss=1.6050, lr=2.98e-04, step=14000/52416]"
     ]
    },
    {
     "name": "stdout",
     "output_type": "stream",
     "text": [
      "Generated: Once upon a time, there was a little girl named Lily. She loved to play with her toys and eat it every day. One day, Lily saw a little girl named Lily...\n"
     ]
    },
    {
     "name": "stderr",
     "output_type": "stream",
     "text": [
      "Epoch 2:  14%|█▍        | 1895/13104 [07:36<44:24,  4.21it/s, loss=1.4621, lr=2.98e-04, step=15000/52416]"
     ]
    },
    {
     "name": "stdout",
     "output_type": "stream",
     "text": [
      "\n",
      "Step 15000: Val Loss: 4.7632, Perplexity: 117.1145\n"
     ]
    },
    {
     "name": "stderr",
     "output_type": "stream",
     "text": [
      "Epoch 2:  14%|█▍        | 1896/13104 [07:40<4:46:50,  1.54s/it, loss=1.4621, lr=2.98e-04, step=15000/52416]"
     ]
    },
    {
     "name": "stdout",
     "output_type": "stream",
     "text": [
      "Generated: Once upon a time, there was a little girl named Sue. Sue lived in a small house with her friends. One day, she would go to see her parents and her mom...\n"
     ]
    },
    {
     "name": "stderr",
     "output_type": "stream",
     "text": [
      "Epoch 2:  22%|██▏       | 2895/13104 [11:39<40:29,  4.20it/s, loss=1.4109, lr=2.97e-04, step=16000/52416]"
     ]
    },
    {
     "name": "stdout",
     "output_type": "stream",
     "text": [
      "\n",
      "Step 16000: Val Loss: 4.8566, Perplexity: 128.5914\n"
     ]
    },
    {
     "name": "stderr",
     "output_type": "stream",
     "text": [
      "Epoch 2:  22%|██▏       | 2896/13104 [11:43<4:21:16,  1.54s/it, loss=1.4109, lr=2.97e-04, step=16000/52416]"
     ]
    },
    {
     "name": "stdout",
     "output_type": "stream",
     "text": [
      "Generated: Once upon a time, there was a little girl named Lily. She loved to go on the garden and people. One day, Lily and Jill got to her bed with her friends...\n"
     ]
    },
    {
     "name": "stderr",
     "output_type": "stream",
     "text": [
      "Epoch 2:  30%|██▉       | 3895/13104 [15:41<36:29,  4.21it/s, loss=1.3222, lr=2.97e-04, step=17000/52416]"
     ]
    },
    {
     "name": "stdout",
     "output_type": "stream",
     "text": [
      "\n",
      "Step 17000: Val Loss: 4.9691, Perplexity: 143.8950\n"
     ]
    },
    {
     "name": "stderr",
     "output_type": "stream",
     "text": [
      "Epoch 2:  30%|██▉       | 3896/13104 [15:46<3:55:40,  1.54s/it, loss=1.3222, lr=2.97e-04, step=17000/52416]"
     ]
    },
    {
     "name": "stdout",
     "output_type": "stream",
     "text": [
      "Generated: Once upon a time, there was a friendly dog. It was a shiny things. He wanted to do it was a long time with me and wanted to race its colors. It said i...\n"
     ]
    },
    {
     "name": "stderr",
     "output_type": "stream",
     "text": [
      "Epoch 2:  37%|███▋      | 4895/13104 [19:44<32:33,  4.20it/s, loss=1.2062, lr=2.97e-04, step=18000/52416]"
     ]
    },
    {
     "name": "stdout",
     "output_type": "stream",
     "text": [
      "\n",
      "Step 18000: Val Loss: 5.0836, Perplexity: 161.3599\n"
     ]
    },
    {
     "name": "stderr",
     "output_type": "stream",
     "text": [
      "Epoch 2:  37%|███▋      | 4896/13104 [19:48<3:30:13,  1.54s/it, loss=1.2062, lr=2.97e-04, step=18000/52416]"
     ]
    },
    {
     "name": "stdout",
     "output_type": "stream",
     "text": [
      "Generated: Once upon a time, there was a little boy named Timmy. Timmy loved to play football. One day he was very curious and have to his surprise. He was very ...\n"
     ]
    },
    {
     "name": "stderr",
     "output_type": "stream",
     "text": [
      "Epoch 2:  45%|████▍     | 5895/13104 [23:47<28:34,  4.21it/s, loss=1.1897, lr=2.96e-04, step=19000/52416]"
     ]
    },
    {
     "name": "stdout",
     "output_type": "stream",
     "text": [
      "\n",
      "Step 19000: Val Loss: 5.1944, Perplexity: 180.2535\n"
     ]
    },
    {
     "name": "stderr",
     "output_type": "stream",
     "text": [
      "Epoch 2:  45%|████▍     | 5896/13104 [23:51<3:04:26,  1.54s/it, loss=1.1897, lr=2.96e-04, step=19000/52416]"
     ]
    },
    {
     "name": "stdout",
     "output_type": "stream",
     "text": [
      "Generated: Once upon a time, there was a little girl named Lily. She loved to play outside with her and eat many things. One day, when she woke up to go near the...\n"
     ]
    },
    {
     "name": "stderr",
     "output_type": "stream",
     "text": [
      "Epoch 2:  53%|█████▎    | 6895/13104 [27:49<24:38,  4.20it/s, loss=1.1682, lr=2.96e-04, step=20000/52416]"
     ]
    },
    {
     "name": "stdout",
     "output_type": "stream",
     "text": [
      "\n",
      "Step 20000: Val Loss: 5.2924, Perplexity: 198.8202\n"
     ]
    },
    {
     "name": "stderr",
     "output_type": "stream",
     "text": [
      "Epoch 2:  53%|█████▎    | 6896/13104 [27:54<2:38:55,  1.54s/it, loss=1.1682, lr=2.96e-04, step=20000/52416]"
     ]
    },
    {
     "name": "stdout",
     "output_type": "stream",
     "text": [
      "Generated: Once upon a time, there was a big fire field with a big house. He was so excited and he loved to go. Every day something he could see the other animal...\n"
     ]
    },
    {
     "name": "stderr",
     "output_type": "stream",
     "text": [
      "Epoch 2:  60%|██████    | 7895/13104 [31:52<20:40,  4.20it/s, loss=1.1463, lr=2.95e-04, step=21000/52416]"
     ]
    },
    {
     "name": "stdout",
     "output_type": "stream",
     "text": [
      "\n",
      "Step 21000: Val Loss: 5.3549, Perplexity: 211.6382\n"
     ]
    },
    {
     "name": "stderr",
     "output_type": "stream",
     "text": [
      "Epoch 2:  60%|██████    | 7896/13104 [31:56<2:13:19,  1.54s/it, loss=1.1463, lr=2.95e-04, step=21000/52416]"
     ]
    },
    {
     "name": "stdout",
     "output_type": "stream",
     "text": [
      "Generated: Once upon a time, there was a little girl named Lily. She loved to play with her toys and play catch one day. One day, Lily found a special thing to g...\n"
     ]
    },
    {
     "name": "stderr",
     "output_type": "stream",
     "text": [
      "Epoch 2:  68%|██████▊   | 8895/13104 [35:55<16:41,  4.20it/s, loss=1.0612, lr=2.94e-04, step=22000/52416]"
     ]
    },
    {
     "name": "stdout",
     "output_type": "stream",
     "text": [
      "\n",
      "Step 22000: Val Loss: 5.4269, Perplexity: 227.4425\n"
     ]
    },
    {
     "name": "stderr",
     "output_type": "stream",
     "text": [
      "Epoch 2:  68%|██████▊   | 8896/13104 [35:59<1:47:41,  1.54s/it, loss=1.0612, lr=2.94e-04, step=22000/52416]"
     ]
    },
    {
     "name": "stdout",
     "output_type": "stream",
     "text": [
      "Generated: Once upon a time, there was a little boy named Timmy. Timmy wanted to play hide and play with his toys. One day, Timmy's mom told her what to play wit...\n"
     ]
    },
    {
     "name": "stderr",
     "output_type": "stream",
     "text": [
      "Epoch 2:  76%|███████▌  | 9895/13104 [39:57<12:43,  4.20it/s, loss=0.9973, lr=2.94e-04, step=23000/52416]"
     ]
    },
    {
     "name": "stdout",
     "output_type": "stream",
     "text": [
      "\n",
      "Step 23000: Val Loss: 5.5343, Perplexity: 253.2197\n"
     ]
    },
    {
     "name": "stderr",
     "output_type": "stream",
     "text": [
      "Epoch 2:  76%|███████▌  | 9896/13104 [40:02<1:22:12,  1.54s/it, loss=0.9973, lr=2.94e-04, step=23000/52416]"
     ]
    },
    {
     "name": "stdout",
     "output_type": "stream",
     "text": [
      "Generated: Once upon a time, there was a little girl named Lily. She wanted to play with her favorite dress in it. One day, she decided to play outside with her ...\n"
     ]
    },
    {
     "name": "stderr",
     "output_type": "stream",
     "text": [
      "Epoch 2:  83%|████████▎ | 10895/13104 [44:00<08:46,  4.20it/s, loss=1.0009, lr=2.93e-04, step=24000/52416]"
     ]
    },
    {
     "name": "stdout",
     "output_type": "stream",
     "text": [
      "\n",
      "Step 24000: Val Loss: 5.6265, Perplexity: 277.6935\n"
     ]
    },
    {
     "name": "stderr",
     "output_type": "stream",
     "text": [
      "Epoch 2:  83%|████████▎ | 10896/13104 [44:05<56:39,  1.54s/it, loss=1.0009, lr=2.93e-04, step=24000/52416]"
     ]
    },
    {
     "name": "stdout",
     "output_type": "stream",
     "text": [
      "Generated: Once upon a time, there was a little girl named Lily. She loved to play with her toys and play all things with her toys everywhere. One day, they noti...\n"
     ]
    },
    {
     "name": "stderr",
     "output_type": "stream",
     "text": [
      "Epoch 2:  91%|█████████ | 11895/13104 [48:03<04:48,  4.19it/s, loss=0.9785, lr=2.92e-04, step=25000/52416]"
     ]
    },
    {
     "name": "stdout",
     "output_type": "stream",
     "text": [
      "\n",
      "Step 25000: Val Loss: 5.6980, Perplexity: 298.2616\n"
     ]
    },
    {
     "name": "stderr",
     "output_type": "stream",
     "text": [
      "Epoch 2:  91%|█████████ | 11896/13104 [48:08<30:58,  1.54s/it, loss=0.9785, lr=2.92e-04, step=25000/52416]"
     ]
    },
    {
     "name": "stdout",
     "output_type": "stream",
     "text": [
      "Generated: Once upon a time there was a little girl named Jane. She was very smart and being three years old. One day, Sarah took her toys by her up to her mommy...\n"
     ]
    },
    {
     "name": "stderr",
     "output_type": "stream",
     "text": [
      "Epoch 2:  98%|█████████▊| 12895/13104 [52:06<00:49,  4.20it/s, loss=0.9702, lr=2.92e-04, step=26000/52416]"
     ]
    },
    {
     "name": "stdout",
     "output_type": "stream",
     "text": [
      "\n",
      "Step 26000: Val Loss: 5.7738, Perplexity: 321.7443\n"
     ]
    },
    {
     "name": "stderr",
     "output_type": "stream",
     "text": [
      "Epoch 2:  98%|█████████▊| 12896/13104 [52:10<05:20,  1.54s/it, loss=0.9702, lr=2.92e-04, step=26000/52416]"
     ]
    },
    {
     "name": "stdout",
     "output_type": "stream",
     "text": [
      "Generated: Once upon a time, there was a little girl named Lily. She loved to go on the backyard and explore the world around the store. One day, Daisy saw a gir...\n"
     ]
    },
    {
     "name": "stderr",
     "output_type": "stream",
     "text": [
      "Epoch 2: 100%|██████████| 13104/13104 [53:00<00:00,  4.12it/s, loss=1.0138, lr=2.91e-04, step=26208/52416]\n"
     ]
    },
    {
     "name": "stdout",
     "output_type": "stream",
     "text": [
      "\n",
      "--- Epoch 3/4 ---\n"
     ]
    },
    {
     "name": "stderr",
     "output_type": "stream",
     "text": [
      "Epoch 3:   6%|▌         | 791/13104 [03:08<48:53,  4.20it/s, loss=0.9715, lr=2.91e-04, step=27000/52416]"
     ]
    },
    {
     "name": "stdout",
     "output_type": "stream",
     "text": [
      "\n",
      "Step 27000: Val Loss: 5.8440, Perplexity: 345.1599\n"
     ]
    },
    {
     "name": "stderr",
     "output_type": "stream",
     "text": [
      "Epoch 3:   6%|▌         | 792/13104 [03:13<5:15:22,  1.54s/it, loss=0.9715, lr=2.91e-04, step=27000/52416]"
     ]
    },
    {
     "name": "stdout",
     "output_type": "stream",
     "text": [
      "Generated: Once upon a time, there was a little girl named Lily. She loved to play dress and strong and build her favorite object. One day, she found her daddy f...\n"
     ]
    },
    {
     "name": "stderr",
     "output_type": "stream",
     "text": [
      "Epoch 3:  14%|█▎        | 1791/13104 [07:11<44:55,  4.20it/s, loss=0.9793, lr=2.90e-04, step=28000/52416]"
     ]
    },
    {
     "name": "stdout",
     "output_type": "stream",
     "text": [
      "\n",
      "Step 28000: Val Loss: 5.9327, Perplexity: 377.1745\n"
     ]
    },
    {
     "name": "stderr",
     "output_type": "stream",
     "text": [
      "Epoch 3:  14%|█▎        | 1792/13104 [07:16<4:50:29,  1.54s/it, loss=0.9793, lr=2.90e-04, step=28000/52416]"
     ]
    },
    {
     "name": "stdout",
     "output_type": "stream",
     "text": [
      "Generated: Once upon a time, there was a little girl named Lily. She loved very smart and very cold. One day, the angel looked everywhere.\n",
      "\n",
      "One day, a little gir...\n"
     ]
    },
    {
     "name": "stderr",
     "output_type": "stream",
     "text": [
      "Epoch 3:  21%|██▏       | 2791/13104 [11:14<40:52,  4.21it/s, loss=0.9017, lr=2.89e-04, step=29000/52416]"
     ]
    },
    {
     "name": "stdout",
     "output_type": "stream",
     "text": [
      "\n",
      "Step 29000: Val Loss: 5.9977, Perplexity: 402.5163\n"
     ]
    },
    {
     "name": "stderr",
     "output_type": "stream",
     "text": [
      "Epoch 3:  21%|██▏       | 2792/13104 [11:18<4:23:58,  1.54s/it, loss=0.9017, lr=2.89e-04, step=29000/52416]"
     ]
    },
    {
     "name": "stdout",
     "output_type": "stream",
     "text": [
      "Generated: Once upon a time, there was a little boy named Timmy. Timmy loved to learn his toy cars and play with his friends. One day, Timmy found a big tree. On...\n"
     ]
    },
    {
     "name": "stderr",
     "output_type": "stream",
     "text": [
      "Epoch 3:  29%|██▉       | 3791/13104 [15:17<36:56,  4.20it/s, loss=0.8209, lr=2.88e-04, step=30000/52416]"
     ]
    },
    {
     "name": "stdout",
     "output_type": "stream",
     "text": [
      "\n",
      "Step 30000: Val Loss: 6.0300, Perplexity: 415.7265\n"
     ]
    },
    {
     "name": "stderr",
     "output_type": "stream",
     "text": [
      "Epoch 3:  29%|██▉       | 3792/13104 [15:21<3:58:24,  1.54s/it, loss=0.8209, lr=2.88e-04, step=30000/52416]"
     ]
    },
    {
     "name": "stdout",
     "output_type": "stream",
     "text": [
      "Generated: Once upon a time, there was a little boy named Timmy. Timmy loved to play with his friends and relax. One day, Timmy saw some cookies. He loved the ph...\n"
     ]
    },
    {
     "name": "stderr",
     "output_type": "stream",
     "text": [
      "Epoch 3:  37%|███▋      | 4791/13104 [19:20<32:59,  4.20it/s, loss=0.9080, lr=2.87e-04, step=31000/52416]"
     ]
    },
    {
     "name": "stdout",
     "output_type": "stream",
     "text": [
      "\n",
      "Step 31000: Val Loss: 6.1298, Perplexity: 459.3585\n"
     ]
    },
    {
     "name": "stderr",
     "output_type": "stream",
     "text": [
      "Epoch 3:  37%|███▋      | 4792/13104 [19:24<3:32:51,  1.54s/it, loss=0.9080, lr=2.87e-04, step=31000/52416]"
     ]
    },
    {
     "name": "stdout",
     "output_type": "stream",
     "text": [
      "Generated: Once upon a time, there was a little girl named Lily. She had a very much tall dress and she liked to play. One day, Lily was only one of her bedroom ...\n"
     ]
    },
    {
     "name": "stderr",
     "output_type": "stream",
     "text": [
      "Epoch 3:  44%|████▍     | 5791/13104 [23:23<29:03,  4.19it/s, loss=0.7946, lr=2.86e-04, step=32000/52416]"
     ]
    },
    {
     "name": "stdout",
     "output_type": "stream",
     "text": [
      "\n",
      "Step 32000: Val Loss: 6.1876, Perplexity: 486.6692\n"
     ]
    },
    {
     "name": "stderr",
     "output_type": "stream",
     "text": [
      "Epoch 3:  44%|████▍     | 5792/13104 [23:27<3:07:23,  1.54s/it, loss=0.7946, lr=2.86e-04, step=32000/52416]"
     ]
    },
    {
     "name": "stdout",
     "output_type": "stream",
     "text": [
      "Generated: Once upon a time there was a little girl named Jack. She loved to play with her toys, when Sally put her everywhere for the park. One day, Sally did n...\n"
     ]
    },
    {
     "name": "stderr",
     "output_type": "stream",
     "text": [
      "Epoch 3:  52%|█████▏    | 6791/13104 [27:25<25:02,  4.20it/s, loss=0.8118, lr=2.86e-04, step=33000/52416]"
     ]
    },
    {
     "name": "stdout",
     "output_type": "stream",
     "text": [
      "\n",
      "Step 33000: Val Loss: 6.2201, Perplexity: 502.7628\n"
     ]
    },
    {
     "name": "stderr",
     "output_type": "stream",
     "text": [
      "Epoch 3:  52%|█████▏    | 6792/13104 [27:30<2:41:32,  1.54s/it, loss=0.8118, lr=2.86e-04, step=33000/52416]"
     ]
    },
    {
     "name": "stdout",
     "output_type": "stream",
     "text": [
      "Generated: Once upon a time, there was a little girl named Lily. She loved to play with her toys and eat snacks. One day, Lily wanted to play with her plastic pa...\n"
     ]
    },
    {
     "name": "stderr",
     "output_type": "stream",
     "text": [
      "Epoch 3:  59%|█████▉    | 7791/13104 [31:28<21:05,  4.20it/s, loss=0.7812, lr=2.85e-04, step=34000/52416]"
     ]
    },
    {
     "name": "stdout",
     "output_type": "stream",
     "text": [
      "\n",
      "Step 34000: Val Loss: 6.2661, Perplexity: 526.4026\n"
     ]
    },
    {
     "name": "stderr",
     "output_type": "stream",
     "text": [
      "Epoch 3:  59%|█████▉    | 7792/13104 [31:33<2:16:05,  1.54s/it, loss=0.7812, lr=2.85e-04, step=34000/52416]"
     ]
    },
    {
     "name": "stdout",
     "output_type": "stream",
     "text": [
      "Generated: Once upon a time, there was a little girl named Lily. She loved to play with her toys and play outside. One day, Lily's mom gave her mom to play. She ...\n"
     ]
    },
    {
     "name": "stderr",
     "output_type": "stream",
     "text": [
      "Epoch 3:  67%|██████▋   | 8791/13104 [35:31<17:06,  4.20it/s, loss=0.8409, lr=2.83e-04, step=35000/52416]"
     ]
    },
    {
     "name": "stdout",
     "output_type": "stream",
     "text": [
      "\n",
      "Step 35000: Val Loss: 6.3502, Perplexity: 572.5787\n"
     ]
    },
    {
     "name": "stderr",
     "output_type": "stream",
     "text": [
      "Epoch 3:  67%|██████▋   | 8792/13104 [35:36<1:50:23,  1.54s/it, loss=0.8409, lr=2.83e-04, step=35000/52416]"
     ]
    },
    {
     "name": "stdout",
     "output_type": "stream",
     "text": [
      "Generated: Once upon a time there was a little girl named Sarah. She was always very curious. She wanted to pet it. She asked, \"What is that?\" Her daddy replied ...\n"
     ]
    },
    {
     "name": "stderr",
     "output_type": "stream",
     "text": [
      "Epoch 3:  75%|███████▍  | 9791/13104 [39:34<13:09,  4.20it/s, loss=0.7573, lr=2.82e-04, step=36000/52416]"
     ]
    },
    {
     "name": "stdout",
     "output_type": "stream",
     "text": [
      "\n",
      "Step 36000: Val Loss: 6.3894, Perplexity: 595.5254\n"
     ]
    },
    {
     "name": "stderr",
     "output_type": "stream",
     "text": [
      "Epoch 3:  75%|███████▍  | 9792/13104 [39:38<1:24:52,  1.54s/it, loss=0.7573, lr=2.82e-04, step=36000/52416]"
     ]
    },
    {
     "name": "stdout",
     "output_type": "stream",
     "text": [
      "Generated: Once upon a time there was a little girl named Lily. She loved looking at the park, it's favorite dress. One night, Lily asked her teacher to the swin...\n"
     ]
    },
    {
     "name": "stderr",
     "output_type": "stream",
     "text": [
      "Epoch 3:  82%|████████▏ | 10791/13104 [43:37<09:10,  4.20it/s, loss=0.7709, lr=2.81e-04, step=37000/52416]"
     ]
    },
    {
     "name": "stdout",
     "output_type": "stream",
     "text": [
      "\n",
      "Step 37000: Val Loss: 6.4787, Perplexity: 651.1525\n"
     ]
    },
    {
     "name": "stderr",
     "output_type": "stream",
     "text": [
      "Epoch 3:  82%|████████▏ | 10792/13104 [43:41<59:14,  1.54s/it, loss=0.7709, lr=2.81e-04, step=37000/52416]"
     ]
    },
    {
     "name": "stdout",
     "output_type": "stream",
     "text": [
      "Generated: Once upon a time, there was a little girl named Lily. She loved to play with her toys and eat her favorite toy. One day, Lily and her mommy wanted to ...\n"
     ]
    },
    {
     "name": "stderr",
     "output_type": "stream",
     "text": [
      "Epoch 3:  90%|████████▉ | 11791/13104 [47:40<05:12,  4.20it/s, loss=0.7525, lr=2.80e-04, step=38000/52416]"
     ]
    },
    {
     "name": "stdout",
     "output_type": "stream",
     "text": [
      "\n",
      "Step 38000: Val Loss: 6.5069, Perplexity: 669.7654\n"
     ]
    },
    {
     "name": "stderr",
     "output_type": "stream",
     "text": [
      "Epoch 3:  90%|████████▉ | 11792/13104 [47:44<33:35,  1.54s/it, loss=0.7525, lr=2.80e-04, step=38000/52416]"
     ]
    },
    {
     "name": "stdout",
     "output_type": "stream",
     "text": [
      "Generated: Once upon a time, there was a little girl named Lily. She loved to play with her toys all day long. One day, she accidentally knocked over the table. ...\n"
     ]
    },
    {
     "name": "stderr",
     "output_type": "stream",
     "text": [
      "Epoch 3:  98%|█████████▊| 12791/13104 [51:42<01:14,  4.20it/s, loss=0.7118, lr=2.79e-04, step=39000/52416]"
     ]
    },
    {
     "name": "stdout",
     "output_type": "stream",
     "text": [
      "\n",
      "Step 39000: Val Loss: 6.5489, Perplexity: 698.4544\n"
     ]
    },
    {
     "name": "stderr",
     "output_type": "stream",
     "text": [
      "Epoch 3:  98%|█████████▊| 12792/13104 [51:47<07:59,  1.54s/it, loss=0.7118, lr=2.79e-04, step=39000/52416]"
     ]
    },
    {
     "name": "stdout",
     "output_type": "stream",
     "text": [
      "Generated: Once upon a time, there was a rabbit named Tim. He had a red ball in the park. Every day he went to his friend. He saw his friend Sam. He wanted to te...\n"
     ]
    },
    {
     "name": "stderr",
     "output_type": "stream",
     "text": [
      "Epoch 3: 100%|██████████| 13104/13104 [53:01<00:00,  4.12it/s, loss=0.7751, lr=2.79e-04, step=39312/52416]\n"
     ]
    },
    {
     "name": "stdout",
     "output_type": "stream",
     "text": [
      "\n",
      "--- Epoch 4/4 ---\n"
     ]
    },
    {
     "name": "stderr",
     "output_type": "stream",
     "text": [
      "Epoch 4:   5%|▌         | 687/13104 [02:44<49:16,  4.20it/s, loss=0.7247, lr=2.78e-04, step=40000/52416]"
     ]
    },
    {
     "name": "stdout",
     "output_type": "stream",
     "text": [
      "\n",
      "Step 40000: Val Loss: 6.6115, Perplexity: 743.6140\n"
     ]
    },
    {
     "name": "stderr",
     "output_type": "stream",
     "text": [
      "Epoch 4:   5%|▌         | 688/13104 [02:48<5:18:24,  1.54s/it, loss=0.7247, lr=2.78e-04, step=40000/52416]"
     ]
    },
    {
     "name": "stdout",
     "output_type": "stream",
     "text": [
      "Generated: Once upon a time, there was a girl who liked to explore. One day, she went to a thin plastic bag to put it on a bed and lots of fun activities. Anna w...\n"
     ]
    },
    {
     "name": "stderr",
     "output_type": "stream",
     "text": [
      "Epoch 4:  13%|█▎        | 1687/13104 [06:46<45:18,  4.20it/s, loss=0.7189, lr=2.77e-04, step=41000/52416]"
     ]
    },
    {
     "name": "stdout",
     "output_type": "stream",
     "text": [
      "\n",
      "Step 41000: Val Loss: 6.6190, Perplexity: 749.1870\n"
     ]
    },
    {
     "name": "stderr",
     "output_type": "stream",
     "text": [
      "Epoch 4:  13%|█▎        | 1688/13104 [06:51<4:52:33,  1.54s/it, loss=0.7189, lr=2.77e-04, step=41000/52416]"
     ]
    },
    {
     "name": "stdout",
     "output_type": "stream",
     "text": [
      "Generated: Once upon a time, there was a little girl named Lily. She loved to play with her toys and wait to eat snacks for dinner. One day, she saw something st...\n"
     ]
    },
    {
     "name": "stderr",
     "output_type": "stream",
     "text": [
      "Epoch 4:  21%|██        | 2687/13104 [10:49<41:19,  4.20it/s, loss=0.7029, lr=2.75e-04, step=42000/52416]"
     ]
    },
    {
     "name": "stdout",
     "output_type": "stream",
     "text": [
      "\n",
      "Step 42000: Val Loss: 6.6989, Perplexity: 811.4736\n"
     ]
    },
    {
     "name": "stderr",
     "output_type": "stream",
     "text": [
      "Epoch 4:  21%|██        | 2688/13104 [10:54<4:26:49,  1.54s/it, loss=0.7029, lr=2.75e-04, step=42000/52416]"
     ]
    },
    {
     "name": "stdout",
     "output_type": "stream",
     "text": [
      "Generated: Once upon a time, there was a girl named Sue. Joe was worried. One day, Jane went to the park with his mom. She wanted to go on, but it was a beautifu...\n"
     ]
    },
    {
     "name": "stderr",
     "output_type": "stream",
     "text": [
      "Epoch 4:  28%|██▊       | 3687/13104 [14:52<37:22,  4.20it/s, loss=0.6927, lr=2.74e-04, step=43000/52416]"
     ]
    },
    {
     "name": "stdout",
     "output_type": "stream",
     "text": [
      "\n",
      "Step 43000: Val Loss: 6.7406, Perplexity: 846.0359\n"
     ]
    },
    {
     "name": "stderr",
     "output_type": "stream",
     "text": [
      "Epoch 4:  28%|██▊       | 3688/13104 [14:57<4:01:07,  1.54s/it, loss=0.6927, lr=2.74e-04, step=43000/52416]"
     ]
    },
    {
     "name": "stdout",
     "output_type": "stream",
     "text": [
      "Generated: Once upon a time, there was a little boy named Sue. Tim had a name on a special bag. On that his family would come visit. The children laughed and sai...\n"
     ]
    },
    {
     "name": "stderr",
     "output_type": "stream",
     "text": [
      "Epoch 4:  36%|███▌      | 4687/13104 [18:55<33:17,  4.21it/s, loss=0.8105, lr=2.73e-04, step=44000/52416]"
     ]
    },
    {
     "name": "stdout",
     "output_type": "stream",
     "text": [
      "\n",
      "Step 44000: Val Loss: 6.7254, Perplexity: 833.3093\n"
     ]
    },
    {
     "name": "stderr",
     "output_type": "stream",
     "text": [
      "Epoch 4:  36%|███▌      | 4688/13104 [18:59<3:35:09,  1.53s/it, loss=0.8105, lr=2.73e-04, step=44000/52416]"
     ]
    },
    {
     "name": "stdout",
     "output_type": "stream",
     "text": [
      "Generated: Once upon a time there was a little girl named Jane. She was three years old and loved playing in her garden. One day, when she woke up in her garden,...\n"
     ]
    },
    {
     "name": "stderr",
     "output_type": "stream",
     "text": [
      "Epoch 4:  43%|████▎     | 5687/13104 [22:57<29:24,  4.20it/s, loss=0.7352, lr=2.72e-04, step=45000/52416]"
     ]
    },
    {
     "name": "stdout",
     "output_type": "stream",
     "text": [
      "\n",
      "Step 45000: Val Loss: 6.7923, Perplexity: 890.9347\n"
     ]
    },
    {
     "name": "stderr",
     "output_type": "stream",
     "text": [
      "Epoch 4:  43%|████▎     | 5688/13104 [23:02<3:10:00,  1.54s/it, loss=0.7352, lr=2.72e-04, step=45000/52416]"
     ]
    },
    {
     "name": "stdout",
     "output_type": "stream",
     "text": [
      "Generated: Once upon a time there was a little boy named Tim. Tom was very selfish and have been dreaming of different things. One day, Benny's mom would come ou...\n"
     ]
    },
    {
     "name": "stderr",
     "output_type": "stream",
     "text": [
      "Epoch 4:  51%|█████     | 6687/13104 [27:00<25:22,  4.21it/s, loss=0.6812, lr=2.70e-04, step=46000/52416]"
     ]
    },
    {
     "name": "stdout",
     "output_type": "stream",
     "text": [
      "\n",
      "Step 46000: Val Loss: 6.9165, Perplexity: 1008.7586\n"
     ]
    },
    {
     "name": "stderr",
     "output_type": "stream",
     "text": [
      "Epoch 4:  51%|█████     | 6688/13104 [27:04<2:44:00,  1.53s/it, loss=0.6812, lr=2.70e-04, step=46000/52416]"
     ]
    },
    {
     "name": "stdout",
     "output_type": "stream",
     "text": [
      "Generated: Once upon a time, there was a kind girl named Lily. She had a very special surprise and all wore it to explore the world around the park.\n",
      "\n",
      "One day, Li...\n"
     ]
    },
    {
     "name": "stderr",
     "output_type": "stream",
     "text": [
      "Epoch 4:  59%|█████▊    | 7687/13104 [31:02<21:25,  4.21it/s, loss=0.6698, lr=2.69e-04, step=47000/52416]"
     ]
    },
    {
     "name": "stdout",
     "output_type": "stream",
     "text": [
      "\n",
      "Step 47000: Val Loss: 6.9049, Perplexity: 997.1248\n"
     ]
    },
    {
     "name": "stderr",
     "output_type": "stream",
     "text": [
      "Epoch 4:  59%|█████▊    | 7688/13104 [31:06<2:18:28,  1.53s/it, loss=0.6698, lr=2.69e-04, step=47000/52416]"
     ]
    },
    {
     "name": "stdout",
     "output_type": "stream",
     "text": [
      "Generated: Once upon a time, there was a big tree. One day, he noticed a big elephant who loved to play.\n",
      "\n",
      "One day, Benny saw a big, round spring like a tall gras...\n"
     ]
    },
    {
     "name": "stderr",
     "output_type": "stream",
     "text": [
      "Epoch 4:  66%|██████▋   | 8687/13104 [35:04<17:27,  4.22it/s, loss=0.6340, lr=2.67e-04, step=48000/52416]"
     ]
    },
    {
     "name": "stdout",
     "output_type": "stream",
     "text": [
      "\n",
      "Step 48000: Val Loss: 6.9340, Perplexity: 1026.5768\n"
     ]
    },
    {
     "name": "stderr",
     "output_type": "stream",
     "text": [
      "Epoch 4:  66%|██████▋   | 8688/13104 [35:09<1:52:51,  1.53s/it, loss=0.6340, lr=2.67e-04, step=48000/52416]"
     ]
    },
    {
     "name": "stdout",
     "output_type": "stream",
     "text": [
      "Generated: Once upon a time, there lived a mother, who was very tired. One day, she found a little boy named Jill. Sally would go near the walk and the wind.\n",
      "\n",
      "Li...\n"
     ]
    },
    {
     "name": "stderr",
     "output_type": "stream",
     "text": [
      "Epoch 4:  74%|███████▍  | 9687/13104 [39:06<13:31,  4.21it/s, loss=0.6520, lr=2.66e-04, step=49000/52416]"
     ]
    },
    {
     "name": "stdout",
     "output_type": "stream",
     "text": [
      "\n",
      "Step 49000: Val Loss: 7.0184, Perplexity: 1116.9477\n"
     ]
    },
    {
     "name": "stderr",
     "output_type": "stream",
     "text": [
      "Epoch 4:  74%|███████▍  | 9688/13104 [39:11<1:27:24,  1.54s/it, loss=0.6520, lr=2.66e-04, step=49000/52416]"
     ]
    },
    {
     "name": "stdout",
     "output_type": "stream",
     "text": [
      "Generated: Once upon a time, there was a little girl named Lily. She loved to play with her toys and One day, Lily went to the park with her friends. They played...\n"
     ]
    },
    {
     "name": "stderr",
     "output_type": "stream",
     "text": [
      "Epoch 4:  82%|████████▏ | 10687/13104 [43:08<09:33,  4.21it/s, loss=0.6922, lr=2.64e-04, step=50000/52416]"
     ]
    },
    {
     "name": "stdout",
     "output_type": "stream",
     "text": [
      "\n",
      "Step 50000: Val Loss: 7.0076, Perplexity: 1104.9937\n"
     ]
    },
    {
     "name": "stderr",
     "output_type": "stream",
     "text": [
      "Epoch 4:  82%|████████▏ | 10688/13104 [43:13<1:01:45,  1.53s/it, loss=0.6922, lr=2.64e-04, step=50000/52416]"
     ]
    },
    {
     "name": "stdout",
     "output_type": "stream",
     "text": [
      "Generated: Once upon a time there was a girl named Jimmy. She lived in the farm with her special drink. One day, she went outside to play in the woods. The house...\n"
     ]
    },
    {
     "name": "stderr",
     "output_type": "stream",
     "text": [
      "Epoch 4:  89%|████████▉ | 11687/13104 [47:11<05:37,  4.20it/s, loss=0.7593, lr=2.63e-04, step=51000/52416]"
     ]
    },
    {
     "name": "stdout",
     "output_type": "stream",
     "text": [
      "\n",
      "Step 51000: Val Loss: 7.0519, Perplexity: 1155.1018\n"
     ]
    },
    {
     "name": "stderr",
     "output_type": "stream",
     "text": [
      "Epoch 4:  89%|████████▉ | 11688/13104 [47:15<36:13,  1.53s/it, loss=0.7593, lr=2.63e-04, step=51000/52416]"
     ]
    },
    {
     "name": "stdout",
     "output_type": "stream",
     "text": [
      "Generated: Once upon a time, there was a little girl named Lily. She had a teddy bear who loved her best friends. One day, they saw a shovel in school and kick t...\n"
     ]
    },
    {
     "name": "stderr",
     "output_type": "stream",
     "text": [
      "Epoch 4:  97%|█████████▋| 12687/13104 [51:14<01:39,  4.19it/s, loss=0.6736, lr=2.61e-04, step=52000/52416]"
     ]
    },
    {
     "name": "stdout",
     "output_type": "stream",
     "text": [
      "\n",
      "Step 52000: Val Loss: 7.0484, Perplexity: 1151.0273\n"
     ]
    },
    {
     "name": "stderr",
     "output_type": "stream",
     "text": [
      "Epoch 4:  97%|█████████▋| 12688/13104 [51:18<10:41,  1.54s/it, loss=0.6736, lr=2.61e-04, step=52000/52416]"
     ]
    },
    {
     "name": "stdout",
     "output_type": "stream",
     "text": [
      "Generated: Once upon a time, there was a boy named Tom. He had a big race near the woods. One day, they saw his mommy went to bed. He wanted to open it forever! ...\n"
     ]
    },
    {
     "name": "stderr",
     "output_type": "stream",
     "text": [
      "Epoch 4: 100%|█████████▉| 13103/13104 [52:57<00:00,  4.12it/s, loss=0.6679, lr=2.61e-04, step=52416/52416]\n"
     ]
    },
    {
     "name": "stdout",
     "output_type": "stream",
     "text": [
      "\n",
      "Training completed! Total steps: 52416\n"
     ]
    },
    {
     "data": {
      "image/png": "[encoded data removed]",
      "text/plain": [
       "<Figure size 1500x500 with 3 Axes>"
      ]
     },
     "metadata": {},
     "output_type": "display_data"
    }
   ],
   "source": [
    "# -----------------------------------------------------------------------------\n",
    "# Train the Reservoir Model\n",
    "# -----------------------------------------------------------------------------\n",
    "\n",
    "# Train the model\n",
    "training_history = train_optimized_reservoir_model(\n",
    "    optimized_model, \n",
    "    train_loader, \n",
    "    val_loader, \n",
    "    optimized_reservoir_config,\n",
    "    tokenizer,\n",
    "    SHARED_CONFIG\n",
    ")\n",
    "\n",
    "# Plot results\n",
    "plt.figure(figsize=(15, 5))\n",
    "\n",
    "plt.subplot(1, 3, 1)\n",
    "plt.plot(training_history['train_losses'])\n",
    "plt.title('Training Loss')\n",
    "plt.xlabel('Batch')\n",
    "plt.ylabel('Loss')\n",
    "plt.grid(True)\n",
    "\n",
    "plt.subplot(1, 3, 2)\n",
    "plt.plot(training_history['steps'], training_history['val_perplexities'], marker='o')\n",
    "plt.title('Validation Perplexity')\n",
    "plt.xlabel('Steps')\n",
    "plt.ylabel('Perplexity')\n",
    "plt.grid(True)\n",
    "\n",
    "plt.subplot(1, 3, 3)\n",
    "plt.plot(training_history['learning_rates'])\n",
    "plt.title('Learning Rate Schedule')\n",
    "plt.xlabel('Batch')\n",
    "plt.ylabel('Learning Rate')\n",
    "plt.grid(True)\n",
    "\n",
    "plt.tight_layout()\n",
    "plt.show()\n",
    "\n",
    "# Save the model\n",
    "torch.save(optimized_model.state_dict(), optimized_reservoir_config['SAVE_PATH'])"
   ]
  },
  {
   "cell_type": "code",
   "execution_count": 6,
   "id": "aa2f0a71",
   "metadata": {
    "_cell_guid": "b1076dfc-b9ad-4769-8c92-a6c4dae69d19",
    "_uuid": "8f2839f25d086af736a60e9eeb907d3b93b6e0e5",
    "execution": {
     "iopub.execute_input": "2025-08-01T12:54:24.450565Z",
     "iopub.status.busy": "2025-08-01T12:54:24.449979Z",
     "iopub.status.idle": "2025-08-01T12:54:24.455742Z",
     "shell.execute_reply": "2025-08-01T12:54:24.454987Z"
    },
    "papermill": {
     "duration": 4.627696,
     "end_time": "2025-08-01T12:54:24.456891",
     "exception": false,
     "start_time": "2025-08-01T12:54:19.829195",
     "status": "completed"
    },
    "tags": []
   },
   "outputs": [],
   "source": [
    "# # -----------------------------------------------------------------------------\n",
    "# # Transformer Model Definition\n",
    "# # -----------------------------------------------------------------------------\n",
    "\n",
    "# class TinyLM(nn.Module):\n",
    "#     \"\"\"\n",
    "#     A small language model based on the Transformer architecture.\n",
    "#     \"\"\"\n",
    "#     def __init__(self, vocab_size: int = 50257, emb_dim: int = 768, block_size: int = 256, n_att_heads: int = 12,\n",
    "#                  n_decoders: int = 12, device: str = 'cuda'):\n",
    "#         super().__init__()\n",
    "#         self.device = device\n",
    "#         self.block_size = block_size\n",
    "#         self.token_emb = nn.Embedding(vocab_size, emb_dim)\n",
    "#         self.pos_emb = nn.Embedding(block_size, emb_dim)\n",
    "#         self.decoders = nn.Sequential(*(TransformerDecoder(emb_dim, block_size, n_att_heads)\n",
    "#                                         for _ in range(n_decoders)))\n",
    "#         self.final_linear = nn.Linear(emb_dim, vocab_size)\n",
    "#         self.layer_norm = nn.LayerNorm(emb_dim)\n",
    "\n",
    "#     def generate(self, context: torch.Tensor, max_new_tokens: int) -> torch.Tensor:\n",
    "#         for _ in range(max_new_tokens):\n",
    "#             context = context[:, -self.block_size:]\n",
    "#             logits = self(context)[:, -1, :]\n",
    "#             probabilities = nn.functional.softmax(logits, dim=-1)\n",
    "#             next_token = torch.multinomial(probabilities, num_samples=1)\n",
    "#             context = torch.cat([context, next_token], dim=1)\n",
    "#         return context\n",
    "\n",
    "#     def forward(self, x):\n",
    "#         token_emb = self.token_emb(x)\n",
    "#         pos_emb = self.pos_emb(torch.arange(min(self.block_size, x.size(1)), device=self.device))\n",
    "#         x = token_emb + pos_emb\n",
    "#         x = self.decoders(x)\n",
    "#         x = self.layer_norm(x)\n",
    "#         logits = self.final_linear(x)\n",
    "#         return logits\n",
    "\n",
    "# class TransformerDecoder(nn.Module):\n",
    "#     \"\"\"\n",
    "#     A single Transformer decoder block.\n",
    "#     \"\"\"\n",
    "#     def __init__(self, emb_dim: int = 768, block_size: int = 256, n_heads: int = 12, dropout: float = 0.2):\n",
    "#         super().__init__()\n",
    "#         self.emb_dim = emb_dim\n",
    "#         self.n_heads = n_heads\n",
    "#         self.head_projection = nn.Linear(emb_dim, 3 * emb_dim, bias=False)\n",
    "#         self.register_buffer('tril', ~torch.tril(torch.ones(block_size, block_size)).type(torch.bool))\n",
    "#         self.self_attention = nn.MultiheadAttention(emb_dim, n_heads, batch_first=True, dropout=0.2)\n",
    "#         self.feed_fwd = nn.Sequential(\n",
    "#             nn.Linear(emb_dim, emb_dim * 4),\n",
    "#             nn.LeakyReLU(),\n",
    "#             nn.Linear(emb_dim * 4, emb_dim),\n",
    "#             nn.Dropout(dropout)\n",
    "#         )\n",
    "#         self.ln_1 = nn.LayerNorm(emb_dim)\n",
    "#         self.ln_2 = nn.LayerNorm(emb_dim)\n",
    "\n",
    "#     def forward(self, x):\n",
    "#         x = self.ln_1(x)\n",
    "#         x_proj = self.head_projection(x)\n",
    "#         q, k, v = x_proj.split(self.emb_dim, dim=-1)\n",
    "#         x = x + self.self_attention(q, k, v, attn_mask=self.tril[:x.size(1), :x.size(1)], need_weights=False)[0]\n",
    "#         x = x + self.feed_fwd(self.ln_2(x))\n",
    "#         return x\n",
    "\n",
    "# @torch.no_grad()\n",
    "# def eval_transformer_model(training_model: torch.nn.Module, val_loader: torch.utils.data.DataLoader, config: dict):\n",
    "#     training_model.eval()\n",
    "#     losses = []\n",
    "#     criterion = nn.CrossEntropyLoss()\n",
    "#     for k, (s_val, t_val) in enumerate(val_loader):\n",
    "#         if k >= config['EVAL_ITER']:\n",
    "#             break\n",
    "#         s_val, t_val = s_val.to(config['DEVICE']), t_val.to(config['DEVICE'])\n",
    "#         val_logits = training_model(s_val)\n",
    "#         B, T, C = val_logits.shape\n",
    "#         val_loss = criterion(val_logits.view(B * T, C), t_val.view(B * T))\n",
    "#         losses.append(val_loss.item())\n",
    "#     training_model.train()\n",
    "#     return np.mean(losses)\n",
    "\n",
    "# @torch.no_grad()\n",
    "# def generate_from_transformer(training_model: TinyLM, config: dict, prompt=\"Once upon a time\") -> str:\n",
    "#     training_model.eval()\n",
    "#     if prompt:\n",
    "#         context = torch.tensor(tokenizer.encode(prompt), dtype=torch.long, device=config['DEVICE']).unsqueeze(0)\n",
    "#     else:\n",
    "#         context = torch.zeros((1, 1), dtype=torch.long, device=config['DEVICE'])\n",
    "#     out_tokens = training_model.generate(context, max_new_tokens=config['MAX_OUT_TOKENS'])\n",
    "#     training_model.train()\n",
    "#     return tokenizer.decode(out_tokens[0].tolist())\n",
    "\n",
    "# # Define Transformer model specific configuration\n",
    "# transformer_config = {\n",
    "#     # Model architecture\n",
    "#     'EMB_SIZE': 512,\n",
    "#     'N_ATTENTION_HEADS': 4,\n",
    "#     'N_DECODER_BLOCKS': 2,\n",
    "#     'VOCAB_SIZE': tokenizer.vocab_size,\n",
    "    \n",
    "#     # Training params from shared config\n",
    "#     'MAX_OUT_TOKENS': SHARED_CONFIG['MAX_OUT_TOKENS'],\n",
    "#     'EVAL_INTERVAL': SHARED_CONFIG['EVAL_INTERVAL'],\n",
    "#     'EVAL_ITER': SHARED_CONFIG['EVAL_ITER'],\n",
    "#     'LR': 3e-4,\n",
    "#     'BATCH_SIZE': SHARED_CONFIG['BATCH_SIZE'],\n",
    "#     'BLOCK_SIZE': SHARED_CONFIG['BLOCK_SIZE'],\n",
    "#     'DEVICE': SHARED_CONFIG['DEVICE'],\n",
    "#     'SAVE_PATH': SHARED_CONFIG['TRANSFORMER_SAVE_PATH'],\n",
    "# }\n",
    "# assert transformer_config['EMB_SIZE'] % transformer_config['N_ATTENTION_HEADS'] == 0, \"Embedding size must be divisible by number of attention heads\"\n",
    "\n",
    "# # Initialize the model\n",
    "# transformer_model = TinyLM(\n",
    "#     emb_dim=transformer_config['EMB_SIZE'],\n",
    "#     block_size=transformer_config['BLOCK_SIZE'],\n",
    "#     n_att_heads=transformer_config['N_ATTENTION_HEADS'],\n",
    "#     n_decoders=transformer_config['N_DECODER_BLOCKS'],\n",
    "#     vocab_size=transformer_config['VOCAB_SIZE'],\n",
    "#     device=transformer_config['DEVICE']\n",
    "# ).to(transformer_config['DEVICE'])\n",
    "\n",
    "# print(f\"Transformer Model initialized on {SHARED_CONFIG['DEVICE']} with {sum(p.numel() for p in transformer_model.parameters() if p.requires_grad):,} trainable parameters.\")"
   ]
  },
  {
   "cell_type": "code",
   "execution_count": 7,
   "id": "0660b839",
   "metadata": {
    "execution": {
     "iopub.execute_input": "2025-08-01T12:54:33.607278Z",
     "iopub.status.busy": "2025-08-01T12:54:33.606987Z",
     "iopub.status.idle": "2025-08-01T12:54:33.611321Z",
     "shell.execute_reply": "2025-08-01T12:54:33.610762Z"
    },
    "papermill": {
     "duration": 4.498389,
     "end_time": "2025-08-01T12:54:33.612466",
     "exception": false,
     "start_time": "2025-08-01T12:54:29.114077",
     "status": "completed"
    },
    "tags": []
   },
   "outputs": [],
   "source": [
    "# -----------------------------------------------------------------------------\n",
    "# Train the Transformer Model\n",
    "# -----------------------------------------------------------------------------\n",
    "\n",
    "# optimizer = torch.optim.Adam(transformer_model.parameters(), lr=transformer_config['LR'])\n",
    "# criterion = nn.CrossEntropyLoss()\n",
    "\n",
    "# # Lists to store metrics for plotting\n",
    "# transformer_train_losses = []\n",
    "# transformer_val_perplexities = []\n",
    "# transformer_steps = []\n",
    "# total_batches = 0\n",
    "\n",
    "# print(\"Starting Transformer Model training...\")\n",
    "# for epoch in range(1, SHARED_CONFIG['EPOCHS'] + 1):\n",
    "#     print(f\"--- Epoch {epoch}/{SHARED_CONFIG['EPOCHS']} ---\")\n",
    "#     pbar = tqdm(train_loader, desc=f\"Epoch {epoch}\")\n",
    "#     for batch in pbar:\n",
    "#         sources, targets = batch\n",
    "#         total_batches += 1\n",
    "        \n",
    "#         sources, targets = sources.to(SHARED_CONFIG['DEVICE']), targets.to(SHARED_CONFIG['DEVICE'])\n",
    "#         logits = transformer_model(sources)\n",
    "        \n",
    "#         B, T, C = logits.shape\n",
    "#         loss = criterion(logits.view(B * T, C), targets.view(B * T))\n",
    "        \n",
    "#         transformer_train_losses.append(loss.item())\n",
    "#         pbar.set_postfix(loss=f\"{loss.item():.4f}\")\n",
    "\n",
    "#         optimizer.zero_grad()\n",
    "#         loss.backward()\n",
    "#         optimizer.step()\n",
    "\n",
    "#         if total_batches > 0 and total_batches % SHARED_CONFIG['EVAL_INTERVAL'] == 0:\n",
    "#             val_loss = eval_transformer_model(transformer_model, val_loader, transformer_config)\n",
    "#             perplexity = np.exp(val_loss)\n",
    "#             transformer_val_perplexities.append(perplexity)\n",
    "#             transformer_steps.append(total_batches)\n",
    "#             print(\"\\n\" + \"-\" * 50)\n",
    "#             print(f\"Validation Loss: {val_loss:.4f}, Validation Perplexity: {perplexity:.4f}\")\n",
    "#             generated_text = generate_from_transformer(\n",
    "#                 transformer_model, \n",
    "#                 transformer_config, \n",
    "#                 prompt=\"Once upon a time\"\n",
    "#             )\n",
    "#             print(\"--- Sample Generation ---\")\n",
    "#             print(generated_text)\n",
    "#             print(\"-\" * 50)\n",
    "\n",
    "# print(\"Transformer Model training finished.\")\n",
    "\n",
    "# plt.figure(figsize=(12, 5))\n",
    "# plt.subplot(1, 2, 1)\n",
    "# plt.plot(transformer_train_losses)\n",
    "# plt.title('Transformer Model - Training Loss')\n",
    "# plt.xlabel('Batch')\n",
    "# plt.ylabel('Loss')\n",
    "# plt.grid(True)\n",
    "\n",
    "# plt.subplot(1, 2, 2)\n",
    "# plt.plot(transformer_steps, transformer_val_perplexities, marker='o')\n",
    "# plt.title('Transformer Model - Validation Perplexity')\n",
    "# plt.xlabel('Total Batches')\n",
    "# plt.ylabel('Perplexity')\n",
    "# plt.grid(True)\n",
    "# plt.tight_layout()\n",
    "# plt.show()\n",
    "\n",
    "# print(f\"Saving Transformer model to {transformer_config['SAVE_PATH']}...\")\n",
    "# torch.save({\n",
    "#     'model_state_dict': transformer_model.state_dict(),\n",
    "#     'optimizer_state_dict': optimizer.state_dict(),\n",
    "#     'config': transformer_config,\n",
    "# }, transformer_config['SAVE_PATH'])\n",
    "# print(\"Transformer Model saved.\")"
   ]
  },
  {
   "cell_type": "code",
   "execution_count": 8,
   "id": "b64c9547",
   "metadata": {
    "execution": {
     "iopub.execute_input": "2025-08-01T12:54:42.891826Z",
     "iopub.status.busy": "2025-08-01T12:54:42.891552Z",
     "iopub.status.idle": "2025-08-01T12:54:43.373123Z",
     "shell.execute_reply": "2025-08-01T12:54:43.372209Z"
    },
    "papermill": {
     "duration": 4.891797,
     "end_time": "2025-08-01T12:54:43.374298",
     "exception": false,
     "start_time": "2025-08-01T12:54:38.482501",
     "status": "completed"
    },
    "tags": []
   },
   "outputs": [
    {
     "name": "stdout",
     "output_type": "stream",
     "text": [
      "================================================================================\n",
      "Model Comparison - Text Generation\n",
      "================================================================================\n",
      "Prompt: 'Once upon a time, there was a little'\n",
      "\n",
      "Reservoir Model Output:\n",
      "--------------------------------------------------\n",
      "Once upon a time, there was a little girl called Claire. Mary was very obedient, which was so she decided to do what would play with it. \n",
      "\n",
      "Mum smiled and told Jack listened to her mom for him. She was very special because she hugged her a bit sad. She wanted to make her feel better. She said, \"Oh, I did you need. I will give you paint myuddles.\"\n",
      "His mommy was very nice at her way.\n",
      "\n",
      "\"Can I want to catch it,\" Max\n",
      "\n",
      "\n"
     ]
    }
   ],
   "source": [
    "# -----------------------------------------------------------------------------\n",
    "# Compare Model Performance\n",
    "# -----------------------------------------------------------------------------\n",
    "\n",
    "# # Visualize the validation perplexity of both models on the same plot\n",
    "# plt.figure(figsize=(10, 6))\n",
    "# plt.plot(steps, val_perplexities, marker='o', label='Reservoir Model')\n",
    "# plt.plot(transformer_steps, transformer_val_perplexities, marker='s', label='Transformer Model')\n",
    "# plt.title('Model Comparison - Validation Perplexity')\n",
    "# plt.xlabel('Training Steps')\n",
    "# plt.ylabel('Perplexity (lower is better)')\n",
    "# plt.legend()\n",
    "# plt.grid(True)\n",
    "# plt.tight_layout()\n",
    "# plt.show()\n",
    "\n",
    "# plt.figure(figsize=(10, 6))\n",
    "# plt.plot(train_losses, marker='o', label='Reservoir Model')\n",
    "# plt.plot(transformer_train_losses, marker='s', label='Transformer Model')\n",
    "# plt.title('Model Comparison - Train Loss')\n",
    "# plt.xlabel('Batch')\n",
    "# plt.ylabel('Loss (lower is better)')\n",
    "# plt.legend()\n",
    "# plt.grid(True)\n",
    "# plt.tight_layout()\n",
    "# plt.show()\n",
    "\n",
    "# Generate some comparison text with the same prompt\n",
    "print(\"=\" * 80)\n",
    "print(\"Model Comparison - Text Generation\")\n",
    "print(\"=\" * 80)\n",
    "\n",
    "prompt = \"Once upon a time, there was a little\"\n",
    "print(f\"Prompt: '{prompt}'\\n\")\n",
    "\n",
    "# Generate from Reservoir model\n",
    "reservoir_text = generate_from_reservoir(\n",
    "    optimized_model, \n",
    "    prompt, \n",
    "    SHARED_CONFIG['MAX_OUT_TOKENS'], \n",
    "    optimized_reservoir_config,\n",
    "    tokenizer\n",
    ")\n",
    "print(\"Reservoir Model Output:\")\n",
    "print(\"-\" * 50)\n",
    "print(reservoir_text)\n",
    "print(\"\\n\")\n",
    "\n",
    "# # Generate from Transformer model\n",
    "# transformer_text = generate_from_transformer(\n",
    "#     transformer_model, \n",
    "#     transformer_config, \n",
    "#     prompt=prompt\n",
    "# )\n",
    "# print(\"Transformer Model Output:\")\n",
    "# print(\"-\" * 50)\n",
    "# print(transformer_text)\n",
    "\n",
    "# # Compare model size\n",
    "# reservoir_params = sum(p.numel() for p in reservoir_model.parameters() if p.requires_grad)\n",
    "# transformer_params = sum(p.numel() for p in transformer_model.parameters() if p.requires_grad)\n",
    "\n",
    "# print(\"\\n\" + \"=\" * 80)\n",
    "# print(f\"Reservoir Model: {reservoir_params:,} parameters\")\n",
    "# print(f\"Transformer Model: {transformer_params:,} parameters\")\n",
    "# print(f\"Size difference: {abs(reservoir_params - transformer_params):,} parameters\")\n",
    "# print(f\"The {'Reservoir' if reservoir_params < transformer_params else 'Transformer'} model is smaller by {abs(100 - (100 * min(reservoir_params, transformer_params) / max(reservoir_params, transformer_params))):.1f}%\")\n",
    "# print(\"=\" * 80)"
   ]
  }
 ],
 "metadata": {
  "kaggle": {
   "accelerator": "gpu",
   "dataSources": [],
   "dockerImageVersionId": 31089,
   "isGpuEnabled": true,
   "isInternetEnabled": true,
   "language": "python",
   "sourceType": "notebook"
  },
  "kernelspec": {
   "display_name": "Python 3",
   "language": "python",
   "name": "python3"
  },
  "language_info": {
   "codemirror_mode": {
    "name": "ipython",
    "version": 3
   },
   "file_extension": ".py",
   "mimetype": "text/x-python",
   "name": "python",
   "nbconvert_exporter": "python",
   "pygments_lexer": "ipython3",
   "version": "3.11.13"
  },
  "papermill": {
   "default_parameters": {},
   "duration": 12801.525653,
   "end_time": "2025-08-01T12:54:50.936045",
   "environment_variables": {},
   "exception": null,
   "input_path": "__notebook__.ipynb",
   "output_path": "__notebook__.ipynb",
   "parameters": {},
   "start_time": "2025-08-01T09:21:29.410392",
   "version": "2.6.0"
  },
  "widgets": {
   "application/vnd.jupyter.widget-state+json": {
    "state": {
     "012d78e5db664dddbb558535eeb8109b": {
      "model_module": "@jupyter-widgets/controls",
      "model_module_version": "2.0.0",
      "model_name": "ProgressStyleModel",
      "state": {
       "_model_module": "@jupyter-widgets/controls",
       "_model_module_version": "2.0.0",
       "_model_name": "ProgressStyleModel",
       "_view_count": null,
       "_view_module": "@jupyter-widgets/base",
       "_view_module_version": "2.0.0",
       "_view_name": "StyleView",
       "bar_color": null,
       "description_width": ""
      }
     },
     "01689a5b065748aea8787ef5e54b30ac": {
      "model_module": "@jupyter-widgets/controls",
      "model_module_version": "2.0.0",
      "model_name": "HTMLStyleModel",
      "state": {
       "_model_module": "@jupyter-widgets/controls",
       "_model_module_version": "2.0.0",
       "_model_name": "HTMLStyleModel",
       "_view_count": null,
       "_view_module": "@jupyter-widgets/base",
       "_view_module_version": "2.0.0",
       "_view_name": "StyleView",
       "background": null,
       "description_width": "",
       "font_size": null,
       "text_color": null
      }
     },
     "0365a75beb874cb8bceb94c28a97c87c": {
      "model_module": "@jupyter-widgets/controls",
      "model_module_version": "2.0.0",
      "model_name": "HTMLModel",
      "state": {
       "_dom_classes": [],
       "_model_module": "@jupyter-widgets/controls",
       "_model_module_version": "2.0.0",
       "_model_name": "HTMLModel",
       "_view_count": null,
       "_view_module": "@jupyter-widgets/controls",
       "_view_module_version": "2.0.0",
       "_view_name": "HTMLView",
       "description": "",
       "description_allow_html": false,
       "layout": "IPY_MODEL_6cf6c1edd4bb43db925416c12d3110a5",
       "placeholder": "​",
       "style": "IPY_MODEL_61f08e19c52f4d7db6df38458176564d",
       "tabbable": null,
       "tooltip": null,
       "value": "Generating train split: 100%"
      }
     },
     "04584e61c5f04d6e9086fe19b488c0d4": {
      "model_module": "@jupyter-widgets/base",
      "model_module_version": "2.0.0",
      "model_name": "LayoutModel",
      "state": {
       "_model_module": "@jupyter-widgets/base",
       "_model_module_version": "2.0.0",
       "_model_name": "LayoutModel",
       "_view_count": null,
       "_view_module": "@jupyter-widgets/base",
       "_view_module_version": "2.0.0",
       "_view_name": "LayoutView",
       "align_content": null,
       "align_items": null,
       "align_self": null,
       "border_bottom": null,
       "border_left": null,
       "border_right": null,
       "border_top": null,
       "bottom": null,
       "display": null,
       "flex": null,
       "flex_flow": null,
       "grid_area": null,
       "grid_auto_columns": null,
       "grid_auto_flow": null,
       "grid_auto_rows": null,
       "grid_column": null,
       "grid_gap": null,
       "grid_row": null,
       "grid_template_areas": null,
       "grid_template_columns": null,
       "grid_template_rows": null,
       "height": null,
       "justify_content": null,
       "justify_items": null,
       "left": null,
       "margin": null,
       "max_height": null,
       "max_width": null,
       "min_height": null,
       "min_width": null,
       "object_fit": null,
       "object_position": null,
       "order": null,
       "overflow": null,
       "padding": null,
       "right": null,
       "top": null,
       "visibility": null,
       "width": null
      }
     },
     "053d0e5e6ea24313898871a13ec8b87f": {
      "model_module": "@jupyter-widgets/controls",
      "model_module_version": "2.0.0",
      "model_name": "HTMLModel",
      "state": {
       "_dom_classes": [],
       "_model_module": "@jupyter-widgets/controls",
       "_model_module_version": "2.0.0",
       "_model_name": "HTMLModel",
       "_view_count": null,
       "_view_module": "@jupyter-widgets/controls",
       "_view_module_version": "2.0.0",
       "_view_name": "HTMLView",
       "description": "",
       "description_allow_html": false,
       "layout": "IPY_MODEL_a9dd2ed383e34e48ae65c98ddcfbf2ba",
       "placeholder": "​",
       "style": "IPY_MODEL_bed1d2395b334603b2063b9f1710abea",
       "tabbable": null,
       "tooltip": null,
       "value": "(…)-00003-of-00004-d243063613e5a057.parquet: 100%"
      }
     },
     "05a033f2418243ba909cdd7d8a322770": {
      "model_module": "@jupyter-widgets/base",
      "model_module_version": "2.0.0",
      "model_name": "LayoutModel",
      "state": {
       "_model_module": "@jupyter-widgets/base",
       "_model_module_version": "2.0.0",
       "_model_name": "LayoutModel",
       "_view_count": null,
       "_view_module": "@jupyter-widgets/base",
       "_view_module_version": "2.0.0",
       "_view_name": "LayoutView",
       "align_content": null,
       "align_items": null,
       "align_self": null,
       "border_bottom": null,
       "border_left": null,
       "border_right": null,
       "border_top": null,
       "bottom": null,
       "display": null,
       "flex": null,
       "flex_flow": null,
       "grid_area": null,
       "grid_auto_columns": null,
       "grid_auto_flow": null,
       "grid_auto_rows": null,
       "grid_column": null,
       "grid_gap": null,
       "grid_row": null,
       "grid_template_areas": null,
       "grid_template_columns": null,
       "grid_template_rows": null,
       "height": null,
       "justify_content": null,
       "justify_items": null,
       "left": null,
       "margin": null,
       "max_height": null,
       "max_width": null,
       "min_height": null,
       "min_width": null,
       "object_fit": null,
       "object_position": null,
       "order": null,
       "overflow": null,
       "padding": null,
       "right": null,
       "top": null,
       "visibility": null,
       "width": null
      }
     },
     "0647225956a446a3948edb58fe39d5f7": {
      "model_module": "@jupyter-widgets/controls",
      "model_module_version": "2.0.0",
      "model_name": "HBoxModel",
      "state": {
       "_dom_classes": [],
       "_model_module": "@jupyter-widgets/controls",
       "_model_module_version": "2.0.0",
       "_model_name": "HBoxModel",
       "_view_count": null,
       "_view_module": "@jupyter-widgets/controls",
       "_view_module_version": "2.0.0",
       "_view_name": "HBoxView",
       "box_style": "",
       "children": [
        "IPY_MODEL_445ca1e710c84998b1916960ab7c9c1f",
        "IPY_MODEL_0f4144c1a60f433f84f60662d4893381",
        "IPY_MODEL_dd76ce7a0f4143cd9cbd4e6c70aca16b"
       ],
       "layout": "IPY_MODEL_4e2c022e65f747559c6bed9b531c1bd1",
       "tabbable": null,
       "tooltip": null
      }
     },
     "069c931c37434b34a2c3b0e13b2f2ed9": {
      "model_module": "@jupyter-widgets/base",
      "model_module_version": "2.0.0",
      "model_name": "LayoutModel",
      "state": {
       "_model_module": "@jupyter-widgets/base",
       "_model_module_version": "2.0.0",
       "_model_name": "LayoutModel",
       "_view_count": null,
       "_view_module": "@jupyter-widgets/base",
       "_view_module_version": "2.0.0",
       "_view_name": "LayoutView",
       "align_content": null,
       "align_items": null,
       "align_self": null,
       "border_bottom": null,
       "border_left": null,
       "border_right": null,
       "border_top": null,
       "bottom": null,
       "display": null,
       "flex": null,
       "flex_flow": null,
       "grid_area": null,
       "grid_auto_columns": null,
       "grid_auto_flow": null,
       "grid_auto_rows": null,
       "grid_column": null,
       "grid_gap": null,
       "grid_row": null,
       "grid_template_areas": null,
       "grid_template_columns": null,
       "grid_template_rows": null,
       "height": null,
       "justify_content": null,
       "justify_items": null,
       "left": null,
       "margin": null,
       "max_height": null,
       "max_width": null,
       "min_height": null,
       "min_width": null,
       "object_fit": null,
       "object_position": null,
       "order": null,
       "overflow": null,
       "padding": null,
       "right": null,
       "top": null,
       "visibility": null,
       "width": null
      }
     },
     "0b51d96ecc194dbebc45a2973b1fb3e4": {
      "model_module": "@jupyter-widgets/controls",
      "model_module_version": "2.0.0",
      "model_name": "HBoxModel",
      "state": {
       "_dom_classes": [],
       "_model_module": "@jupyter-widgets/controls",
       "_model_module_version": "2.0.0",
       "_model_name": "HBoxModel",
       "_view_count": null,
       "_view_module": "@jupyter-widgets/controls",
       "_view_module_version": "2.0.0",
       "_view_name": "HBoxView",
       "box_style": "",
       "children": [
        "IPY_MODEL_29ec37bec368439193793ec569bc0fb4",
        "IPY_MODEL_4fe58aeac5dc4925882e39e6e1de05eb",
        "IPY_MODEL_ad4c02d66be149ba95425c5c7722107f"
       ],
       "layout": "IPY_MODEL_7863886df4ea4da1b644599c4c1713d2",
       "tabbable": null,
       "tooltip": null
      }
     },
     "0c5262ca1d6e481d9c7086c14d1253d4": {
      "model_module": "@jupyter-widgets/controls",
      "model_module_version": "2.0.0",
      "model_name": "HBoxModel",
      "state": {
       "_dom_classes": [],
       "_model_module": "@jupyter-widgets/controls",
       "_model_module_version": "2.0.0",
       "_model_name": "HBoxModel",
       "_view_count": null,
       "_view_module": "@jupyter-widgets/controls",
       "_view_module_version": "2.0.0",
       "_view_name": "HBoxView",
       "box_style": "",
       "children": [
        "IPY_MODEL_2c008732af0b46fd8b5e33bc4f2f36bc",
        "IPY_MODEL_7d6dbf2fde95470384b7060394bf420a",
        "IPY_MODEL_992726846b2a4d5fa3695feace0afd27"
       ],
       "layout": "IPY_MODEL_99365937841e45e9a016d3685e432b80",
       "tabbable": null,
       "tooltip": null
      }
     },
     "0f4144c1a60f433f84f60662d4893381": {
      "model_module": "@jupyter-widgets/controls",
      "model_module_version": "2.0.0",
      "model_name": "FloatProgressModel",
      "state": {
       "_dom_classes": [],
       "_model_module": "@jupyter-widgets/controls",
       "_model_module_version": "2.0.0",
       "_model_name": "FloatProgressModel",
       "_view_count": null,
       "_view_module": "@jupyter-widgets/controls",
       "_view_module_version": "2.0.0",
       "_view_name": "ProgressView",
       "bar_style": "success",
       "description": "",
       "description_allow_html": false,
       "layout": "IPY_MODEL_c85ff157ee294d30a6fbd08d285703d1",
       "max": 1.0,
       "min": 0.0,
       "orientation": "horizontal",
       "style": "IPY_MODEL_a27056edf5cf4726a3db38c3fa7c1e8c",
       "tabbable": null,
       "tooltip": null,
       "value": 1.0
      }
     },
     "1170c17a1fdb454fbd49720299b87c41": {
      "model_module": "@jupyter-widgets/controls",
      "model_module_version": "2.0.0",
      "model_name": "FloatProgressModel",
      "state": {
       "_dom_classes": [],
       "_model_module": "@jupyter-widgets/controls",
       "_model_module_version": "2.0.0",
       "_model_name": "FloatProgressModel",
       "_view_count": null,
       "_view_module": "@jupyter-widgets/controls",
       "_view_module_version": "2.0.0",
       "_view_name": "ProgressView",
       "bar_style": "success",
       "description": "",
       "description_allow_html": false,
       "layout": "IPY_MODEL_3346d47116ca4aa2828c992516681fbb",
       "max": 21990.0,
       "min": 0.0,
       "orientation": "horizontal",
       "style": "IPY_MODEL_1fbc2f1d301e44c49a5ad052e2ff4cd2",
       "tabbable": null,
       "tooltip": null,
       "value": 21990.0
      }
     },
     "16e7ff44c16d4013b6591fd60d6aaba8": {
      "model_module": "@jupyter-widgets/controls",
      "model_module_version": "2.0.0",
      "model_name": "HTMLStyleModel",
      "state": {
       "_model_module": "@jupyter-widgets/controls",
       "_model_module_version": "2.0.0",
       "_model_name": "HTMLStyleModel",
       "_view_count": null,
       "_view_module": "@jupyter-widgets/base",
       "_view_module_version": "2.0.0",
       "_view_name": "StyleView",
       "background": null,
       "description_width": "",
       "font_size": null,
       "text_color": null
      }
     },
     "19101165b8304019a5e67cab46415b4e": {
      "model_module": "@jupyter-widgets/controls",
      "model_module_version": "2.0.0",
      "model_name": "HTMLModel",
      "state": {
       "_dom_classes": [],
       "_model_module": "@jupyter-widgets/controls",
       "_model_module_version": "2.0.0",
       "_model_name": "HTMLModel",
       "_view_count": null,
       "_view_module": "@jupyter-widgets/controls",
       "_view_module_version": "2.0.0",
       "_view_name": "HTMLView",
       "description": "",
       "description_allow_html": false,
       "layout": "IPY_MODEL_d1ae1356a1c248438655c52ef529af09",
       "placeholder": "​",
       "style": "IPY_MODEL_6886bdad46a942bc8174a924deec42a7",
       "tabbable": null,
       "tooltip": null,
       "value": "tokenizer.json: 100%"
      }
     },
     "1bfede2dc9004b1abbd4a0cfdbb8e28e": {
      "model_module": "@jupyter-widgets/controls",
      "model_module_version": "2.0.0",
      "model_name": "HTMLModel",
      "state": {
       "_dom_classes": [],
       "_model_module": "@jupyter-widgets/controls",
       "_model_module_version": "2.0.0",
       "_model_name": "HTMLModel",
       "_view_count": null,
       "_view_module": "@jupyter-widgets/controls",
       "_view_module_version": "2.0.0",
       "_view_name": "HTMLView",
       "description": "",
       "description_allow_html": false,
       "layout": "IPY_MODEL_05a033f2418243ba909cdd7d8a322770",
       "placeholder": "​",
       "style": "IPY_MODEL_16e7ff44c16d4013b6591fd60d6aaba8",
       "tabbable": null,
       "tooltip": null,
       "value": " 456k/456k [00:00&lt;00:00, 1.14MB/s]"
      }
     },
     "1ca6e2a075e6452cb0c1f082837c1b01": {
      "model_module": "@jupyter-widgets/controls",
      "model_module_version": "2.0.0",
      "model_name": "HTMLModel",
      "state": {
       "_dom_classes": [],
       "_model_module": "@jupyter-widgets/controls",
       "_model_module_version": "2.0.0",
       "_model_name": "HTMLModel",
       "_view_count": null,
       "_view_module": "@jupyter-widgets/controls",
       "_view_module_version": "2.0.0",
       "_view_name": "HTMLView",
       "description": "",
       "description_allow_html": false,
       "layout": "IPY_MODEL_b62af0702f6a48c487eda50ce26e9030",
       "placeholder": "​",
       "style": "IPY_MODEL_2902280a2a114cd3acb22f518d2fb0dc",
       "tabbable": null,
       "tooltip": null,
       "value": "Generating validation split: 100%"
      }
     },
     "1d6fa81acf7f4798b3e2f3017bac9f90": {
      "model_module": "@jupyter-widgets/controls",
      "model_module_version": "2.0.0",
      "model_name": "ProgressStyleModel",
      "state": {
       "_model_module": "@jupyter-widgets/controls",
       "_model_module_version": "2.0.0",
       "_model_name": "ProgressStyleModel",
       "_view_count": null,
       "_view_module": "@jupyter-widgets/base",
       "_view_module_version": "2.0.0",
       "_view_name": "StyleView",
       "bar_color": null,
       "description_width": ""
      }
     },
     "1e5b1d6f15a34d3c95c61280dc561474": {
      "model_module": "@jupyter-widgets/controls",
      "model_module_version": "2.0.0",
      "model_name": "FloatProgressModel",
      "state": {
       "_dom_classes": [],
       "_model_module": "@jupyter-widgets/controls",
       "_model_module_version": "2.0.0",
       "_model_name": "FloatProgressModel",
       "_view_count": null,
       "_view_module": "@jupyter-widgets/controls",
       "_view_module_version": "2.0.0",
       "_view_name": "ProgressView",
       "bar_style": "success",
       "description": "",
       "description_allow_html": false,
       "layout": "IPY_MODEL_ee67004a48c64e9f987a8b7b36749fed",
       "max": 248731111.0,
       "min": 0.0,
       "orientation": "horizontal",
       "style": "IPY_MODEL_ab80c69cfe85466681f7ed0ae5c27dcc",
       "tabbable": null,
       "tooltip": null,
       "value": 248731111.0
      }
     },
     "1e9b44ff9e464cd5a166c2aee8654bd1": {
      "model_module": "@jupyter-widgets/controls",
      "model_module_version": "2.0.0",
      "model_name": "HBoxModel",
      "state": {
       "_dom_classes": [],
       "_model_module": "@jupyter-widgets/controls",
       "_model_module_version": "2.0.0",
       "_model_name": "HBoxModel",
       "_view_count": null,
       "_view_module": "@jupyter-widgets/controls",
       "_view_module_version": "2.0.0",
       "_view_name": "HBoxView",
       "box_style": "",
       "children": [
        "IPY_MODEL_dc68f14b040b499ab3405b194b7919f1",
        "IPY_MODEL_d656f25c55b147ce9bb8ebc4f9b0f750",
        "IPY_MODEL_f334990059f14cfdaf5e00b53956d684"
       ],
       "layout": "IPY_MODEL_9f29f19e730e4547a65c4b32ae2c80ea",
       "tabbable": null,
       "tooltip": null
      }
     },
     "1fbc2f1d301e44c49a5ad052e2ff4cd2": {
      "model_module": "@jupyter-widgets/controls",
      "model_module_version": "2.0.0",
      "model_name": "ProgressStyleModel",
      "state": {
       "_model_module": "@jupyter-widgets/controls",
       "_model_module_version": "2.0.0",
       "_model_name": "ProgressStyleModel",
       "_view_count": null,
       "_view_module": "@jupyter-widgets/base",
       "_view_module_version": "2.0.0",
       "_view_name": "StyleView",
       "bar_color": null,
       "description_width": ""
      }
     },
     "23bc0517d485496e9ce6bf70adbc6539": {
      "model_module": "@jupyter-widgets/controls",
      "model_module_version": "2.0.0",
      "model_name": "HBoxModel",
      "state": {
       "_dom_classes": [],
       "_model_module": "@jupyter-widgets/controls",
       "_model_module_version": "2.0.0",
       "_model_name": "HBoxModel",
       "_view_count": null,
       "_view_module": "@jupyter-widgets/controls",
       "_view_module_version": "2.0.0",
       "_view_name": "HBoxView",
       "box_style": "",
       "children": [
        "IPY_MODEL_0365a75beb874cb8bceb94c28a97c87c",
        "IPY_MODEL_bccb1ff6e9844496bb93760bafb296b2",
        "IPY_MODEL_b44b35d1f1764df7b194e2c135af3214"
       ],
       "layout": "IPY_MODEL_4e076350052848d7ac1a9700c5960442",
       "tabbable": null,
       "tooltip": null
      }
     },
     "24f5676518824a5c881a13039ace7a34": {
      "model_module": "@jupyter-widgets/controls",
      "model_module_version": "2.0.0",
      "model_name": "HTMLStyleModel",
      "state": {
       "_model_module": "@jupyter-widgets/controls",
       "_model_module_version": "2.0.0",
       "_model_name": "HTMLStyleModel",
       "_view_count": null,
       "_view_module": "@jupyter-widgets/base",
       "_view_module_version": "2.0.0",
       "_view_name": "StyleView",
       "background": null,
       "description_width": "",
       "font_size": null,
       "text_color": null
      }
     },
     "253e7aedd5a842ec853cc519ff8ea5d3": {
      "model_module": "@jupyter-widgets/base",
      "model_module_version": "2.0.0",
      "model_name": "LayoutModel",
      "state": {
       "_model_module": "@jupyter-widgets/base",
       "_model_module_version": "2.0.0",
       "_model_name": "LayoutModel",
       "_view_count": null,
       "_view_module": "@jupyter-widgets/base",
       "_view_module_version": "2.0.0",
       "_view_name": "LayoutView",
       "align_content": null,
       "align_items": null,
       "align_self": null,
       "border_bottom": null,
       "border_left": null,
       "border_right": null,
       "border_top": null,
       "bottom": null,
       "display": null,
       "flex": null,
       "flex_flow": null,
       "grid_area": null,
       "grid_auto_columns": null,
       "grid_auto_flow": null,
       "grid_auto_rows": null,
       "grid_column": null,
       "grid_gap": null,
       "grid_row": null,
       "grid_template_areas": null,
       "grid_template_columns": null,
       "grid_template_rows": null,
       "height": null,
       "justify_content": null,
       "justify_items": null,
       "left": null,
       "margin": null,
       "max_height": null,
       "max_width": null,
       "min_height": null,
       "min_width": null,
       "object_fit": null,
       "object_position": null,
       "order": null,
       "overflow": null,
       "padding": null,
       "right": null,
       "top": null,
       "visibility": null,
       "width": null
      }
     },
     "268b888621504b2ea864e4ba82ecc8fc": {
      "model_module": "@jupyter-widgets/controls",
      "model_module_version": "2.0.0",
      "model_name": "FloatProgressModel",
      "state": {
       "_dom_classes": [],
       "_model_module": "@jupyter-widgets/controls",
       "_model_module_version": "2.0.0",
       "_model_name": "FloatProgressModel",
       "_view_count": null,
       "_view_module": "@jupyter-widgets/controls",
       "_view_module_version": "2.0.0",
       "_view_name": "ProgressView",
       "bar_style": "success",
       "description": "",
       "description_allow_html": false,
       "layout": "IPY_MODEL_04584e61c5f04d6e9086fe19b488c0d4",
       "max": 245894874.0,
       "min": 0.0,
       "orientation": "horizontal",
       "style": "IPY_MODEL_9fb167d219ab440c8a356d37da520bf5",
       "tabbable": null,
       "tooltip": null,
       "value": 245894874.0
      }
     },
     "27e59967918c4080aeb9d900efb75c84": {
      "model_module": "@jupyter-widgets/controls",
      "model_module_version": "2.0.0",
      "model_name": "HTMLStyleModel",
      "state": {
       "_model_module": "@jupyter-widgets/controls",
       "_model_module_version": "2.0.0",
       "_model_name": "HTMLStyleModel",
       "_view_count": null,
       "_view_module": "@jupyter-widgets/base",
       "_view_module_version": "2.0.0",
       "_view_name": "StyleView",
       "background": null,
       "description_width": "",
       "font_size": null,
       "text_color": null
      }
     },
     "2902280a2a114cd3acb22f518d2fb0dc": {
      "model_module": "@jupyter-widgets/controls",
      "model_module_version": "2.0.0",
      "model_name": "HTMLStyleModel",
      "state": {
       "_model_module": "@jupyter-widgets/controls",
       "_model_module_version": "2.0.0",
       "_model_name": "HTMLStyleModel",
       "_view_count": null,
       "_view_module": "@jupyter-widgets/base",
       "_view_module_version": "2.0.0",
       "_view_name": "StyleView",
       "background": null,
       "description_width": "",
       "font_size": null,
       "text_color": null
      }
     },
     "29ec37bec368439193793ec569bc0fb4": {
      "model_module": "@jupyter-widgets/controls",
      "model_module_version": "2.0.0",
      "model_name": "HTMLModel",
      "state": {
       "_dom_classes": [],
       "_model_module": "@jupyter-widgets/controls",
       "_model_module_version": "2.0.0",
       "_model_name": "HTMLModel",
       "_view_count": null,
       "_view_module": "@jupyter-widgets/controls",
       "_view_module_version": "2.0.0",
       "_view_name": "HTMLView",
       "description": "",
       "description_allow_html": false,
       "layout": "IPY_MODEL_c2d9bd84777a499ba409ee8ace2a4629",
       "placeholder": "​",
       "style": "IPY_MODEL_ca6576fe850740e49f8ba81c059a2454",
       "tabbable": null,
       "tooltip": null,
       "value": "vocab.json: 100%"
      }
     },
     "2b5185edd5e14c16a1781489573ff4cd": {
      "model_module": "@jupyter-widgets/base",
      "model_module_version": "2.0.0",
      "model_name": "LayoutModel",
      "state": {
       "_model_module": "@jupyter-widgets/base",
       "_model_module_version": "2.0.0",
       "_model_name": "LayoutModel",
       "_view_count": null,
       "_view_module": "@jupyter-widgets/base",
       "_view_module_version": "2.0.0",
       "_view_name": "LayoutView",
       "align_content": null,
       "align_items": null,
       "align_self": null,
       "border_bottom": null,
       "border_left": null,
       "border_right": null,
       "border_top": null,
       "bottom": null,
       "display": null,
       "flex": null,
       "flex_flow": null,
       "grid_area": null,
       "grid_auto_columns": null,
       "grid_auto_flow": null,
       "grid_auto_rows": null,
       "grid_column": null,
       "grid_gap": null,
       "grid_row": null,
       "grid_template_areas": null,
       "grid_template_columns": null,
       "grid_template_rows": null,
       "height": null,
       "justify_content": null,
       "justify_items": null,
       "left": null,
       "margin": null,
       "max_height": null,
       "max_width": null,
       "min_height": null,
       "min_width": null,
       "object_fit": null,
       "object_position": null,
       "order": null,
       "overflow": null,
       "padding": null,
       "right": null,
       "top": null,
       "visibility": null,
       "width": null
      }
     },
     "2c008732af0b46fd8b5e33bc4f2f36bc": {
      "model_module": "@jupyter-widgets/controls",
      "model_module_version": "2.0.0",
      "model_name": "HTMLModel",
      "state": {
       "_dom_classes": [],
       "_model_module": "@jupyter-widgets/controls",
       "_model_module_version": "2.0.0",
       "_model_name": "HTMLModel",
       "_view_count": null,
       "_view_module": "@jupyter-widgets/controls",
       "_view_module_version": "2.0.0",
       "_view_name": "HTMLView",
       "description": "",
       "description_allow_html": false,
       "layout": "IPY_MODEL_bf4860d7a80e43e1a77d16b1f0f94308",
       "placeholder": "​",
       "style": "IPY_MODEL_ee5ff1878f864c0397e0e0385f59f4d1",
       "tabbable": null,
       "tooltip": null,
       "value": "(…)-00001-of-00004-5852b56a2bd28fd9.parquet: 100%"
      }
     },
     "2c3da1317ccd481fb0d4240e39c0676f": {
      "model_module": "@jupyter-widgets/base",
      "model_module_version": "2.0.0",
      "model_name": "LayoutModel",
      "state": {
       "_model_module": "@jupyter-widgets/base",
       "_model_module_version": "2.0.0",
       "_model_name": "LayoutModel",
       "_view_count": null,
       "_view_module": "@jupyter-widgets/base",
       "_view_module_version": "2.0.0",
       "_view_name": "LayoutView",
       "align_content": null,
       "align_items": null,
       "align_self": null,
       "border_bottom": null,
       "border_left": null,
       "border_right": null,
       "border_top": null,
       "bottom": null,
       "display": null,
       "flex": null,
       "flex_flow": null,
       "grid_area": null,
       "grid_auto_columns": null,
       "grid_auto_flow": null,
       "grid_auto_rows": null,
       "grid_column": null,
       "grid_gap": null,
       "grid_row": null,
       "grid_template_areas": null,
       "grid_template_columns": null,
       "grid_template_rows": null,
       "height": null,
       "justify_content": null,
       "justify_items": null,
       "left": null,
       "margin": null,
       "max_height": null,
       "max_width": null,
       "min_height": null,
       "min_width": null,
       "object_fit": null,
       "object_position": null,
       "order": null,
       "overflow": null,
       "padding": null,
       "right": null,
       "top": null,
       "visibility": null,
       "width": null
      }
     },
     "2c6be7a12f5a4ffcb94c03e88eb110ec": {
      "model_module": "@jupyter-widgets/base",
      "model_module_version": "2.0.0",
      "model_name": "LayoutModel",
      "state": {
       "_model_module": "@jupyter-widgets/base",
       "_model_module_version": "2.0.0",
       "_model_name": "LayoutModel",
       "_view_count": null,
       "_view_module": "@jupyter-widgets/base",
       "_view_module_version": "2.0.0",
       "_view_name": "LayoutView",
       "align_content": null,
       "align_items": null,
       "align_self": null,
       "border_bottom": null,
       "border_left": null,
       "border_right": null,
       "border_top": null,
       "bottom": null,
       "display": null,
       "flex": null,
       "flex_flow": null,
       "grid_area": null,
       "grid_auto_columns": null,
       "grid_auto_flow": null,
       "grid_auto_rows": null,
       "grid_column": null,
       "grid_gap": null,
       "grid_row": null,
       "grid_template_areas": null,
       "grid_template_columns": null,
       "grid_template_rows": null,
       "height": null,
       "justify_content": null,
       "justify_items": null,
       "left": null,
       "margin": null,
       "max_height": null,
       "max_width": null,
       "min_height": null,
       "min_width": null,
       "object_fit": null,
       "object_position": null,
       "order": null,
       "overflow": null,
       "padding": null,
       "right": null,
       "top": null,
       "visibility": null,
       "width": null
      }
     },
     "3346d47116ca4aa2828c992516681fbb": {
      "model_module": "@jupyter-widgets/base",
      "model_module_version": "2.0.0",
      "model_name": "LayoutModel",
      "state": {
       "_model_module": "@jupyter-widgets/base",
       "_model_module_version": "2.0.0",
       "_model_name": "LayoutModel",
       "_view_count": null,
       "_view_module": "@jupyter-widgets/base",
       "_view_module_version": "2.0.0",
       "_view_name": "LayoutView",
       "align_content": null,
       "align_items": null,
       "align_self": null,
       "border_bottom": null,
       "border_left": null,
       "border_right": null,
       "border_top": null,
       "bottom": null,
       "display": null,
       "flex": null,
       "flex_flow": null,
       "grid_area": null,
       "grid_auto_columns": null,
       "grid_auto_flow": null,
       "grid_auto_rows": null,
       "grid_column": null,
       "grid_gap": null,
       "grid_row": null,
       "grid_template_areas": null,
       "grid_template_columns": null,
       "grid_template_rows": null,
       "height": null,
       "justify_content": null,
       "justify_items": null,
       "left": null,
       "margin": null,
       "max_height": null,
       "max_width": null,
       "min_height": null,
       "min_width": null,
       "object_fit": null,
       "object_position": null,
       "order": null,
       "overflow": null,
       "padding": null,
       "right": null,
       "top": null,
       "visibility": null,
       "width": null
      }
     },
     "33629b57d5a349538cc5b522dcac32d3": {
      "model_module": "@jupyter-widgets/controls",
      "model_module_version": "2.0.0",
      "model_name": "HTMLModel",
      "state": {
       "_dom_classes": [],
       "_model_module": "@jupyter-widgets/controls",
       "_model_module_version": "2.0.0",
       "_model_name": "HTMLModel",
       "_view_count": null,
       "_view_module": "@jupyter-widgets/controls",
       "_view_module_version": "2.0.0",
       "_view_name": "HTMLView",
       "description": "",
       "description_allow_html": false,
       "layout": "IPY_MODEL_aaca6caa680344cdba2e774b86806cf3",
       "placeholder": "​",
       "style": "IPY_MODEL_9244fdf22ce843dcb1415384049907b9",
       "tabbable": null,
       "tooltip": null,
       "value": "Computing checksums: 100%"
      }
     },
     "344b81d1ad444291b76d1ed00a47adf1": {
      "model_module": "@jupyter-widgets/controls",
      "model_module_version": "2.0.0",
      "model_name": "ProgressStyleModel",
      "state": {
       "_model_module": "@jupyter-widgets/controls",
       "_model_module_version": "2.0.0",
       "_model_name": "ProgressStyleModel",
       "_view_count": null,
       "_view_module": "@jupyter-widgets/base",
       "_view_module_version": "2.0.0",
       "_view_name": "StyleView",
       "bar_color": null,
       "description_width": ""
      }
     },
     "349e0b4ad8494348927f4a738c87ff89": {
      "model_module": "@jupyter-widgets/controls",
      "model_module_version": "2.0.0",
      "model_name": "HTMLStyleModel",
      "state": {
       "_model_module": "@jupyter-widgets/controls",
       "_model_module_version": "2.0.0",
       "_model_name": "HTMLStyleModel",
       "_view_count": null,
       "_view_module": "@jupyter-widgets/base",
       "_view_module_version": "2.0.0",
       "_view_name": "StyleView",
       "background": null,
       "description_width": "",
       "font_size": null,
       "text_color": null
      }
     },
     "35973c11feb84854828393b3e95342b2": {
      "model_module": "@jupyter-widgets/base",
      "model_module_version": "2.0.0",
      "model_name": "LayoutModel",
      "state": {
       "_model_module": "@jupyter-widgets/base",
       "_model_module_version": "2.0.0",
       "_model_name": "LayoutModel",
       "_view_count": null,
       "_view_module": "@jupyter-widgets/base",
       "_view_module_version": "2.0.0",
       "_view_name": "LayoutView",
       "align_content": null,
       "align_items": null,
       "align_self": null,
       "border_bottom": null,
       "border_left": null,
       "border_right": null,
       "border_top": null,
       "bottom": null,
       "display": null,
       "flex": null,
       "flex_flow": null,
       "grid_area": null,
       "grid_auto_columns": null,
       "grid_auto_flow": null,
       "grid_auto_rows": null,
       "grid_column": null,
       "grid_gap": null,
       "grid_row": null,
       "grid_template_areas": null,
       "grid_template_columns": null,
       "grid_template_rows": null,
       "height": null,
       "justify_content": null,
       "justify_items": null,
       "left": null,
       "margin": null,
       "max_height": null,
       "max_width": null,
       "min_height": null,
       "min_width": null,
       "object_fit": null,
       "object_position": null,
       "order": null,
       "overflow": null,
       "padding": null,
       "right": null,
       "top": null,
       "visibility": null,
       "width": null
      }
     },
     "375592e3f5074dc5b9f57bb58c9616dc": {
      "model_module": "@jupyter-widgets/base",
      "model_module_version": "2.0.0",
      "model_name": "LayoutModel",
      "state": {
       "_model_module": "@jupyter-widgets/base",
       "_model_module_version": "2.0.0",
       "_model_name": "LayoutModel",
       "_view_count": null,
       "_view_module": "@jupyter-widgets/base",
       "_view_module_version": "2.0.0",
       "_view_name": "LayoutView",
       "align_content": null,
       "align_items": null,
       "align_self": null,
       "border_bottom": null,
       "border_left": null,
       "border_right": null,
       "border_top": null,
       "bottom": null,
       "display": null,
       "flex": null,
       "flex_flow": null,
       "grid_area": null,
       "grid_auto_columns": null,
       "grid_auto_flow": null,
       "grid_auto_rows": null,
       "grid_column": null,
       "grid_gap": null,
       "grid_row": null,
       "grid_template_areas": null,
       "grid_template_columns": null,
       "grid_template_rows": null,
       "height": null,
       "justify_content": null,
       "justify_items": null,
       "left": null,
       "margin": null,
       "max_height": null,
       "max_width": null,
       "min_height": null,
       "min_width": null,
       "object_fit": null,
       "object_position": null,
       "order": null,
       "overflow": null,
       "padding": null,
       "right": null,
       "top": null,
       "visibility": null,
       "width": null
      }
     },
     "396143ba8377400f91b9f946cda821b9": {
      "model_module": "@jupyter-widgets/base",
      "model_module_version": "2.0.0",
      "model_name": "LayoutModel",
      "state": {
       "_model_module": "@jupyter-widgets/base",
       "_model_module_version": "2.0.0",
       "_model_name": "LayoutModel",
       "_view_count": null,
       "_view_module": "@jupyter-widgets/base",
       "_view_module_version": "2.0.0",
       "_view_name": "LayoutView",
       "align_content": null,
       "align_items": null,
       "align_self": null,
       "border_bottom": null,
       "border_left": null,
       "border_right": null,
       "border_top": null,
       "bottom": null,
       "display": null,
       "flex": null,
       "flex_flow": null,
       "grid_area": null,
       "grid_auto_columns": null,
       "grid_auto_flow": null,
       "grid_auto_rows": null,
       "grid_column": null,
       "grid_gap": null,
       "grid_row": null,
       "grid_template_areas": null,
       "grid_template_columns": null,
       "grid_template_rows": null,
       "height": null,
       "justify_content": null,
       "justify_items": null,
       "left": null,
       "margin": null,
       "max_height": null,
       "max_width": null,
       "min_height": null,
       "min_width": null,
       "object_fit": null,
       "object_position": null,
       "order": null,
       "overflow": null,
       "padding": null,
       "right": null,
       "top": null,
       "visibility": null,
       "width": null
      }
     },
     "3adf3d0a3b804a3cbdd8c5c94bd3c9ef": {
      "model_module": "@jupyter-widgets/controls",
      "model_module_version": "2.0.0",
      "model_name": "HTMLStyleModel",
      "state": {
       "_model_module": "@jupyter-widgets/controls",
       "_model_module_version": "2.0.0",
       "_model_name": "HTMLStyleModel",
       "_view_count": null,
       "_view_module": "@jupyter-widgets/base",
       "_view_module_version": "2.0.0",
       "_view_name": "StyleView",
       "background": null,
       "description_width": "",
       "font_size": null,
       "text_color": null
      }
     },
     "3b3476401f454fef8c9b3868b6df42c9": {
      "model_module": "@jupyter-widgets/base",
      "model_module_version": "2.0.0",
      "model_name": "LayoutModel",
      "state": {
       "_model_module": "@jupyter-widgets/base",
       "_model_module_version": "2.0.0",
       "_model_name": "LayoutModel",
       "_view_count": null,
       "_view_module": "@jupyter-widgets/base",
       "_view_module_version": "2.0.0",
       "_view_name": "LayoutView",
       "align_content": null,
       "align_items": null,
       "align_self": null,
       "border_bottom": null,
       "border_left": null,
       "border_right": null,
       "border_top": null,
       "bottom": null,
       "display": null,
       "flex": null,
       "flex_flow": null,
       "grid_area": null,
       "grid_auto_columns": null,
       "grid_auto_flow": null,
       "grid_auto_rows": null,
       "grid_column": null,
       "grid_gap": null,
       "grid_row": null,
       "grid_template_areas": null,
       "grid_template_columns": null,
       "grid_template_rows": null,
       "height": null,
       "justify_content": null,
       "justify_items": null,
       "left": null,
       "margin": null,
       "max_height": null,
       "max_width": null,
       "min_height": null,
       "min_width": null,
       "object_fit": null,
       "object_position": null,
       "order": null,
       "overflow": null,
       "padding": null,
       "right": null,
       "top": null,
       "visibility": null,
       "width": null
      }
     },
     "3b3d415a0ba546d98d12227b9a44503b": {
      "model_module": "@jupyter-widgets/controls",
      "model_module_version": "2.0.0",
      "model_name": "HBoxModel",
      "state": {
       "_dom_classes": [],
       "_model_module": "@jupyter-widgets/controls",
       "_model_module_version": "2.0.0",
       "_model_name": "HBoxModel",
       "_view_count": null,
       "_view_module": "@jupyter-widgets/controls",
       "_view_module_version": "2.0.0",
       "_view_name": "HBoxView",
       "box_style": "",
       "children": [
        "IPY_MODEL_33629b57d5a349538cc5b522dcac32d3",
        "IPY_MODEL_d786cc1334f24b23b522fbd8152b3b41",
        "IPY_MODEL_c4d6e163ac8b4db781bb0287dea2a8a6"
       ],
       "layout": "IPY_MODEL_7fc4d84116a341228751a3aad0ad3ab3",
       "tabbable": null,
       "tooltip": null
      }
     },
     "3b3e867b6e3f4387a89516ba90794af3": {
      "model_module": "@jupyter-widgets/controls",
      "model_module_version": "2.0.0",
      "model_name": "ProgressStyleModel",
      "state": {
       "_model_module": "@jupyter-widgets/controls",
       "_model_module_version": "2.0.0",
       "_model_name": "ProgressStyleModel",
       "_view_count": null,
       "_view_module": "@jupyter-widgets/base",
       "_view_module_version": "2.0.0",
       "_view_name": "StyleView",
       "bar_color": null,
       "description_width": ""
      }
     },
     "3c36c30001524702895becaec5afa035": {
      "model_module": "@jupyter-widgets/controls",
      "model_module_version": "2.0.0",
      "model_name": "ProgressStyleModel",
      "state": {
       "_model_module": "@jupyter-widgets/controls",
       "_model_module_version": "2.0.0",
       "_model_name": "ProgressStyleModel",
       "_view_count": null,
       "_view_module": "@jupyter-widgets/base",
       "_view_module_version": "2.0.0",
       "_view_name": "StyleView",
       "bar_color": null,
       "description_width": ""
      }
     },
     "3f2d66fdb8a740e9b1f249325bb67a7f": {
      "model_module": "@jupyter-widgets/controls",
      "model_module_version": "2.0.0",
      "model_name": "HBoxModel",
      "state": {
       "_dom_classes": [],
       "_model_module": "@jupyter-widgets/controls",
       "_model_module_version": "2.0.0",
       "_model_name": "HBoxModel",
       "_view_count": null,
       "_view_module": "@jupyter-widgets/controls",
       "_view_module_version": "2.0.0",
       "_view_name": "HBoxView",
       "box_style": "",
       "children": [
        "IPY_MODEL_ca041565becc47f48a1b7236539a2ac0",
        "IPY_MODEL_1e5b1d6f15a34d3c95c61280dc561474",
        "IPY_MODEL_600780294bcb4d4592948a9ba91addd8"
       ],
       "layout": "IPY_MODEL_f06ce730c28446c08bd6d662f040d6df",
       "tabbable": null,
       "tooltip": null
      }
     },
     "4062169c7c624cb18e906608a6f7d171": {
      "model_module": "@jupyter-widgets/controls",
      "model_module_version": "2.0.0",
      "model_name": "HTMLModel",
      "state": {
       "_dom_classes": [],
       "_model_module": "@jupyter-widgets/controls",
       "_model_module_version": "2.0.0",
       "_model_name": "HTMLModel",
       "_view_count": null,
       "_view_module": "@jupyter-widgets/controls",
       "_view_module_version": "2.0.0",
       "_view_name": "HTMLView",
       "description": "",
       "description_allow_html": false,
       "layout": "IPY_MODEL_4bb960e1b3ff4adcac39012eaa41a014",
       "placeholder": "​",
       "style": "IPY_MODEL_e8b90e1b90914733bf7d5465853a87c9",
       "tabbable": null,
       "tooltip": null,
       "value": " 248M/248M [00:00&lt;00:00, 361MB/s]"
      }
     },
     "4094be562a61489c8a1b250d9cdbd20c": {
      "model_module": "@jupyter-widgets/base",
      "model_module_version": "2.0.0",
      "model_name": "LayoutModel",
      "state": {
       "_model_module": "@jupyter-widgets/base",
       "_model_module_version": "2.0.0",
       "_model_name": "LayoutModel",
       "_view_count": null,
       "_view_module": "@jupyter-widgets/base",
       "_view_module_version": "2.0.0",
       "_view_name": "LayoutView",
       "align_content": null,
       "align_items": null,
       "align_self": null,
       "border_bottom": null,
       "border_left": null,
       "border_right": null,
       "border_top": null,
       "bottom": null,
       "display": null,
       "flex": null,
       "flex_flow": null,
       "grid_area": null,
       "grid_auto_columns": null,
       "grid_auto_flow": null,
       "grid_auto_rows": null,
       "grid_column": null,
       "grid_gap": null,
       "grid_row": null,
       "grid_template_areas": null,
       "grid_template_columns": null,
       "grid_template_rows": null,
       "height": null,
       "justify_content": null,
       "justify_items": null,
       "left": null,
       "margin": null,
       "max_height": null,
       "max_width": null,
       "min_height": null,
       "min_width": null,
       "object_fit": null,
       "object_position": null,
       "order": null,
       "overflow": null,
       "padding": null,
       "right": null,
       "top": null,
       "visibility": null,
       "width": null
      }
     },
     "4369c422239d4f1eaec88f79e644d2b4": {
      "model_module": "@jupyter-widgets/base",
      "model_module_version": "2.0.0",
      "model_name": "LayoutModel",
      "state": {
       "_model_module": "@jupyter-widgets/base",
       "_model_module_version": "2.0.0",
       "_model_name": "LayoutModel",
       "_view_count": null,
       "_view_module": "@jupyter-widgets/base",
       "_view_module_version": "2.0.0",
       "_view_name": "LayoutView",
       "align_content": null,
       "align_items": null,
       "align_self": null,
       "border_bottom": null,
       "border_left": null,
       "border_right": null,
       "border_top": null,
       "bottom": null,
       "display": null,
       "flex": null,
       "flex_flow": null,
       "grid_area": null,
       "grid_auto_columns": null,
       "grid_auto_flow": null,
       "grid_auto_rows": null,
       "grid_column": null,
       "grid_gap": null,
       "grid_row": null,
       "grid_template_areas": null,
       "grid_template_columns": null,
       "grid_template_rows": null,
       "height": null,
       "justify_content": null,
       "justify_items": null,
       "left": null,
       "margin": null,
       "max_height": null,
       "max_width": null,
       "min_height": null,
       "min_width": null,
       "object_fit": null,
       "object_position": null,
       "order": null,
       "overflow": null,
       "padding": null,
       "right": null,
       "top": null,
       "visibility": null,
       "width": null
      }
     },
     "445ca1e710c84998b1916960ab7c9c1f": {
      "model_module": "@jupyter-widgets/controls",
      "model_module_version": "2.0.0",
      "model_name": "HTMLModel",
      "state": {
       "_dom_classes": [],
       "_model_module": "@jupyter-widgets/controls",
       "_model_module_version": "2.0.0",
       "_model_name": "HTMLModel",
       "_view_count": null,
       "_view_module": "@jupyter-widgets/controls",
       "_view_module_version": "2.0.0",
       "_view_name": "HTMLView",
       "description": "",
       "description_allow_html": false,
       "layout": "IPY_MODEL_aa5a40f6f79a40e2b6c16a76462de2d5",
       "placeholder": "​",
       "style": "IPY_MODEL_01689a5b065748aea8787ef5e54b30ac",
       "tabbable": null,
       "tooltip": null,
       "value": "README.md: "
      }
     },
     "4566987d388e40b1b3713e02aaf369f4": {
      "model_module": "@jupyter-widgets/controls",
      "model_module_version": "2.0.0",
      "model_name": "HTMLModel",
      "state": {
       "_dom_classes": [],
       "_model_module": "@jupyter-widgets/controls",
       "_model_module_version": "2.0.0",
       "_model_name": "HTMLModel",
       "_view_count": null,
       "_view_module": "@jupyter-widgets/controls",
       "_view_module_version": "2.0.0",
       "_view_name": "HTMLView",
       "description": "",
       "description_allow_html": false,
       "layout": "IPY_MODEL_da5bab9649c34dbd8a0cb7ab6691c6cd",
       "placeholder": "​",
       "style": "IPY_MODEL_46bebb2196c548af83863dc67967f854",
       "tabbable": null,
       "tooltip": null,
       "value": " 21990/21990 [00:00&lt;00:00, 312710.61 examples/s]"
      }
     },
     "46bebb2196c548af83863dc67967f854": {
      "model_module": "@jupyter-widgets/controls",
      "model_module_version": "2.0.0",
      "model_name": "HTMLStyleModel",
      "state": {
       "_model_module": "@jupyter-widgets/controls",
       "_model_module_version": "2.0.0",
       "_model_name": "HTMLStyleModel",
       "_view_count": null,
       "_view_module": "@jupyter-widgets/base",
       "_view_module_version": "2.0.0",
       "_view_name": "StyleView",
       "background": null,
       "description_width": "",
       "font_size": null,
       "text_color": null
      }
     },
     "4bb960e1b3ff4adcac39012eaa41a014": {
      "model_module": "@jupyter-widgets/base",
      "model_module_version": "2.0.0",
      "model_name": "LayoutModel",
      "state": {
       "_model_module": "@jupyter-widgets/base",
       "_model_module_version": "2.0.0",
       "_model_name": "LayoutModel",
       "_view_count": null,
       "_view_module": "@jupyter-widgets/base",
       "_view_module_version": "2.0.0",
       "_view_name": "LayoutView",
       "align_content": null,
       "align_items": null,
       "align_self": null,
       "border_bottom": null,
       "border_left": null,
       "border_right": null,
       "border_top": null,
       "bottom": null,
       "display": null,
       "flex": null,
       "flex_flow": null,
       "grid_area": null,
       "grid_auto_columns": null,
       "grid_auto_flow": null,
       "grid_auto_rows": null,
       "grid_column": null,
       "grid_gap": null,
       "grid_row": null,
       "grid_template_areas": null,
       "grid_template_columns": null,
       "grid_template_rows": null,
       "height": null,
       "justify_content": null,
       "justify_items": null,
       "left": null,
       "margin": null,
       "max_height": null,
       "max_width": null,
       "min_height": null,
       "min_width": null,
       "object_fit": null,
       "object_position": null,
       "order": null,
       "overflow": null,
       "padding": null,
       "right": null,
       "top": null,
       "visibility": null,
       "width": null
      }
     },
     "4bee7d94d7d64572a9181cb9d2d85602": {
      "model_module": "@jupyter-widgets/controls",
      "model_module_version": "2.0.0",
      "model_name": "HTMLStyleModel",
      "state": {
       "_model_module": "@jupyter-widgets/controls",
       "_model_module_version": "2.0.0",
       "_model_name": "HTMLStyleModel",
       "_view_count": null,
       "_view_module": "@jupyter-widgets/base",
       "_view_module_version": "2.0.0",
       "_view_name": "StyleView",
       "background": null,
       "description_width": "",
       "font_size": null,
       "text_color": null
      }
     },
     "4e076350052848d7ac1a9700c5960442": {
      "model_module": "@jupyter-widgets/base",
      "model_module_version": "2.0.0",
      "model_name": "LayoutModel",
      "state": {
       "_model_module": "@jupyter-widgets/base",
       "_model_module_version": "2.0.0",
       "_model_name": "LayoutModel",
       "_view_count": null,
       "_view_module": "@jupyter-widgets/base",
       "_view_module_version": "2.0.0",
       "_view_name": "LayoutView",
       "align_content": null,
       "align_items": null,
       "align_self": null,
       "border_bottom": null,
       "border_left": null,
       "border_right": null,
       "border_top": null,
       "bottom": null,
       "display": null,
       "flex": null,
       "flex_flow": null,
       "grid_area": null,
       "grid_auto_columns": null,
       "grid_auto_flow": null,
       "grid_auto_rows": null,
       "grid_column": null,
       "grid_gap": null,
       "grid_row": null,
       "grid_template_areas": null,
       "grid_template_columns": null,
       "grid_template_rows": null,
       "height": null,
       "justify_content": null,
       "justify_items": null,
       "left": null,
       "margin": null,
       "max_height": null,
       "max_width": null,
       "min_height": null,
       "min_width": null,
       "object_fit": null,
       "object_position": null,
       "order": null,
       "overflow": null,
       "padding": null,
       "right": null,
       "top": null,
       "visibility": null,
       "width": null
      }
     },
     "4e2c022e65f747559c6bed9b531c1bd1": {
      "model_module": "@jupyter-widgets/base",
      "model_module_version": "2.0.0",
      "model_name": "LayoutModel",
      "state": {
       "_model_module": "@jupyter-widgets/base",
       "_model_module_version": "2.0.0",
       "_model_name": "LayoutModel",
       "_view_count": null,
       "_view_module": "@jupyter-widgets/base",
       "_view_module_version": "2.0.0",
       "_view_name": "LayoutView",
       "align_content": null,
       "align_items": null,
       "align_self": null,
       "border_bottom": null,
       "border_left": null,
       "border_right": null,
       "border_top": null,
       "bottom": null,
       "display": null,
       "flex": null,
       "flex_flow": null,
       "grid_area": null,
       "grid_auto_columns": null,
       "grid_auto_flow": null,
       "grid_auto_rows": null,
       "grid_column": null,
       "grid_gap": null,
       "grid_row": null,
       "grid_template_areas": null,
       "grid_template_columns": null,
       "grid_template_rows": null,
       "height": null,
       "justify_content": null,
       "justify_items": null,
       "left": null,
       "margin": null,
       "max_height": null,
       "max_width": null,
       "min_height": null,
       "min_width": null,
       "object_fit": null,
       "object_position": null,
       "order": null,
       "overflow": null,
       "padding": null,
       "right": null,
       "top": null,
       "visibility": null,
       "width": null
      }
     },
     "4fe58aeac5dc4925882e39e6e1de05eb": {
      "model_module": "@jupyter-widgets/controls",
      "model_module_version": "2.0.0",
      "model_name": "FloatProgressModel",
      "state": {
       "_dom_classes": [],
       "_model_module": "@jupyter-widgets/controls",
       "_model_module_version": "2.0.0",
       "_model_name": "FloatProgressModel",
       "_view_count": null,
       "_view_module": "@jupyter-widgets/controls",
       "_view_module_version": "2.0.0",
       "_view_name": "ProgressView",
       "bar_style": "success",
       "description": "",
       "description_allow_html": false,
       "layout": "IPY_MODEL_87853d43c1174fbc8d2f5bda07ca5103",
       "max": 1042301.0,
       "min": 0.0,
       "orientation": "horizontal",
       "style": "IPY_MODEL_b54aac24ddb941cf84c01e501b050fa5",
       "tabbable": null,
       "tooltip": null,
       "value": 1042301.0
      }
     },
     "50f9bfef1da1495a8f4d3c8001544de8": {
      "model_module": "@jupyter-widgets/base",
      "model_module_version": "2.0.0",
      "model_name": "LayoutModel",
      "state": {
       "_model_module": "@jupyter-widgets/base",
       "_model_module_version": "2.0.0",
       "_model_name": "LayoutModel",
       "_view_count": null,
       "_view_module": "@jupyter-widgets/base",
       "_view_module_version": "2.0.0",
       "_view_name": "LayoutView",
       "align_content": null,
       "align_items": null,
       "align_self": null,
       "border_bottom": null,
       "border_left": null,
       "border_right": null,
       "border_top": null,
       "bottom": null,
       "display": null,
       "flex": null,
       "flex_flow": null,
       "grid_area": null,
       "grid_auto_columns": null,
       "grid_auto_flow": null,
       "grid_auto_rows": null,
       "grid_column": null,
       "grid_gap": null,
       "grid_row": null,
       "grid_template_areas": null,
       "grid_template_columns": null,
       "grid_template_rows": null,
       "height": null,
       "justify_content": null,
       "justify_items": null,
       "left": null,
       "margin": null,
       "max_height": null,
       "max_width": null,
       "min_height": null,
       "min_width": null,
       "object_fit": null,
       "object_position": null,
       "order": null,
       "overflow": null,
       "padding": null,
       "right": null,
       "top": null,
       "visibility": null,
       "width": null
      }
     },
     "51e34836fe11427a8b26ee82342bc401": {
      "model_module": "@jupyter-widgets/base",
      "model_module_version": "2.0.0",
      "model_name": "LayoutModel",
      "state": {
       "_model_module": "@jupyter-widgets/base",
       "_model_module_version": "2.0.0",
       "_model_name": "LayoutModel",
       "_view_count": null,
       "_view_module": "@jupyter-widgets/base",
       "_view_module_version": "2.0.0",
       "_view_name": "LayoutView",
       "align_content": null,
       "align_items": null,
       "align_self": null,
       "border_bottom": null,
       "border_left": null,
       "border_right": null,
       "border_top": null,
       "bottom": null,
       "display": null,
       "flex": null,
       "flex_flow": null,
       "grid_area": null,
       "grid_auto_columns": null,
       "grid_auto_flow": null,
       "grid_auto_rows": null,
       "grid_column": null,
       "grid_gap": null,
       "grid_row": null,
       "grid_template_areas": null,
       "grid_template_columns": null,
       "grid_template_rows": null,
       "height": null,
       "justify_content": null,
       "justify_items": null,
       "left": null,
       "margin": null,
       "max_height": null,
       "max_width": null,
       "min_height": null,
       "min_width": null,
       "object_fit": null,
       "object_position": null,
       "order": null,
       "overflow": null,
       "padding": null,
       "right": null,
       "top": null,
       "visibility": null,
       "width": null
      }
     },
     "5379cab6da64414ea2b38c98dd871a59": {
      "model_module": "@jupyter-widgets/controls",
      "model_module_version": "2.0.0",
      "model_name": "HBoxModel",
      "state": {
       "_dom_classes": [],
       "_model_module": "@jupyter-widgets/controls",
       "_model_module_version": "2.0.0",
       "_model_name": "HBoxModel",
       "_view_count": null,
       "_view_module": "@jupyter-widgets/controls",
       "_view_module_version": "2.0.0",
       "_view_name": "HBoxView",
       "box_style": "",
       "children": [
        "IPY_MODEL_053d0e5e6ea24313898871a13ec8b87f",
        "IPY_MODEL_cf745c518be34adfb19b5f39489d02f1",
        "IPY_MODEL_4062169c7c624cb18e906608a6f7d171"
       ],
       "layout": "IPY_MODEL_9c5cd230142e477287dc1f0724eb8c47",
       "tabbable": null,
       "tooltip": null
      }
     },
     "55c23f1b0b0b4ac6a921d935401dc370": {
      "model_module": "@jupyter-widgets/controls",
      "model_module_version": "2.0.0",
      "model_name": "HTMLStyleModel",
      "state": {
       "_model_module": "@jupyter-widgets/controls",
       "_model_module_version": "2.0.0",
       "_model_name": "HTMLStyleModel",
       "_view_count": null,
       "_view_module": "@jupyter-widgets/base",
       "_view_module_version": "2.0.0",
       "_view_name": "StyleView",
       "background": null,
       "description_width": "",
       "font_size": null,
       "text_color": null
      }
     },
     "5fa5a5bf2e6349b1a068c503de372b88": {
      "model_module": "@jupyter-widgets/base",
      "model_module_version": "2.0.0",
      "model_name": "LayoutModel",
      "state": {
       "_model_module": "@jupyter-widgets/base",
       "_model_module_version": "2.0.0",
       "_model_name": "LayoutModel",
       "_view_count": null,
       "_view_module": "@jupyter-widgets/base",
       "_view_module_version": "2.0.0",
       "_view_name": "LayoutView",
       "align_content": null,
       "align_items": null,
       "align_self": null,
       "border_bottom": null,
       "border_left": null,
       "border_right": null,
       "border_top": null,
       "bottom": null,
       "display": null,
       "flex": null,
       "flex_flow": null,
       "grid_area": null,
       "grid_auto_columns": null,
       "grid_auto_flow": null,
       "grid_auto_rows": null,
       "grid_column": null,
       "grid_gap": null,
       "grid_row": null,
       "grid_template_areas": null,
       "grid_template_columns": null,
       "grid_template_rows": null,
       "height": null,
       "justify_content": null,
       "justify_items": null,
       "left": null,
       "margin": null,
       "max_height": null,
       "max_width": null,
       "min_height": null,
       "min_width": null,
       "object_fit": null,
       "object_position": null,
       "order": null,
       "overflow": null,
       "padding": null,
       "right": null,
       "top": null,
       "visibility": null,
       "width": null
      }
     },
     "600780294bcb4d4592948a9ba91addd8": {
      "model_module": "@jupyter-widgets/controls",
      "model_module_version": "2.0.0",
      "model_name": "HTMLModel",
      "state": {
       "_dom_classes": [],
       "_model_module": "@jupyter-widgets/controls",
       "_model_module_version": "2.0.0",
       "_model_name": "HTMLModel",
       "_view_count": null,
       "_view_module": "@jupyter-widgets/controls",
       "_view_module_version": "2.0.0",
       "_view_name": "HTMLView",
       "description": "",
       "description_allow_html": false,
       "layout": "IPY_MODEL_f1e4b2fc827b419a91aba47ac7f39ae0",
       "placeholder": "​",
       "style": "IPY_MODEL_cd16e4ad9ea2411e85d286806b872c69",
       "tabbable": null,
       "tooltip": null,
       "value": " 249M/249M [00:00&lt;00:00, 416MB/s]"
      }
     },
     "613c37c487a644bf8fb3755a55ef4cd5": {
      "model_module": "@jupyter-widgets/base",
      "model_module_version": "2.0.0",
      "model_name": "LayoutModel",
      "state": {
       "_model_module": "@jupyter-widgets/base",
       "_model_module_version": "2.0.0",
       "_model_name": "LayoutModel",
       "_view_count": null,
       "_view_module": "@jupyter-widgets/base",
       "_view_module_version": "2.0.0",
       "_view_name": "LayoutView",
       "align_content": null,
       "align_items": null,
       "align_self": null,
       "border_bottom": null,
       "border_left": null,
       "border_right": null,
       "border_top": null,
       "bottom": null,
       "display": null,
       "flex": null,
       "flex_flow": null,
       "grid_area": null,
       "grid_auto_columns": null,
       "grid_auto_flow": null,
       "grid_auto_rows": null,
       "grid_column": null,
       "grid_gap": null,
       "grid_row": null,
       "grid_template_areas": null,
       "grid_template_columns": null,
       "grid_template_rows": null,
       "height": null,
       "justify_content": null,
       "justify_items": null,
       "left": null,
       "margin": null,
       "max_height": null,
       "max_width": null,
       "min_height": null,
       "min_width": null,
       "object_fit": null,
       "object_position": null,
       "order": null,
       "overflow": null,
       "padding": null,
       "right": null,
       "top": null,
       "visibility": null,
       "width": null
      }
     },
     "61f08e19c52f4d7db6df38458176564d": {
      "model_module": "@jupyter-widgets/controls",
      "model_module_version": "2.0.0",
      "model_name": "HTMLStyleModel",
      "state": {
       "_model_module": "@jupyter-widgets/controls",
       "_model_module_version": "2.0.0",
       "_model_name": "HTMLStyleModel",
       "_view_count": null,
       "_view_module": "@jupyter-widgets/base",
       "_view_module_version": "2.0.0",
       "_view_name": "StyleView",
       "background": null,
       "description_width": "",
       "font_size": null,
       "text_color": null
      }
     },
     "62f018d72956472f94c4605a6a5b18a8": {
      "model_module": "@jupyter-widgets/controls",
      "model_module_version": "2.0.0",
      "model_name": "HTMLModel",
      "state": {
       "_dom_classes": [],
       "_model_module": "@jupyter-widgets/controls",
       "_model_module_version": "2.0.0",
       "_model_name": "HTMLModel",
       "_view_count": null,
       "_view_module": "@jupyter-widgets/controls",
       "_view_module_version": "2.0.0",
       "_view_name": "HTMLView",
       "description": "",
       "description_allow_html": false,
       "layout": "IPY_MODEL_77806ed0680e4565a93931daa4991929",
       "placeholder": "​",
       "style": "IPY_MODEL_8e895fb56ffb481685e199d50c8a1e69",
       "tabbable": null,
       "tooltip": null,
       "value": "tokenizer_config.json: 100%"
      }
     },
     "6404dfc10a534ce3a5e813a2c25ab57f": {
      "model_module": "@jupyter-widgets/controls",
      "model_module_version": "2.0.0",
      "model_name": "HBoxModel",
      "state": {
       "_dom_classes": [],
       "_model_module": "@jupyter-widgets/controls",
       "_model_module_version": "2.0.0",
       "_model_name": "HBoxModel",
       "_view_count": null,
       "_view_module": "@jupyter-widgets/controls",
       "_view_module_version": "2.0.0",
       "_view_name": "HBoxView",
       "box_style": "",
       "children": [
        "IPY_MODEL_19101165b8304019a5e67cab46415b4e",
        "IPY_MODEL_e9dcd64c143f4d8eb5847711ddbfcdb7",
        "IPY_MODEL_c23bb1198b6246ab82bff18dd3c6bee6"
       ],
       "layout": "IPY_MODEL_efc27c1886a541968ab12e5613c83b32",
       "tabbable": null,
       "tooltip": null
      }
     },
     "666cf749653744f69581ba2d01bd3e60": {
      "model_module": "@jupyter-widgets/controls",
      "model_module_version": "2.0.0",
      "model_name": "HTMLStyleModel",
      "state": {
       "_model_module": "@jupyter-widgets/controls",
       "_model_module_version": "2.0.0",
       "_model_name": "HTMLStyleModel",
       "_view_count": null,
       "_view_module": "@jupyter-widgets/base",
       "_view_module_version": "2.0.0",
       "_view_name": "StyleView",
       "background": null,
       "description_width": "",
       "font_size": null,
       "text_color": null
      }
     },
     "6886bdad46a942bc8174a924deec42a7": {
      "model_module": "@jupyter-widgets/controls",
      "model_module_version": "2.0.0",
      "model_name": "HTMLStyleModel",
      "state": {
       "_model_module": "@jupyter-widgets/controls",
       "_model_module_version": "2.0.0",
       "_model_name": "HTMLStyleModel",
       "_view_count": null,
       "_view_module": "@jupyter-widgets/base",
       "_view_module_version": "2.0.0",
       "_view_name": "StyleView",
       "background": null,
       "description_width": "",
       "font_size": null,
       "text_color": null
      }
     },
     "691f81458d514871b8aca03aa4b769dc": {
      "model_module": "@jupyter-widgets/controls",
      "model_module_version": "2.0.0",
      "model_name": "HTMLStyleModel",
      "state": {
       "_model_module": "@jupyter-widgets/controls",
       "_model_module_version": "2.0.0",
       "_model_name": "HTMLStyleModel",
       "_view_count": null,
       "_view_module": "@jupyter-widgets/base",
       "_view_module_version": "2.0.0",
       "_view_name": "StyleView",
       "background": null,
       "description_width": "",
       "font_size": null,
       "text_color": null
      }
     },
     "6a93dd8bb51f4285b90b21384c0408f3": {
      "model_module": "@jupyter-widgets/controls",
      "model_module_version": "2.0.0",
      "model_name": "ProgressStyleModel",
      "state": {
       "_model_module": "@jupyter-widgets/controls",
       "_model_module_version": "2.0.0",
       "_model_name": "ProgressStyleModel",
       "_view_count": null,
       "_view_module": "@jupyter-widgets/base",
       "_view_module_version": "2.0.0",
       "_view_name": "StyleView",
       "bar_color": null,
       "description_width": ""
      }
     },
     "6ab6cdeae69c4714b34fd1b24050c6c3": {
      "model_module": "@jupyter-widgets/base",
      "model_module_version": "2.0.0",
      "model_name": "LayoutModel",
      "state": {
       "_model_module": "@jupyter-widgets/base",
       "_model_module_version": "2.0.0",
       "_model_name": "LayoutModel",
       "_view_count": null,
       "_view_module": "@jupyter-widgets/base",
       "_view_module_version": "2.0.0",
       "_view_name": "LayoutView",
       "align_content": null,
       "align_items": null,
       "align_self": null,
       "border_bottom": null,
       "border_left": null,
       "border_right": null,
       "border_top": null,
       "bottom": null,
       "display": null,
       "flex": null,
       "flex_flow": null,
       "grid_area": null,
       "grid_auto_columns": null,
       "grid_auto_flow": null,
       "grid_auto_rows": null,
       "grid_column": null,
       "grid_gap": null,
       "grid_row": null,
       "grid_template_areas": null,
       "grid_template_columns": null,
       "grid_template_rows": null,
       "height": null,
       "justify_content": null,
       "justify_items": null,
       "left": null,
       "margin": null,
       "max_height": null,
       "max_width": null,
       "min_height": null,
       "min_width": null,
       "object_fit": null,
       "object_position": null,
       "order": null,
       "overflow": null,
       "padding": null,
       "right": null,
       "top": null,
       "visibility": null,
       "width": null
      }
     },
     "6c451228b8f0499cbbc611e46c1853a3": {
      "model_module": "@jupyter-widgets/base",
      "model_module_version": "2.0.0",
      "model_name": "LayoutModel",
      "state": {
       "_model_module": "@jupyter-widgets/base",
       "_model_module_version": "2.0.0",
       "_model_name": "LayoutModel",
       "_view_count": null,
       "_view_module": "@jupyter-widgets/base",
       "_view_module_version": "2.0.0",
       "_view_name": "LayoutView",
       "align_content": null,
       "align_items": null,
       "align_self": null,
       "border_bottom": null,
       "border_left": null,
       "border_right": null,
       "border_top": null,
       "bottom": null,
       "display": null,
       "flex": null,
       "flex_flow": null,
       "grid_area": null,
       "grid_auto_columns": null,
       "grid_auto_flow": null,
       "grid_auto_rows": null,
       "grid_column": null,
       "grid_gap": null,
       "grid_row": null,
       "grid_template_areas": null,
       "grid_template_columns": null,
       "grid_template_rows": null,
       "height": null,
       "justify_content": null,
       "justify_items": null,
       "left": null,
       "margin": null,
       "max_height": null,
       "max_width": null,
       "min_height": null,
       "min_width": null,
       "object_fit": null,
       "object_position": null,
       "order": null,
       "overflow": null,
       "padding": null,
       "right": null,
       "top": null,
       "visibility": null,
       "width": null
      }
     },
     "6cf6c1edd4bb43db925416c12d3110a5": {
      "model_module": "@jupyter-widgets/base",
      "model_module_version": "2.0.0",
      "model_name": "LayoutModel",
      "state": {
       "_model_module": "@jupyter-widgets/base",
       "_model_module_version": "2.0.0",
       "_model_name": "LayoutModel",
       "_view_count": null,
       "_view_module": "@jupyter-widgets/base",
       "_view_module_version": "2.0.0",
       "_view_name": "LayoutView",
       "align_content": null,
       "align_items": null,
       "align_self": null,
       "border_bottom": null,
       "border_left": null,
       "border_right": null,
       "border_top": null,
       "bottom": null,
       "display": null,
       "flex": null,
       "flex_flow": null,
       "grid_area": null,
       "grid_auto_columns": null,
       "grid_auto_flow": null,
       "grid_auto_rows": null,
       "grid_column": null,
       "grid_gap": null,
       "grid_row": null,
       "grid_template_areas": null,
       "grid_template_columns": null,
       "grid_template_rows": null,
       "height": null,
       "justify_content": null,
       "justify_items": null,
       "left": null,
       "margin": null,
       "max_height": null,
       "max_width": null,
       "min_height": null,
       "min_width": null,
       "object_fit": null,
       "object_position": null,
       "order": null,
       "overflow": null,
       "padding": null,
       "right": null,
       "top": null,
       "visibility": null,
       "width": null
      }
     },
     "6f435b7cda554fbfa9e4ef5acdc2f5ce": {
      "model_module": "@jupyter-widgets/controls",
      "model_module_version": "2.0.0",
      "model_name": "HTMLStyleModel",
      "state": {
       "_model_module": "@jupyter-widgets/controls",
       "_model_module_version": "2.0.0",
       "_model_name": "HTMLStyleModel",
       "_view_count": null,
       "_view_module": "@jupyter-widgets/base",
       "_view_module_version": "2.0.0",
       "_view_name": "StyleView",
       "background": null,
       "description_width": "",
       "font_size": null,
       "text_color": null
      }
     },
     "75be1295b9614eb098540dceeec504ec": {
      "model_module": "@jupyter-widgets/controls",
      "model_module_version": "2.0.0",
      "model_name": "HTMLStyleModel",
      "state": {
       "_model_module": "@jupyter-widgets/controls",
       "_model_module_version": "2.0.0",
       "_model_name": "HTMLStyleModel",
       "_view_count": null,
       "_view_module": "@jupyter-widgets/base",
       "_view_module_version": "2.0.0",
       "_view_name": "StyleView",
       "background": null,
       "description_width": "",
       "font_size": null,
       "text_color": null
      }
     },
     "774735137b8242fa89d7cfc8d885f770": {
      "model_module": "@jupyter-widgets/controls",
      "model_module_version": "2.0.0",
      "model_name": "HBoxModel",
      "state": {
       "_dom_classes": [],
       "_model_module": "@jupyter-widgets/controls",
       "_model_module_version": "2.0.0",
       "_model_name": "HBoxModel",
       "_view_count": null,
       "_view_module": "@jupyter-widgets/controls",
       "_view_module_version": "2.0.0",
       "_view_name": "HBoxView",
       "box_style": "",
       "children": [
        "IPY_MODEL_d8fdf1936e654a3682fd3097a0df8ab6",
        "IPY_MODEL_b13fe3551d1a4134b40dee83c1e88b1f",
        "IPY_MODEL_1bfede2dc9004b1abbd4a0cfdbb8e28e"
       ],
       "layout": "IPY_MODEL_9e2c2bd367c2449195d88bfb486d4d38",
       "tabbable": null,
       "tooltip": null
      }
     },
     "77806ed0680e4565a93931daa4991929": {
      "model_module": "@jupyter-widgets/base",
      "model_module_version": "2.0.0",
      "model_name": "LayoutModel",
      "state": {
       "_model_module": "@jupyter-widgets/base",
       "_model_module_version": "2.0.0",
       "_model_name": "LayoutModel",
       "_view_count": null,
       "_view_module": "@jupyter-widgets/base",
       "_view_module_version": "2.0.0",
       "_view_name": "LayoutView",
       "align_content": null,
       "align_items": null,
       "align_self": null,
       "border_bottom": null,
       "border_left": null,
       "border_right": null,
       "border_top": null,
       "bottom": null,
       "display": null,
       "flex": null,
       "flex_flow": null,
       "grid_area": null,
       "grid_auto_columns": null,
       "grid_auto_flow": null,
       "grid_auto_rows": null,
       "grid_column": null,
       "grid_gap": null,
       "grid_row": null,
       "grid_template_areas": null,
       "grid_template_columns": null,
       "grid_template_rows": null,
       "height": null,
       "justify_content": null,
       "justify_items": null,
       "left": null,
       "margin": null,
       "max_height": null,
       "max_width": null,
       "min_height": null,
       "min_width": null,
       "object_fit": null,
       "object_position": null,
       "order": null,
       "overflow": null,
       "padding": null,
       "right": null,
       "top": null,
       "visibility": null,
       "width": null
      }
     },
     "7863886df4ea4da1b644599c4c1713d2": {
      "model_module": "@jupyter-widgets/base",
      "model_module_version": "2.0.0",
      "model_name": "LayoutModel",
      "state": {
       "_model_module": "@jupyter-widgets/base",
       "_model_module_version": "2.0.0",
       "_model_name": "LayoutModel",
       "_view_count": null,
       "_view_module": "@jupyter-widgets/base",
       "_view_module_version": "2.0.0",
       "_view_name": "LayoutView",
       "align_content": null,
       "align_items": null,
       "align_self": null,
       "border_bottom": null,
       "border_left": null,
       "border_right": null,
       "border_top": null,
       "bottom": null,
       "display": null,
       "flex": null,
       "flex_flow": null,
       "grid_area": null,
       "grid_auto_columns": null,
       "grid_auto_flow": null,
       "grid_auto_rows": null,
       "grid_column": null,
       "grid_gap": null,
       "grid_row": null,
       "grid_template_areas": null,
       "grid_template_columns": null,
       "grid_template_rows": null,
       "height": null,
       "justify_content": null,
       "justify_items": null,
       "left": null,
       "margin": null,
       "max_height": null,
       "max_width": null,
       "min_height": null,
       "min_width": null,
       "object_fit": null,
       "object_position": null,
       "order": null,
       "overflow": null,
       "padding": null,
       "right": null,
       "top": null,
       "visibility": null,
       "width": null
      }
     },
     "7d6dbf2fde95470384b7060394bf420a": {
      "model_module": "@jupyter-widgets/controls",
      "model_module_version": "2.0.0",
      "model_name": "FloatProgressModel",
      "state": {
       "_dom_classes": [],
       "_model_module": "@jupyter-widgets/controls",
       "_model_module_version": "2.0.0",
       "_model_name": "FloatProgressModel",
       "_view_count": null,
       "_view_module": "@jupyter-widgets/controls",
       "_view_module_version": "2.0.0",
       "_view_name": "ProgressView",
       "bar_style": "success",
       "description": "",
       "description_allow_html": false,
       "layout": "IPY_MODEL_396143ba8377400f91b9f946cda821b9",
       "max": 248171980.0,
       "min": 0.0,
       "orientation": "horizontal",
       "style": "IPY_MODEL_3b3e867b6e3f4387a89516ba90794af3",
       "tabbable": null,
       "tooltip": null,
       "value": 248171980.0
      }
     },
     "7fc4d84116a341228751a3aad0ad3ab3": {
      "model_module": "@jupyter-widgets/base",
      "model_module_version": "2.0.0",
      "model_name": "LayoutModel",
      "state": {
       "_model_module": "@jupyter-widgets/base",
       "_model_module_version": "2.0.0",
       "_model_name": "LayoutModel",
       "_view_count": null,
       "_view_module": "@jupyter-widgets/base",
       "_view_module_version": "2.0.0",
       "_view_name": "LayoutView",
       "align_content": null,
       "align_items": null,
       "align_self": null,
       "border_bottom": null,
       "border_left": null,
       "border_right": null,
       "border_top": null,
       "bottom": null,
       "display": null,
       "flex": null,
       "flex_flow": null,
       "grid_area": null,
       "grid_auto_columns": null,
       "grid_auto_flow": null,
       "grid_auto_rows": null,
       "grid_column": null,
       "grid_gap": null,
       "grid_row": null,
       "grid_template_areas": null,
       "grid_template_columns": null,
       "grid_template_rows": null,
       "height": null,
       "justify_content": null,
       "justify_items": null,
       "left": null,
       "margin": null,
       "max_height": null,
       "max_width": null,
       "min_height": null,
       "min_width": null,
       "object_fit": null,
       "object_position": null,
       "order": null,
       "overflow": null,
       "padding": null,
       "right": null,
       "top": null,
       "visibility": null,
       "width": null
      }
     },
     "832f0124cc534e52bae7bd5ba972d246": {
      "model_module": "@jupyter-widgets/controls",
      "model_module_version": "2.0.0",
      "model_name": "HTMLStyleModel",
      "state": {
       "_model_module": "@jupyter-widgets/controls",
       "_model_module_version": "2.0.0",
       "_model_name": "HTMLStyleModel",
       "_view_count": null,
       "_view_module": "@jupyter-widgets/base",
       "_view_module_version": "2.0.0",
       "_view_name": "StyleView",
       "background": null,
       "description_width": "",
       "font_size": null,
       "text_color": null
      }
     },
     "8351d287903a457ab10dcfe5891f64d3": {
      "model_module": "@jupyter-widgets/controls",
      "model_module_version": "2.0.0",
      "model_name": "ProgressStyleModel",
      "state": {
       "_model_module": "@jupyter-widgets/controls",
       "_model_module_version": "2.0.0",
       "_model_name": "ProgressStyleModel",
       "_view_count": null,
       "_view_module": "@jupyter-widgets/base",
       "_view_module_version": "2.0.0",
       "_view_name": "StyleView",
       "bar_color": null,
       "description_width": ""
      }
     },
     "87853d43c1174fbc8d2f5bda07ca5103": {
      "model_module": "@jupyter-widgets/base",
      "model_module_version": "2.0.0",
      "model_name": "LayoutModel",
      "state": {
       "_model_module": "@jupyter-widgets/base",
       "_model_module_version": "2.0.0",
       "_model_name": "LayoutModel",
       "_view_count": null,
       "_view_module": "@jupyter-widgets/base",
       "_view_module_version": "2.0.0",
       "_view_name": "LayoutView",
       "align_content": null,
       "align_items": null,
       "align_self": null,
       "border_bottom": null,
       "border_left": null,
       "border_right": null,
       "border_top": null,
       "bottom": null,
       "display": null,
       "flex": null,
       "flex_flow": null,
       "grid_area": null,
       "grid_auto_columns": null,
       "grid_auto_flow": null,
       "grid_auto_rows": null,
       "grid_column": null,
       "grid_gap": null,
       "grid_row": null,
       "grid_template_areas": null,
       "grid_template_columns": null,
       "grid_template_rows": null,
       "height": null,
       "justify_content": null,
       "justify_items": null,
       "left": null,
       "margin": null,
       "max_height": null,
       "max_width": null,
       "min_height": null,
       "min_width": null,
       "object_fit": null,
       "object_position": null,
       "order": null,
       "overflow": null,
       "padding": null,
       "right": null,
       "top": null,
       "visibility": null,
       "width": null
      }
     },
     "88dc4ea1c34b4c97810b377f348f8bfe": {
      "model_module": "@jupyter-widgets/base",
      "model_module_version": "2.0.0",
      "model_name": "LayoutModel",
      "state": {
       "_model_module": "@jupyter-widgets/base",
       "_model_module_version": "2.0.0",
       "_model_name": "LayoutModel",
       "_view_count": null,
       "_view_module": "@jupyter-widgets/base",
       "_view_module_version": "2.0.0",
       "_view_name": "LayoutView",
       "align_content": null,
       "align_items": null,
       "align_self": null,
       "border_bottom": null,
       "border_left": null,
       "border_right": null,
       "border_top": null,
       "bottom": null,
       "display": null,
       "flex": null,
       "flex_flow": null,
       "grid_area": null,
       "grid_auto_columns": null,
       "grid_auto_flow": null,
       "grid_auto_rows": null,
       "grid_column": null,
       "grid_gap": null,
       "grid_row": null,
       "grid_template_areas": null,
       "grid_template_columns": null,
       "grid_template_rows": null,
       "height": null,
       "justify_content": null,
       "justify_items": null,
       "left": null,
       "margin": null,
       "max_height": null,
       "max_width": null,
       "min_height": null,
       "min_width": null,
       "object_fit": null,
       "object_position": null,
       "order": null,
       "overflow": null,
       "padding": null,
       "right": null,
       "top": null,
       "visibility": null,
       "width": null
      }
     },
     "8a89d8daf98f4430801b2300ca24da02": {
      "model_module": "@jupyter-widgets/base",
      "model_module_version": "2.0.0",
      "model_name": "LayoutModel",
      "state": {
       "_model_module": "@jupyter-widgets/base",
       "_model_module_version": "2.0.0",
       "_model_name": "LayoutModel",
       "_view_count": null,
       "_view_module": "@jupyter-widgets/base",
       "_view_module_version": "2.0.0",
       "_view_name": "LayoutView",
       "align_content": null,
       "align_items": null,
       "align_self": null,
       "border_bottom": null,
       "border_left": null,
       "border_right": null,
       "border_top": null,
       "bottom": null,
       "display": null,
       "flex": null,
       "flex_flow": null,
       "grid_area": null,
       "grid_auto_columns": null,
       "grid_auto_flow": null,
       "grid_auto_rows": null,
       "grid_column": null,
       "grid_gap": null,
       "grid_row": null,
       "grid_template_areas": null,
       "grid_template_columns": null,
       "grid_template_rows": null,
       "height": null,
       "justify_content": null,
       "justify_items": null,
       "left": null,
       "margin": null,
       "max_height": null,
       "max_width": null,
       "min_height": null,
       "min_width": null,
       "object_fit": null,
       "object_position": null,
       "order": null,
       "overflow": null,
       "padding": null,
       "right": null,
       "top": null,
       "visibility": null,
       "width": null
      }
     },
     "8c920124d64e452fb3e3bb0046842ae7": {
      "model_module": "@jupyter-widgets/controls",
      "model_module_version": "2.0.0",
      "model_name": "HTMLStyleModel",
      "state": {
       "_model_module": "@jupyter-widgets/controls",
       "_model_module_version": "2.0.0",
       "_model_name": "HTMLStyleModel",
       "_view_count": null,
       "_view_module": "@jupyter-widgets/base",
       "_view_module_version": "2.0.0",
       "_view_name": "StyleView",
       "background": null,
       "description_width": "",
       "font_size": null,
       "text_color": null
      }
     },
     "8e895fb56ffb481685e199d50c8a1e69": {
      "model_module": "@jupyter-widgets/controls",
      "model_module_version": "2.0.0",
      "model_name": "HTMLStyleModel",
      "state": {
       "_model_module": "@jupyter-widgets/controls",
       "_model_module_version": "2.0.0",
       "_model_name": "HTMLStyleModel",
       "_view_count": null,
       "_view_module": "@jupyter-widgets/base",
       "_view_module_version": "2.0.0",
       "_view_name": "StyleView",
       "background": null,
       "description_width": "",
       "font_size": null,
       "text_color": null
      }
     },
     "9244fdf22ce843dcb1415384049907b9": {
      "model_module": "@jupyter-widgets/controls",
      "model_module_version": "2.0.0",
      "model_name": "HTMLStyleModel",
      "state": {
       "_model_module": "@jupyter-widgets/controls",
       "_model_module_version": "2.0.0",
       "_model_name": "HTMLStyleModel",
       "_view_count": null,
       "_view_module": "@jupyter-widgets/base",
       "_view_module_version": "2.0.0",
       "_view_name": "StyleView",
       "background": null,
       "description_width": "",
       "font_size": null,
       "text_color": null
      }
     },
     "967ce52c8f674381baa3c765480d4a00": {
      "model_module": "@jupyter-widgets/controls",
      "model_module_version": "2.0.0",
      "model_name": "HBoxModel",
      "state": {
       "_dom_classes": [],
       "_model_module": "@jupyter-widgets/controls",
       "_model_module_version": "2.0.0",
       "_model_name": "HBoxModel",
       "_view_count": null,
       "_view_module": "@jupyter-widgets/controls",
       "_view_module_version": "2.0.0",
       "_view_name": "HBoxView",
       "box_style": "",
       "children": [
        "IPY_MODEL_62f018d72956472f94c4605a6a5b18a8",
        "IPY_MODEL_db0e9f15e497443c90af7df752b01b20",
        "IPY_MODEL_c7128e16ace846649b5b14c986e9705e"
       ],
       "layout": "IPY_MODEL_a1141a7db03543ac9652270363a12829",
       "tabbable": null,
       "tooltip": null
      }
     },
     "992726846b2a4d5fa3695feace0afd27": {
      "model_module": "@jupyter-widgets/controls",
      "model_module_version": "2.0.0",
      "model_name": "HTMLModel",
      "state": {
       "_dom_classes": [],
       "_model_module": "@jupyter-widgets/controls",
       "_model_module_version": "2.0.0",
       "_model_name": "HTMLModel",
       "_view_count": null,
       "_view_module": "@jupyter-widgets/controls",
       "_view_module_version": "2.0.0",
       "_view_name": "HTMLView",
       "description": "",
       "description_allow_html": false,
       "layout": "IPY_MODEL_c714595ca44040569ff07e0040bd9b00",
       "placeholder": "​",
       "style": "IPY_MODEL_4bee7d94d7d64572a9181cb9d2d85602",
       "tabbable": null,
       "tooltip": null,
       "value": " 248M/248M [00:00&lt;00:00, 445MB/s]"
      }
     },
     "99365937841e45e9a016d3685e432b80": {
      "model_module": "@jupyter-widgets/base",
      "model_module_version": "2.0.0",
      "model_name": "LayoutModel",
      "state": {
       "_model_module": "@jupyter-widgets/base",
       "_model_module_version": "2.0.0",
       "_model_name": "LayoutModel",
       "_view_count": null,
       "_view_module": "@jupyter-widgets/base",
       "_view_module_version": "2.0.0",
       "_view_name": "LayoutView",
       "align_content": null,
       "align_items": null,
       "align_self": null,
       "border_bottom": null,
       "border_left": null,
       "border_right": null,
       "border_top": null,
       "bottom": null,
       "display": null,
       "flex": null,
       "flex_flow": null,
       "grid_area": null,
       "grid_auto_columns": null,
       "grid_auto_flow": null,
       "grid_auto_rows": null,
       "grid_column": null,
       "grid_gap": null,
       "grid_row": null,
       "grid_template_areas": null,
       "grid_template_columns": null,
       "grid_template_rows": null,
       "height": null,
       "justify_content": null,
       "justify_items": null,
       "left": null,
       "margin": null,
       "max_height": null,
       "max_width": null,
       "min_height": null,
       "min_width": null,
       "object_fit": null,
       "object_position": null,
       "order": null,
       "overflow": null,
       "padding": null,
       "right": null,
       "top": null,
       "visibility": null,
       "width": null
      }
     },
     "9b3adbf9f29b48baa7a40c1a7614d01e": {
      "model_module": "@jupyter-widgets/controls",
      "model_module_version": "2.0.0",
      "model_name": "HTMLStyleModel",
      "state": {
       "_model_module": "@jupyter-widgets/controls",
       "_model_module_version": "2.0.0",
       "_model_name": "HTMLStyleModel",
       "_view_count": null,
       "_view_module": "@jupyter-widgets/base",
       "_view_module_version": "2.0.0",
       "_view_name": "StyleView",
       "background": null,
       "description_width": "",
       "font_size": null,
       "text_color": null
      }
     },
     "9c5cd230142e477287dc1f0724eb8c47": {
      "model_module": "@jupyter-widgets/base",
      "model_module_version": "2.0.0",
      "model_name": "LayoutModel",
      "state": {
       "_model_module": "@jupyter-widgets/base",
       "_model_module_version": "2.0.0",
       "_model_name": "LayoutModel",
       "_view_count": null,
       "_view_module": "@jupyter-widgets/base",
       "_view_module_version": "2.0.0",
       "_view_name": "LayoutView",
       "align_content": null,
       "align_items": null,
       "align_self": null,
       "border_bottom": null,
       "border_left": null,
       "border_right": null,
       "border_top": null,
       "bottom": null,
       "display": null,
       "flex": null,
       "flex_flow": null,
       "grid_area": null,
       "grid_auto_columns": null,
       "grid_auto_flow": null,
       "grid_auto_rows": null,
       "grid_column": null,
       "grid_gap": null,
       "grid_row": null,
       "grid_template_areas": null,
       "grid_template_columns": null,
       "grid_template_rows": null,
       "height": null,
       "justify_content": null,
       "justify_items": null,
       "left": null,
       "margin": null,
       "max_height": null,
       "max_width": null,
       "min_height": null,
       "min_width": null,
       "object_fit": null,
       "object_position": null,
       "order": null,
       "overflow": null,
       "padding": null,
       "right": null,
       "top": null,
       "visibility": null,
       "width": null
      }
     },
     "9e2c2bd367c2449195d88bfb486d4d38": {
      "model_module": "@jupyter-widgets/base",
      "model_module_version": "2.0.0",
      "model_name": "LayoutModel",
      "state": {
       "_model_module": "@jupyter-widgets/base",
       "_model_module_version": "2.0.0",
       "_model_name": "LayoutModel",
       "_view_count": null,
       "_view_module": "@jupyter-widgets/base",
       "_view_module_version": "2.0.0",
       "_view_name": "LayoutView",
       "align_content": null,
       "align_items": null,
       "align_self": null,
       "border_bottom": null,
       "border_left": null,
       "border_right": null,
       "border_top": null,
       "bottom": null,
       "display": null,
       "flex": null,
       "flex_flow": null,
       "grid_area": null,
       "grid_auto_columns": null,
       "grid_auto_flow": null,
       "grid_auto_rows": null,
       "grid_column": null,
       "grid_gap": null,
       "grid_row": null,
       "grid_template_areas": null,
       "grid_template_columns": null,
       "grid_template_rows": null,
       "height": null,
       "justify_content": null,
       "justify_items": null,
       "left": null,
       "margin": null,
       "max_height": null,
       "max_width": null,
       "min_height": null,
       "min_width": null,
       "object_fit": null,
       "object_position": null,
       "order": null,
       "overflow": null,
       "padding": null,
       "right": null,
       "top": null,
       "visibility": null,
       "width": null
      }
     },
     "9f29f19e730e4547a65c4b32ae2c80ea": {
      "model_module": "@jupyter-widgets/base",
      "model_module_version": "2.0.0",
      "model_name": "LayoutModel",
      "state": {
       "_model_module": "@jupyter-widgets/base",
       "_model_module_version": "2.0.0",
       "_model_name": "LayoutModel",
       "_view_count": null,
       "_view_module": "@jupyter-widgets/base",
       "_view_module_version": "2.0.0",
       "_view_name": "LayoutView",
       "align_content": null,
       "align_items": null,
       "align_self": null,
       "border_bottom": null,
       "border_left": null,
       "border_right": null,
       "border_top": null,
       "bottom": null,
       "display": null,
       "flex": null,
       "flex_flow": null,
       "grid_area": null,
       "grid_auto_columns": null,
       "grid_auto_flow": null,
       "grid_auto_rows": null,
       "grid_column": null,
       "grid_gap": null,
       "grid_row": null,
       "grid_template_areas": null,
       "grid_template_columns": null,
       "grid_template_rows": null,
       "height": null,
       "justify_content": null,
       "justify_items": null,
       "left": null,
       "margin": null,
       "max_height": null,
       "max_width": null,
       "min_height": null,
       "min_width": null,
       "object_fit": null,
       "object_position": null,
       "order": null,
       "overflow": null,
       "padding": null,
       "right": null,
       "top": null,
       "visibility": null,
       "width": null
      }
     },
     "9fb167d219ab440c8a356d37da520bf5": {
      "model_module": "@jupyter-widgets/controls",
      "model_module_version": "2.0.0",
      "model_name": "ProgressStyleModel",
      "state": {
       "_model_module": "@jupyter-widgets/controls",
       "_model_module_version": "2.0.0",
       "_model_name": "ProgressStyleModel",
       "_view_count": null,
       "_view_module": "@jupyter-widgets/base",
       "_view_module_version": "2.0.0",
       "_view_name": "StyleView",
       "bar_color": null,
       "description_width": ""
      }
     },
     "a1141a7db03543ac9652270363a12829": {
      "model_module": "@jupyter-widgets/base",
      "model_module_version": "2.0.0",
      "model_name": "LayoutModel",
      "state": {
       "_model_module": "@jupyter-widgets/base",
       "_model_module_version": "2.0.0",
       "_model_name": "LayoutModel",
       "_view_count": null,
       "_view_module": "@jupyter-widgets/base",
       "_view_module_version": "2.0.0",
       "_view_name": "LayoutView",
       "align_content": null,
       "align_items": null,
       "align_self": null,
       "border_bottom": null,
       "border_left": null,
       "border_right": null,
       "border_top": null,
       "bottom": null,
       "display": null,
       "flex": null,
       "flex_flow": null,
       "grid_area": null,
       "grid_auto_columns": null,
       "grid_auto_flow": null,
       "grid_auto_rows": null,
       "grid_column": null,
       "grid_gap": null,
       "grid_row": null,
       "grid_template_areas": null,
       "grid_template_columns": null,
       "grid_template_rows": null,
       "height": null,
       "justify_content": null,
       "justify_items": null,
       "left": null,
       "margin": null,
       "max_height": null,
       "max_width": null,
       "min_height": null,
       "min_width": null,
       "object_fit": null,
       "object_position": null,
       "order": null,
       "overflow": null,
       "padding": null,
       "right": null,
       "top": null,
       "visibility": null,
       "width": null
      }
     },
     "a1d5b67dd3bc4864a2db65fee599fe7a": {
      "model_module": "@jupyter-widgets/base",
      "model_module_version": "2.0.0",
      "model_name": "LayoutModel",
      "state": {
       "_model_module": "@jupyter-widgets/base",
       "_model_module_version": "2.0.0",
       "_model_name": "LayoutModel",
       "_view_count": null,
       "_view_module": "@jupyter-widgets/base",
       "_view_module_version": "2.0.0",
       "_view_name": "LayoutView",
       "align_content": null,
       "align_items": null,
       "align_self": null,
       "border_bottom": null,
       "border_left": null,
       "border_right": null,
       "border_top": null,
       "bottom": null,
       "display": null,
       "flex": null,
       "flex_flow": null,
       "grid_area": null,
       "grid_auto_columns": null,
       "grid_auto_flow": null,
       "grid_auto_rows": null,
       "grid_column": null,
       "grid_gap": null,
       "grid_row": null,
       "grid_template_areas": null,
       "grid_template_columns": null,
       "grid_template_rows": null,
       "height": null,
       "justify_content": null,
       "justify_items": null,
       "left": null,
       "margin": null,
       "max_height": null,
       "max_width": null,
       "min_height": null,
       "min_width": null,
       "object_fit": null,
       "object_position": null,
       "order": null,
       "overflow": null,
       "padding": null,
       "right": null,
       "top": null,
       "visibility": null,
       "width": null
      }
     },
     "a27056edf5cf4726a3db38c3fa7c1e8c": {
      "model_module": "@jupyter-widgets/controls",
      "model_module_version": "2.0.0",
      "model_name": "ProgressStyleModel",
      "state": {
       "_model_module": "@jupyter-widgets/controls",
       "_model_module_version": "2.0.0",
       "_model_name": "ProgressStyleModel",
       "_view_count": null,
       "_view_module": "@jupyter-widgets/base",
       "_view_module_version": "2.0.0",
       "_view_name": "StyleView",
       "bar_color": null,
       "description_width": ""
      }
     },
     "a46efd47d307456eb378418908c19836": {
      "model_module": "@jupyter-widgets/base",
      "model_module_version": "2.0.0",
      "model_name": "LayoutModel",
      "state": {
       "_model_module": "@jupyter-widgets/base",
       "_model_module_version": "2.0.0",
       "_model_name": "LayoutModel",
       "_view_count": null,
       "_view_module": "@jupyter-widgets/base",
       "_view_module_version": "2.0.0",
       "_view_name": "LayoutView",
       "align_content": null,
       "align_items": null,
       "align_self": null,
       "border_bottom": null,
       "border_left": null,
       "border_right": null,
       "border_top": null,
       "bottom": null,
       "display": null,
       "flex": null,
       "flex_flow": null,
       "grid_area": null,
       "grid_auto_columns": null,
       "grid_auto_flow": null,
       "grid_auto_rows": null,
       "grid_column": null,
       "grid_gap": null,
       "grid_row": null,
       "grid_template_areas": null,
       "grid_template_columns": null,
       "grid_template_rows": null,
       "height": null,
       "justify_content": null,
       "justify_items": null,
       "left": null,
       "margin": null,
       "max_height": null,
       "max_width": null,
       "min_height": null,
       "min_width": null,
       "object_fit": null,
       "object_position": null,
       "order": null,
       "overflow": null,
       "padding": null,
       "right": null,
       "top": null,
       "visibility": null,
       "width": null
      }
     },
     "a9dd2ed383e34e48ae65c98ddcfbf2ba": {
      "model_module": "@jupyter-widgets/base",
      "model_module_version": "2.0.0",
      "model_name": "LayoutModel",
      "state": {
       "_model_module": "@jupyter-widgets/base",
       "_model_module_version": "2.0.0",
       "_model_name": "LayoutModel",
       "_view_count": null,
       "_view_module": "@jupyter-widgets/base",
       "_view_module_version": "2.0.0",
       "_view_name": "LayoutView",
       "align_content": null,
       "align_items": null,
       "align_self": null,
       "border_bottom": null,
       "border_left": null,
       "border_right": null,
       "border_top": null,
       "bottom": null,
       "display": null,
       "flex": null,
       "flex_flow": null,
       "grid_area": null,
       "grid_auto_columns": null,
       "grid_auto_flow": null,
       "grid_auto_rows": null,
       "grid_column": null,
       "grid_gap": null,
       "grid_row": null,
       "grid_template_areas": null,
       "grid_template_columns": null,
       "grid_template_rows": null,
       "height": null,
       "justify_content": null,
       "justify_items": null,
       "left": null,
       "margin": null,
       "max_height": null,
       "max_width": null,
       "min_height": null,
       "min_width": null,
       "object_fit": null,
       "object_position": null,
       "order": null,
       "overflow": null,
       "padding": null,
       "right": null,
       "top": null,
       "visibility": null,
       "width": null
      }
     },
     "aa5a40f6f79a40e2b6c16a76462de2d5": {
      "model_module": "@jupyter-widgets/base",
      "model_module_version": "2.0.0",
      "model_name": "LayoutModel",
      "state": {
       "_model_module": "@jupyter-widgets/base",
       "_model_module_version": "2.0.0",
       "_model_name": "LayoutModel",
       "_view_count": null,
       "_view_module": "@jupyter-widgets/base",
       "_view_module_version": "2.0.0",
       "_view_name": "LayoutView",
       "align_content": null,
       "align_items": null,
       "align_self": null,
       "border_bottom": null,
       "border_left": null,
       "border_right": null,
       "border_top": null,
       "bottom": null,
       "display": null,
       "flex": null,
       "flex_flow": null,
       "grid_area": null,
       "grid_auto_columns": null,
       "grid_auto_flow": null,
       "grid_auto_rows": null,
       "grid_column": null,
       "grid_gap": null,
       "grid_row": null,
       "grid_template_areas": null,
       "grid_template_columns": null,
       "grid_template_rows": null,
       "height": null,
       "justify_content": null,
       "justify_items": null,
       "left": null,
       "margin": null,
       "max_height": null,
       "max_width": null,
       "min_height": null,
       "min_width": null,
       "object_fit": null,
       "object_position": null,
       "order": null,
       "overflow": null,
       "padding": null,
       "right": null,
       "top": null,
       "visibility": null,
       "width": null
      }
     },
     "aaca6caa680344cdba2e774b86806cf3": {
      "model_module": "@jupyter-widgets/base",
      "model_module_version": "2.0.0",
      "model_name": "LayoutModel",
      "state": {
       "_model_module": "@jupyter-widgets/base",
       "_model_module_version": "2.0.0",
       "_model_name": "LayoutModel",
       "_view_count": null,
       "_view_module": "@jupyter-widgets/base",
       "_view_module_version": "2.0.0",
       "_view_name": "LayoutView",
       "align_content": null,
       "align_items": null,
       "align_self": null,
       "border_bottom": null,
       "border_left": null,
       "border_right": null,
       "border_top": null,
       "bottom": null,
       "display": null,
       "flex": null,
       "flex_flow": null,
       "grid_area": null,
       "grid_auto_columns": null,
       "grid_auto_flow": null,
       "grid_auto_rows": null,
       "grid_column": null,
       "grid_gap": null,
       "grid_row": null,
       "grid_template_areas": null,
       "grid_template_columns": null,
       "grid_template_rows": null,
       "height": null,
       "justify_content": null,
       "justify_items": null,
       "left": null,
       "margin": null,
       "max_height": null,
       "max_width": null,
       "min_height": null,
       "min_width": null,
       "object_fit": null,
       "object_position": null,
       "order": null,
       "overflow": null,
       "padding": null,
       "right": null,
       "top": null,
       "visibility": null,
       "width": null
      }
     },
     "ab80c69cfe85466681f7ed0ae5c27dcc": {
      "model_module": "@jupyter-widgets/controls",
      "model_module_version": "2.0.0",
      "model_name": "ProgressStyleModel",
      "state": {
       "_model_module": "@jupyter-widgets/controls",
       "_model_module_version": "2.0.0",
       "_model_name": "ProgressStyleModel",
       "_view_count": null,
       "_view_module": "@jupyter-widgets/base",
       "_view_module_version": "2.0.0",
       "_view_name": "StyleView",
       "bar_color": null,
       "description_width": ""
      }
     },
     "ad4c02d66be149ba95425c5c7722107f": {
      "model_module": "@jupyter-widgets/controls",
      "model_module_version": "2.0.0",
      "model_name": "HTMLModel",
      "state": {
       "_dom_classes": [],
       "_model_module": "@jupyter-widgets/controls",
       "_model_module_version": "2.0.0",
       "_model_name": "HTMLModel",
       "_view_count": null,
       "_view_module": "@jupyter-widgets/controls",
       "_view_module_version": "2.0.0",
       "_view_name": "HTMLView",
       "description": "",
       "description_allow_html": false,
       "layout": "IPY_MODEL_253e7aedd5a842ec853cc519ff8ea5d3",
       "placeholder": "​",
       "style": "IPY_MODEL_55c23f1b0b0b4ac6a921d935401dc370",
       "tabbable": null,
       "tooltip": null,
       "value": " 1.04M/1.04M [00:00&lt;00:00, 1.77MB/s]"
      }
     },
     "b050cbdc23df4f30bb4e55b541c4c57a": {
      "model_module": "@jupyter-widgets/controls",
      "model_module_version": "2.0.0",
      "model_name": "HTMLModel",
      "state": {
       "_dom_classes": [],
       "_model_module": "@jupyter-widgets/controls",
       "_model_module_version": "2.0.0",
       "_model_name": "HTMLModel",
       "_view_count": null,
       "_view_module": "@jupyter-widgets/controls",
       "_view_module_version": "2.0.0",
       "_view_name": "HTMLView",
       "description": "",
       "description_allow_html": false,
       "layout": "IPY_MODEL_375592e3f5074dc5b9f57bb58c9616dc",
       "placeholder": "​",
       "style": "IPY_MODEL_666cf749653744f69581ba2d01bd3e60",
       "tabbable": null,
       "tooltip": null,
       "value": " 665/665 [00:00&lt;00:00, 87.0kB/s]"
      }
     },
     "b13fe3551d1a4134b40dee83c1e88b1f": {
      "model_module": "@jupyter-widgets/controls",
      "model_module_version": "2.0.0",
      "model_name": "FloatProgressModel",
      "state": {
       "_dom_classes": [],
       "_model_module": "@jupyter-widgets/controls",
       "_model_module_version": "2.0.0",
       "_model_name": "FloatProgressModel",
       "_view_count": null,
       "_view_module": "@jupyter-widgets/controls",
       "_view_module_version": "2.0.0",
       "_view_name": "ProgressView",
       "bar_style": "success",
       "description": "",
       "description_allow_html": false,
       "layout": "IPY_MODEL_f0418b21b1f749458d05d5560613ede3",
       "max": 456318.0,
       "min": 0.0,
       "orientation": "horizontal",
       "style": "IPY_MODEL_012d78e5db664dddbb558535eeb8109b",
       "tabbable": null,
       "tooltip": null,
       "value": 456318.0
      }
     },
     "b44751993e60466bb3f67f407ada78a6": {
      "model_module": "@jupyter-widgets/base",
      "model_module_version": "2.0.0",
      "model_name": "LayoutModel",
      "state": {
       "_model_module": "@jupyter-widgets/base",
       "_model_module_version": "2.0.0",
       "_model_name": "LayoutModel",
       "_view_count": null,
       "_view_module": "@jupyter-widgets/base",
       "_view_module_version": "2.0.0",
       "_view_name": "LayoutView",
       "align_content": null,
       "align_items": null,
       "align_self": null,
       "border_bottom": null,
       "border_left": null,
       "border_right": null,
       "border_top": null,
       "bottom": null,
       "display": null,
       "flex": null,
       "flex_flow": null,
       "grid_area": null,
       "grid_auto_columns": null,
       "grid_auto_flow": null,
       "grid_auto_rows": null,
       "grid_column": null,
       "grid_gap": null,
       "grid_row": null,
       "grid_template_areas": null,
       "grid_template_columns": null,
       "grid_template_rows": null,
       "height": null,
       "justify_content": null,
       "justify_items": null,
       "left": null,
       "margin": null,
       "max_height": null,
       "max_width": null,
       "min_height": null,
       "min_width": null,
       "object_fit": null,
       "object_position": null,
       "order": null,
       "overflow": null,
       "padding": null,
       "right": null,
       "top": null,
       "visibility": null,
       "width": null
      }
     },
     "b44b35d1f1764df7b194e2c135af3214": {
      "model_module": "@jupyter-widgets/controls",
      "model_module_version": "2.0.0",
      "model_name": "HTMLModel",
      "state": {
       "_dom_classes": [],
       "_model_module": "@jupyter-widgets/controls",
       "_model_module_version": "2.0.0",
       "_model_name": "HTMLModel",
       "_view_count": null,
       "_view_module": "@jupyter-widgets/controls",
       "_view_module_version": "2.0.0",
       "_view_name": "HTMLView",
       "description": "",
       "description_allow_html": false,
       "layout": "IPY_MODEL_50f9bfef1da1495a8f4d3c8001544de8",
       "placeholder": "​",
       "style": "IPY_MODEL_8c920124d64e452fb3e3bb0046842ae7",
       "tabbable": null,
       "tooltip": null,
       "value": " 2119719/2119719 [00:06&lt;00:00, 331436.35 examples/s]"
      }
     },
     "b54aac24ddb941cf84c01e501b050fa5": {
      "model_module": "@jupyter-widgets/controls",
      "model_module_version": "2.0.0",
      "model_name": "ProgressStyleModel",
      "state": {
       "_model_module": "@jupyter-widgets/controls",
       "_model_module_version": "2.0.0",
       "_model_name": "ProgressStyleModel",
       "_view_count": null,
       "_view_module": "@jupyter-widgets/base",
       "_view_module_version": "2.0.0",
       "_view_name": "StyleView",
       "bar_color": null,
       "description_width": ""
      }
     },
     "b62af0702f6a48c487eda50ce26e9030": {
      "model_module": "@jupyter-widgets/base",
      "model_module_version": "2.0.0",
      "model_name": "LayoutModel",
      "state": {
       "_model_module": "@jupyter-widgets/base",
       "_model_module_version": "2.0.0",
       "_model_name": "LayoutModel",
       "_view_count": null,
       "_view_module": "@jupyter-widgets/base",
       "_view_module_version": "2.0.0",
       "_view_name": "LayoutView",
       "align_content": null,
       "align_items": null,
       "align_self": null,
       "border_bottom": null,
       "border_left": null,
       "border_right": null,
       "border_top": null,
       "bottom": null,
       "display": null,
       "flex": null,
       "flex_flow": null,
       "grid_area": null,
       "grid_auto_columns": null,
       "grid_auto_flow": null,
       "grid_auto_rows": null,
       "grid_column": null,
       "grid_gap": null,
       "grid_row": null,
       "grid_template_areas": null,
       "grid_template_columns": null,
       "grid_template_rows": null,
       "height": null,
       "justify_content": null,
       "justify_items": null,
       "left": null,
       "margin": null,
       "max_height": null,
       "max_width": null,
       "min_height": null,
       "min_width": null,
       "object_fit": null,
       "object_position": null,
       "order": null,
       "overflow": null,
       "padding": null,
       "right": null,
       "top": null,
       "visibility": null,
       "width": null
      }
     },
     "b9fb56448ef941d2afce604726aa4cc1": {
      "model_module": "@jupyter-widgets/controls",
      "model_module_version": "2.0.0",
      "model_name": "FloatProgressModel",
      "state": {
       "_dom_classes": [],
       "_model_module": "@jupyter-widgets/controls",
       "_model_module_version": "2.0.0",
       "_model_name": "FloatProgressModel",
       "_view_count": null,
       "_view_module": "@jupyter-widgets/controls",
       "_view_module_version": "2.0.0",
       "_view_name": "ProgressView",
       "bar_style": "success",
       "description": "",
       "description_allow_html": false,
       "layout": "IPY_MODEL_b44751993e60466bb3f67f407ada78a6",
       "max": 665.0,
       "min": 0.0,
       "orientation": "horizontal",
       "style": "IPY_MODEL_344b81d1ad444291b76d1ed00a47adf1",
       "tabbable": null,
       "tooltip": null,
       "value": 665.0
      }
     },
     "bab27bfda7db427cb9692851b59ea2d3": {
      "model_module": "@jupyter-widgets/controls",
      "model_module_version": "2.0.0",
      "model_name": "HTMLModel",
      "state": {
       "_dom_classes": [],
       "_model_module": "@jupyter-widgets/controls",
       "_model_module_version": "2.0.0",
       "_model_name": "HTMLModel",
       "_view_count": null,
       "_view_module": "@jupyter-widgets/controls",
       "_view_module_version": "2.0.0",
       "_view_name": "HTMLView",
       "description": "",
       "description_allow_html": false,
       "layout": "IPY_MODEL_ce86579e71784648b2d09ee4eceb7dd4",
       "placeholder": "​",
       "style": "IPY_MODEL_dced305b34314624bffbc420f5ec7308",
       "tabbable": null,
       "tooltip": null,
       "value": " 246M/246M [00:00&lt;00:00, 367MB/s]"
      }
     },
     "bccb1ff6e9844496bb93760bafb296b2": {
      "model_module": "@jupyter-widgets/controls",
      "model_module_version": "2.0.0",
      "model_name": "FloatProgressModel",
      "state": {
       "_dom_classes": [],
       "_model_module": "@jupyter-widgets/controls",
       "_model_module_version": "2.0.0",
       "_model_name": "FloatProgressModel",
       "_view_count": null,
       "_view_module": "@jupyter-widgets/controls",
       "_view_module_version": "2.0.0",
       "_view_name": "ProgressView",
       "bar_style": "success",
       "description": "",
       "description_allow_html": false,
       "layout": "IPY_MODEL_35973c11feb84854828393b3e95342b2",
       "max": 2119719.0,
       "min": 0.0,
       "orientation": "horizontal",
       "style": "IPY_MODEL_d4765ef37c534a6283203dc91a1bc3f5",
       "tabbable": null,
       "tooltip": null,
       "value": 2119719.0
      }
     },
     "bed1d2395b334603b2063b9f1710abea": {
      "model_module": "@jupyter-widgets/controls",
      "model_module_version": "2.0.0",
      "model_name": "HTMLStyleModel",
      "state": {
       "_model_module": "@jupyter-widgets/controls",
       "_model_module_version": "2.0.0",
       "_model_name": "HTMLStyleModel",
       "_view_count": null,
       "_view_module": "@jupyter-widgets/base",
       "_view_module_version": "2.0.0",
       "_view_name": "StyleView",
       "background": null,
       "description_width": "",
       "font_size": null,
       "text_color": null
      }
     },
     "bf4860d7a80e43e1a77d16b1f0f94308": {
      "model_module": "@jupyter-widgets/base",
      "model_module_version": "2.0.0",
      "model_name": "LayoutModel",
      "state": {
       "_model_module": "@jupyter-widgets/base",
       "_model_module_version": "2.0.0",
       "_model_name": "LayoutModel",
       "_view_count": null,
       "_view_module": "@jupyter-widgets/base",
       "_view_module_version": "2.0.0",
       "_view_name": "LayoutView",
       "align_content": null,
       "align_items": null,
       "align_self": null,
       "border_bottom": null,
       "border_left": null,
       "border_right": null,
       "border_top": null,
       "bottom": null,
       "display": null,
       "flex": null,
       "flex_flow": null,
       "grid_area": null,
       "grid_auto_columns": null,
       "grid_auto_flow": null,
       "grid_auto_rows": null,
       "grid_column": null,
       "grid_gap": null,
       "grid_row": null,
       "grid_template_areas": null,
       "grid_template_columns": null,
       "grid_template_rows": null,
       "height": null,
       "justify_content": null,
       "justify_items": null,
       "left": null,
       "margin": null,
       "max_height": null,
       "max_width": null,
       "min_height": null,
       "min_width": null,
       "object_fit": null,
       "object_position": null,
       "order": null,
       "overflow": null,
       "padding": null,
       "right": null,
       "top": null,
       "visibility": null,
       "width": null
      }
     },
     "c00f34705fef48cf973304c6e8272f44": {
      "model_module": "@jupyter-widgets/base",
      "model_module_version": "2.0.0",
      "model_name": "LayoutModel",
      "state": {
       "_model_module": "@jupyter-widgets/base",
       "_model_module_version": "2.0.0",
       "_model_name": "LayoutModel",
       "_view_count": null,
       "_view_module": "@jupyter-widgets/base",
       "_view_module_version": "2.0.0",
       "_view_name": "LayoutView",
       "align_content": null,
       "align_items": null,
       "align_self": null,
       "border_bottom": null,
       "border_left": null,
       "border_right": null,
       "border_top": null,
       "bottom": null,
       "display": null,
       "flex": null,
       "flex_flow": null,
       "grid_area": null,
       "grid_auto_columns": null,
       "grid_auto_flow": null,
       "grid_auto_rows": null,
       "grid_column": null,
       "grid_gap": null,
       "grid_row": null,
       "grid_template_areas": null,
       "grid_template_columns": null,
       "grid_template_rows": null,
       "height": null,
       "justify_content": null,
       "justify_items": null,
       "left": null,
       "margin": null,
       "max_height": null,
       "max_width": null,
       "min_height": null,
       "min_width": null,
       "object_fit": null,
       "object_position": null,
       "order": null,
       "overflow": null,
       "padding": null,
       "right": null,
       "top": null,
       "visibility": null,
       "width": null
      }
     },
     "c23bb1198b6246ab82bff18dd3c6bee6": {
      "model_module": "@jupyter-widgets/controls",
      "model_module_version": "2.0.0",
      "model_name": "HTMLModel",
      "state": {
       "_dom_classes": [],
       "_model_module": "@jupyter-widgets/controls",
       "_model_module_version": "2.0.0",
       "_model_name": "HTMLModel",
       "_view_count": null,
       "_view_module": "@jupyter-widgets/controls",
       "_view_module_version": "2.0.0",
       "_view_name": "HTMLView",
       "description": "",
       "description_allow_html": false,
       "layout": "IPY_MODEL_069c931c37434b34a2c3b0e13b2f2ed9",
       "placeholder": "​",
       "style": "IPY_MODEL_75be1295b9614eb098540dceeec504ec",
       "tabbable": null,
       "tooltip": null,
       "value": " 1.36M/1.36M [00:00&lt;00:00, 3.36MB/s]"
      }
     },
     "c2d9bd84777a499ba409ee8ace2a4629": {
      "model_module": "@jupyter-widgets/base",
      "model_module_version": "2.0.0",
      "model_name": "LayoutModel",
      "state": {
       "_model_module": "@jupyter-widgets/base",
       "_model_module_version": "2.0.0",
       "_model_name": "LayoutModel",
       "_view_count": null,
       "_view_module": "@jupyter-widgets/base",
       "_view_module_version": "2.0.0",
       "_view_name": "LayoutView",
       "align_content": null,
       "align_items": null,
       "align_self": null,
       "border_bottom": null,
       "border_left": null,
       "border_right": null,
       "border_top": null,
       "bottom": null,
       "display": null,
       "flex": null,
       "flex_flow": null,
       "grid_area": null,
       "grid_auto_columns": null,
       "grid_auto_flow": null,
       "grid_auto_rows": null,
       "grid_column": null,
       "grid_gap": null,
       "grid_row": null,
       "grid_template_areas": null,
       "grid_template_columns": null,
       "grid_template_rows": null,
       "height": null,
       "justify_content": null,
       "justify_items": null,
       "left": null,
       "margin": null,
       "max_height": null,
       "max_width": null,
       "min_height": null,
       "min_width": null,
       "object_fit": null,
       "object_position": null,
       "order": null,
       "overflow": null,
       "padding": null,
       "right": null,
       "top": null,
       "visibility": null,
       "width": null
      }
     },
     "c4d6e163ac8b4db781bb0287dea2a8a6": {
      "model_module": "@jupyter-widgets/controls",
      "model_module_version": "2.0.0",
      "model_name": "HTMLModel",
      "state": {
       "_dom_classes": [],
       "_model_module": "@jupyter-widgets/controls",
       "_model_module_version": "2.0.0",
       "_model_name": "HTMLModel",
       "_view_count": null,
       "_view_module": "@jupyter-widgets/controls",
       "_view_module_version": "2.0.0",
       "_view_name": "HTMLView",
       "description": "",
       "description_allow_html": false,
       "layout": "IPY_MODEL_4369c422239d4f1eaec88f79e644d2b4",
       "placeholder": "​",
       "style": "IPY_MODEL_349e0b4ad8494348927f4a738c87ff89",
       "tabbable": null,
       "tooltip": null,
       "value": " 5/5 [00:00&lt;00:00, 996.93it/s]"
      }
     },
     "c7128e16ace846649b5b14c986e9705e": {
      "model_module": "@jupyter-widgets/controls",
      "model_module_version": "2.0.0",
      "model_name": "HTMLModel",
      "state": {
       "_dom_classes": [],
       "_model_module": "@jupyter-widgets/controls",
       "_model_module_version": "2.0.0",
       "_model_name": "HTMLModel",
       "_view_count": null,
       "_view_module": "@jupyter-widgets/controls",
       "_view_module_version": "2.0.0",
       "_view_name": "HTMLView",
       "description": "",
       "description_allow_html": false,
       "layout": "IPY_MODEL_51e34836fe11427a8b26ee82342bc401",
       "placeholder": "​",
       "style": "IPY_MODEL_3adf3d0a3b804a3cbdd8c5c94bd3c9ef",
       "tabbable": null,
       "tooltip": null,
       "value": " 26.0/26.0 [00:00&lt;00:00, 2.86kB/s]"
      }
     },
     "c714595ca44040569ff07e0040bd9b00": {
      "model_module": "@jupyter-widgets/base",
      "model_module_version": "2.0.0",
      "model_name": "LayoutModel",
      "state": {
       "_model_module": "@jupyter-widgets/base",
       "_model_module_version": "2.0.0",
       "_model_name": "LayoutModel",
       "_view_count": null,
       "_view_module": "@jupyter-widgets/base",
       "_view_module_version": "2.0.0",
       "_view_name": "LayoutView",
       "align_content": null,
       "align_items": null,
       "align_self": null,
       "border_bottom": null,
       "border_left": null,
       "border_right": null,
       "border_top": null,
       "bottom": null,
       "display": null,
       "flex": null,
       "flex_flow": null,
       "grid_area": null,
       "grid_auto_columns": null,
       "grid_auto_flow": null,
       "grid_auto_rows": null,
       "grid_column": null,
       "grid_gap": null,
       "grid_row": null,
       "grid_template_areas": null,
       "grid_template_columns": null,
       "grid_template_rows": null,
       "height": null,
       "justify_content": null,
       "justify_items": null,
       "left": null,
       "margin": null,
       "max_height": null,
       "max_width": null,
       "min_height": null,
       "min_width": null,
       "object_fit": null,
       "object_position": null,
       "order": null,
       "overflow": null,
       "padding": null,
       "right": null,
       "top": null,
       "visibility": null,
       "width": null
      }
     },
     "c85ff157ee294d30a6fbd08d285703d1": {
      "model_module": "@jupyter-widgets/base",
      "model_module_version": "2.0.0",
      "model_name": "LayoutModel",
      "state": {
       "_model_module": "@jupyter-widgets/base",
       "_model_module_version": "2.0.0",
       "_model_name": "LayoutModel",
       "_view_count": null,
       "_view_module": "@jupyter-widgets/base",
       "_view_module_version": "2.0.0",
       "_view_name": "LayoutView",
       "align_content": null,
       "align_items": null,
       "align_self": null,
       "border_bottom": null,
       "border_left": null,
       "border_right": null,
       "border_top": null,
       "bottom": null,
       "display": null,
       "flex": null,
       "flex_flow": null,
       "grid_area": null,
       "grid_auto_columns": null,
       "grid_auto_flow": null,
       "grid_auto_rows": null,
       "grid_column": null,
       "grid_gap": null,
       "grid_row": null,
       "grid_template_areas": null,
       "grid_template_columns": null,
       "grid_template_rows": null,
       "height": null,
       "justify_content": null,
       "justify_items": null,
       "left": null,
       "margin": null,
       "max_height": null,
       "max_width": null,
       "min_height": null,
       "min_width": null,
       "object_fit": null,
       "object_position": null,
       "order": null,
       "overflow": null,
       "padding": null,
       "right": null,
       "top": null,
       "visibility": null,
       "width": "20px"
      }
     },
     "ca041565becc47f48a1b7236539a2ac0": {
      "model_module": "@jupyter-widgets/controls",
      "model_module_version": "2.0.0",
      "model_name": "HTMLModel",
      "state": {
       "_dom_classes": [],
       "_model_module": "@jupyter-widgets/controls",
       "_model_module_version": "2.0.0",
       "_model_name": "HTMLModel",
       "_view_count": null,
       "_view_module": "@jupyter-widgets/controls",
       "_view_module_version": "2.0.0",
       "_view_name": "HTMLView",
       "description": "",
       "description_allow_html": false,
       "layout": "IPY_MODEL_c00f34705fef48cf973304c6e8272f44",
       "placeholder": "​",
       "style": "IPY_MODEL_24f5676518824a5c881a13039ace7a34",
       "tabbable": null,
       "tooltip": null,
       "value": "(…)-00000-of-00004-2d5a1467fff1081b.parquet: 100%"
      }
     },
     "ca6576fe850740e49f8ba81c059a2454": {
      "model_module": "@jupyter-widgets/controls",
      "model_module_version": "2.0.0",
      "model_name": "HTMLStyleModel",
      "state": {
       "_model_module": "@jupyter-widgets/controls",
       "_model_module_version": "2.0.0",
       "_model_name": "HTMLStyleModel",
       "_view_count": null,
       "_view_module": "@jupyter-widgets/base",
       "_view_module_version": "2.0.0",
       "_view_name": "StyleView",
       "background": null,
       "description_width": "",
       "font_size": null,
       "text_color": null
      }
     },
     "cd16e4ad9ea2411e85d286806b872c69": {
      "model_module": "@jupyter-widgets/controls",
      "model_module_version": "2.0.0",
      "model_name": "HTMLStyleModel",
      "state": {
       "_model_module": "@jupyter-widgets/controls",
       "_model_module_version": "2.0.0",
       "_model_name": "HTMLStyleModel",
       "_view_count": null,
       "_view_module": "@jupyter-widgets/base",
       "_view_module_version": "2.0.0",
       "_view_name": "StyleView",
       "background": null,
       "description_width": "",
       "font_size": null,
       "text_color": null
      }
     },
     "ce86579e71784648b2d09ee4eceb7dd4": {
      "model_module": "@jupyter-widgets/base",
      "model_module_version": "2.0.0",
      "model_name": "LayoutModel",
      "state": {
       "_model_module": "@jupyter-widgets/base",
       "_model_module_version": "2.0.0",
       "_model_name": "LayoutModel",
       "_view_count": null,
       "_view_module": "@jupyter-widgets/base",
       "_view_module_version": "2.0.0",
       "_view_name": "LayoutView",
       "align_content": null,
       "align_items": null,
       "align_self": null,
       "border_bottom": null,
       "border_left": null,
       "border_right": null,
       "border_top": null,
       "bottom": null,
       "display": null,
       "flex": null,
       "flex_flow": null,
       "grid_area": null,
       "grid_auto_columns": null,
       "grid_auto_flow": null,
       "grid_auto_rows": null,
       "grid_column": null,
       "grid_gap": null,
       "grid_row": null,
       "grid_template_areas": null,
       "grid_template_columns": null,
       "grid_template_rows": null,
       "height": null,
       "justify_content": null,
       "justify_items": null,
       "left": null,
       "margin": null,
       "max_height": null,
       "max_width": null,
       "min_height": null,
       "min_width": null,
       "object_fit": null,
       "object_position": null,
       "order": null,
       "overflow": null,
       "padding": null,
       "right": null,
       "top": null,
       "visibility": null,
       "width": null
      }
     },
     "cf745c518be34adfb19b5f39489d02f1": {
      "model_module": "@jupyter-widgets/controls",
      "model_module_version": "2.0.0",
      "model_name": "FloatProgressModel",
      "state": {
       "_dom_classes": [],
       "_model_module": "@jupyter-widgets/controls",
       "_model_module_version": "2.0.0",
       "_model_name": "FloatProgressModel",
       "_view_count": null,
       "_view_module": "@jupyter-widgets/controls",
       "_view_module_version": "2.0.0",
       "_view_name": "ProgressView",
       "bar_style": "success",
       "description": "",
       "description_allow_html": false,
       "layout": "IPY_MODEL_a46efd47d307456eb378418908c19836",
       "max": 247988350.0,
       "min": 0.0,
       "orientation": "horizontal",
       "style": "IPY_MODEL_1d6fa81acf7f4798b3e2f3017bac9f90",
       "tabbable": null,
       "tooltip": null,
       "value": 247988350.0
      }
     },
     "d1ae1356a1c248438655c52ef529af09": {
      "model_module": "@jupyter-widgets/base",
      "model_module_version": "2.0.0",
      "model_name": "LayoutModel",
      "state": {
       "_model_module": "@jupyter-widgets/base",
       "_model_module_version": "2.0.0",
       "_model_name": "LayoutModel",
       "_view_count": null,
       "_view_module": "@jupyter-widgets/base",
       "_view_module_version": "2.0.0",
       "_view_name": "LayoutView",
       "align_content": null,
       "align_items": null,
       "align_self": null,
       "border_bottom": null,
       "border_left": null,
       "border_right": null,
       "border_top": null,
       "bottom": null,
       "display": null,
       "flex": null,
       "flex_flow": null,
       "grid_area": null,
       "grid_auto_columns": null,
       "grid_auto_flow": null,
       "grid_auto_rows": null,
       "grid_column": null,
       "grid_gap": null,
       "grid_row": null,
       "grid_template_areas": null,
       "grid_template_columns": null,
       "grid_template_rows": null,
       "height": null,
       "justify_content": null,
       "justify_items": null,
       "left": null,
       "margin": null,
       "max_height": null,
       "max_width": null,
       "min_height": null,
       "min_width": null,
       "object_fit": null,
       "object_position": null,
       "order": null,
       "overflow": null,
       "padding": null,
       "right": null,
       "top": null,
       "visibility": null,
       "width": null
      }
     },
     "d4765ef37c534a6283203dc91a1bc3f5": {
      "model_module": "@jupyter-widgets/controls",
      "model_module_version": "2.0.0",
      "model_name": "ProgressStyleModel",
      "state": {
       "_model_module": "@jupyter-widgets/controls",
       "_model_module_version": "2.0.0",
       "_model_name": "ProgressStyleModel",
       "_view_count": null,
       "_view_module": "@jupyter-widgets/base",
       "_view_module_version": "2.0.0",
       "_view_name": "StyleView",
       "bar_color": null,
       "description_width": ""
      }
     },
     "d656f25c55b147ce9bb8ebc4f9b0f750": {
      "model_module": "@jupyter-widgets/controls",
      "model_module_version": "2.0.0",
      "model_name": "FloatProgressModel",
      "state": {
       "_dom_classes": [],
       "_model_module": "@jupyter-widgets/controls",
       "_model_module_version": "2.0.0",
       "_model_name": "FloatProgressModel",
       "_view_count": null,
       "_view_module": "@jupyter-widgets/controls",
       "_view_module_version": "2.0.0",
       "_view_name": "ProgressView",
       "bar_style": "success",
       "description": "",
       "description_allow_html": false,
       "layout": "IPY_MODEL_2c6be7a12f5a4ffcb94c03e88eb110ec",
       "max": 9989127.0,
       "min": 0.0,
       "orientation": "horizontal",
       "style": "IPY_MODEL_8351d287903a457ab10dcfe5891f64d3",
       "tabbable": null,
       "tooltip": null,
       "value": 9989127.0
      }
     },
     "d71fa6b37b2d47e1849fd8578246bcf0": {
      "model_module": "@jupyter-widgets/controls",
      "model_module_version": "2.0.0",
      "model_name": "HTMLModel",
      "state": {
       "_dom_classes": [],
       "_model_module": "@jupyter-widgets/controls",
       "_model_module_version": "2.0.0",
       "_model_name": "HTMLModel",
       "_view_count": null,
       "_view_module": "@jupyter-widgets/controls",
       "_view_module_version": "2.0.0",
       "_view_name": "HTMLView",
       "description": "",
       "description_allow_html": false,
       "layout": "IPY_MODEL_88dc4ea1c34b4c97810b377f348f8bfe",
       "placeholder": "​",
       "style": "IPY_MODEL_27e59967918c4080aeb9d900efb75c84",
       "tabbable": null,
       "tooltip": null,
       "value": "(…)-00002-of-00004-a26307300439e943.parquet: 100%"
      }
     },
     "d786cc1334f24b23b522fbd8152b3b41": {
      "model_module": "@jupyter-widgets/controls",
      "model_module_version": "2.0.0",
      "model_name": "FloatProgressModel",
      "state": {
       "_dom_classes": [],
       "_model_module": "@jupyter-widgets/controls",
       "_model_module_version": "2.0.0",
       "_model_name": "FloatProgressModel",
       "_view_count": null,
       "_view_module": "@jupyter-widgets/controls",
       "_view_module_version": "2.0.0",
       "_view_name": "ProgressView",
       "bar_style": "success",
       "description": "",
       "description_allow_html": false,
       "layout": "IPY_MODEL_6c451228b8f0499cbbc611e46c1853a3",
       "max": 5.0,
       "min": 0.0,
       "orientation": "horizontal",
       "style": "IPY_MODEL_3c36c30001524702895becaec5afa035",
       "tabbable": null,
       "tooltip": null,
       "value": 5.0
      }
     },
     "d8fdf1936e654a3682fd3097a0df8ab6": {
      "model_module": "@jupyter-widgets/controls",
      "model_module_version": "2.0.0",
      "model_name": "HTMLModel",
      "state": {
       "_dom_classes": [],
       "_model_module": "@jupyter-widgets/controls",
       "_model_module_version": "2.0.0",
       "_model_name": "HTMLModel",
       "_view_count": null,
       "_view_module": "@jupyter-widgets/controls",
       "_view_module_version": "2.0.0",
       "_view_name": "HTMLView",
       "description": "",
       "description_allow_html": false,
       "layout": "IPY_MODEL_2c3da1317ccd481fb0d4240e39c0676f",
       "placeholder": "​",
       "style": "IPY_MODEL_9b3adbf9f29b48baa7a40c1a7614d01e",
       "tabbable": null,
       "tooltip": null,
       "value": "merges.txt: 100%"
      }
     },
     "da5bab9649c34dbd8a0cb7ab6691c6cd": {
      "model_module": "@jupyter-widgets/base",
      "model_module_version": "2.0.0",
      "model_name": "LayoutModel",
      "state": {
       "_model_module": "@jupyter-widgets/base",
       "_model_module_version": "2.0.0",
       "_model_name": "LayoutModel",
       "_view_count": null,
       "_view_module": "@jupyter-widgets/base",
       "_view_module_version": "2.0.0",
       "_view_name": "LayoutView",
       "align_content": null,
       "align_items": null,
       "align_self": null,
       "border_bottom": null,
       "border_left": null,
       "border_right": null,
       "border_top": null,
       "bottom": null,
       "display": null,
       "flex": null,
       "flex_flow": null,
       "grid_area": null,
       "grid_auto_columns": null,
       "grid_auto_flow": null,
       "grid_auto_rows": null,
       "grid_column": null,
       "grid_gap": null,
       "grid_row": null,
       "grid_template_areas": null,
       "grid_template_columns": null,
       "grid_template_rows": null,
       "height": null,
       "justify_content": null,
       "justify_items": null,
       "left": null,
       "margin": null,
       "max_height": null,
       "max_width": null,
       "min_height": null,
       "min_width": null,
       "object_fit": null,
       "object_position": null,
       "order": null,
       "overflow": null,
       "padding": null,
       "right": null,
       "top": null,
       "visibility": null,
       "width": null
      }
     },
     "da8f60b4327b4a2cae4f44f07325b630": {
      "model_module": "@jupyter-widgets/controls",
      "model_module_version": "2.0.0",
      "model_name": "HTMLModel",
      "state": {
       "_dom_classes": [],
       "_model_module": "@jupyter-widgets/controls",
       "_model_module_version": "2.0.0",
       "_model_name": "HTMLModel",
       "_view_count": null,
       "_view_module": "@jupyter-widgets/controls",
       "_view_module_version": "2.0.0",
       "_view_name": "HTMLView",
       "description": "",
       "description_allow_html": false,
       "layout": "IPY_MODEL_5fa5a5bf2e6349b1a068c503de372b88",
       "placeholder": "​",
       "style": "IPY_MODEL_691f81458d514871b8aca03aa4b769dc",
       "tabbable": null,
       "tooltip": null,
       "value": "config.json: 100%"
      }
     },
     "db0e9f15e497443c90af7df752b01b20": {
      "model_module": "@jupyter-widgets/controls",
      "model_module_version": "2.0.0",
      "model_name": "FloatProgressModel",
      "state": {
       "_dom_classes": [],
       "_model_module": "@jupyter-widgets/controls",
       "_model_module_version": "2.0.0",
       "_model_name": "FloatProgressModel",
       "_view_count": null,
       "_view_module": "@jupyter-widgets/controls",
       "_view_module_version": "2.0.0",
       "_view_name": "ProgressView",
       "bar_style": "success",
       "description": "",
       "description_allow_html": false,
       "layout": "IPY_MODEL_3b3476401f454fef8c9b3868b6df42c9",
       "max": 26.0,
       "min": 0.0,
       "orientation": "horizontal",
       "style": "IPY_MODEL_eddfd75924cc4aff95d66f894f34d1f8",
       "tabbable": null,
       "tooltip": null,
       "value": 26.0
      }
     },
     "db1a530126b64ae5a596ee956658b1bb": {
      "model_module": "@jupyter-widgets/controls",
      "model_module_version": "2.0.0",
      "model_name": "HTMLStyleModel",
      "state": {
       "_model_module": "@jupyter-widgets/controls",
       "_model_module_version": "2.0.0",
       "_model_name": "HTMLStyleModel",
       "_view_count": null,
       "_view_module": "@jupyter-widgets/base",
       "_view_module_version": "2.0.0",
       "_view_name": "StyleView",
       "background": null,
       "description_width": "",
       "font_size": null,
       "text_color": null
      }
     },
     "db6f78e107704412a3be73645c661308": {
      "model_module": "@jupyter-widgets/controls",
      "model_module_version": "2.0.0",
      "model_name": "HBoxModel",
      "state": {
       "_dom_classes": [],
       "_model_module": "@jupyter-widgets/controls",
       "_model_module_version": "2.0.0",
       "_model_name": "HBoxModel",
       "_view_count": null,
       "_view_module": "@jupyter-widgets/controls",
       "_view_module_version": "2.0.0",
       "_view_name": "HBoxView",
       "box_style": "",
       "children": [
        "IPY_MODEL_1ca6e2a075e6452cb0c1f082837c1b01",
        "IPY_MODEL_1170c17a1fdb454fbd49720299b87c41",
        "IPY_MODEL_4566987d388e40b1b3713e02aaf369f4"
       ],
       "layout": "IPY_MODEL_8a89d8daf98f4430801b2300ca24da02",
       "tabbable": null,
       "tooltip": null
      }
     },
     "dc2c3dd21a7e4734975f9e75d66d0dbf": {
      "model_module": "@jupyter-widgets/controls",
      "model_module_version": "2.0.0",
      "model_name": "HBoxModel",
      "state": {
       "_dom_classes": [],
       "_model_module": "@jupyter-widgets/controls",
       "_model_module_version": "2.0.0",
       "_model_name": "HBoxModel",
       "_view_count": null,
       "_view_module": "@jupyter-widgets/controls",
       "_view_module_version": "2.0.0",
       "_view_name": "HBoxView",
       "box_style": "",
       "children": [
        "IPY_MODEL_d71fa6b37b2d47e1849fd8578246bcf0",
        "IPY_MODEL_268b888621504b2ea864e4ba82ecc8fc",
        "IPY_MODEL_bab27bfda7db427cb9692851b59ea2d3"
       ],
       "layout": "IPY_MODEL_4094be562a61489c8a1b250d9cdbd20c",
       "tabbable": null,
       "tooltip": null
      }
     },
     "dc68f14b040b499ab3405b194b7919f1": {
      "model_module": "@jupyter-widgets/controls",
      "model_module_version": "2.0.0",
      "model_name": "HTMLModel",
      "state": {
       "_dom_classes": [],
       "_model_module": "@jupyter-widgets/controls",
       "_model_module_version": "2.0.0",
       "_model_name": "HTMLModel",
       "_view_count": null,
       "_view_module": "@jupyter-widgets/controls",
       "_view_module_version": "2.0.0",
       "_view_name": "HTMLView",
       "description": "",
       "description_allow_html": false,
       "layout": "IPY_MODEL_a1d5b67dd3bc4864a2db65fee599fe7a",
       "placeholder": "​",
       "style": "IPY_MODEL_832f0124cc534e52bae7bd5ba972d246",
       "tabbable": null,
       "tooltip": null,
       "value": "(…)-00000-of-00001-869c898b519ad725.parquet: 100%"
      }
     },
     "dced305b34314624bffbc420f5ec7308": {
      "model_module": "@jupyter-widgets/controls",
      "model_module_version": "2.0.0",
      "model_name": "HTMLStyleModel",
      "state": {
       "_model_module": "@jupyter-widgets/controls",
       "_model_module_version": "2.0.0",
       "_model_name": "HTMLStyleModel",
       "_view_count": null,
       "_view_module": "@jupyter-widgets/base",
       "_view_module_version": "2.0.0",
       "_view_name": "StyleView",
       "background": null,
       "description_width": "",
       "font_size": null,
       "text_color": null
      }
     },
     "dcfbcc31050f4222b23c0da058128d02": {
      "model_module": "@jupyter-widgets/controls",
      "model_module_version": "2.0.0",
      "model_name": "HBoxModel",
      "state": {
       "_dom_classes": [],
       "_model_module": "@jupyter-widgets/controls",
       "_model_module_version": "2.0.0",
       "_model_name": "HBoxModel",
       "_view_count": null,
       "_view_module": "@jupyter-widgets/controls",
       "_view_module_version": "2.0.0",
       "_view_name": "HBoxView",
       "box_style": "",
       "children": [
        "IPY_MODEL_da8f60b4327b4a2cae4f44f07325b630",
        "IPY_MODEL_b9fb56448ef941d2afce604726aa4cc1",
        "IPY_MODEL_b050cbdc23df4f30bb4e55b541c4c57a"
       ],
       "layout": "IPY_MODEL_613c37c487a644bf8fb3755a55ef4cd5",
       "tabbable": null,
       "tooltip": null
      }
     },
     "dd76ce7a0f4143cd9cbd4e6c70aca16b": {
      "model_module": "@jupyter-widgets/controls",
      "model_module_version": "2.0.0",
      "model_name": "HTMLModel",
      "state": {
       "_dom_classes": [],
       "_model_module": "@jupyter-widgets/controls",
       "_model_module_version": "2.0.0",
       "_model_name": "HTMLModel",
       "_view_count": null,
       "_view_module": "@jupyter-widgets/controls",
       "_view_module_version": "2.0.0",
       "_view_name": "HTMLView",
       "description": "",
       "description_allow_html": false,
       "layout": "IPY_MODEL_6ab6cdeae69c4714b34fd1b24050c6c3",
       "placeholder": "​",
       "style": "IPY_MODEL_db1a530126b64ae5a596ee956658b1bb",
       "tabbable": null,
       "tooltip": null,
       "value": " 1.06k/? [00:00&lt;00:00, 125kB/s]"
      }
     },
     "e51f4342bfbc41e8b3cc13d7666f9867": {
      "model_module": "@jupyter-widgets/base",
      "model_module_version": "2.0.0",
      "model_name": "LayoutModel",
      "state": {
       "_model_module": "@jupyter-widgets/base",
       "_model_module_version": "2.0.0",
       "_model_name": "LayoutModel",
       "_view_count": null,
       "_view_module": "@jupyter-widgets/base",
       "_view_module_version": "2.0.0",
       "_view_name": "LayoutView",
       "align_content": null,
       "align_items": null,
       "align_self": null,
       "border_bottom": null,
       "border_left": null,
       "border_right": null,
       "border_top": null,
       "bottom": null,
       "display": null,
       "flex": null,
       "flex_flow": null,
       "grid_area": null,
       "grid_auto_columns": null,
       "grid_auto_flow": null,
       "grid_auto_rows": null,
       "grid_column": null,
       "grid_gap": null,
       "grid_row": null,
       "grid_template_areas": null,
       "grid_template_columns": null,
       "grid_template_rows": null,
       "height": null,
       "justify_content": null,
       "justify_items": null,
       "left": null,
       "margin": null,
       "max_height": null,
       "max_width": null,
       "min_height": null,
       "min_width": null,
       "object_fit": null,
       "object_position": null,
       "order": null,
       "overflow": null,
       "padding": null,
       "right": null,
       "top": null,
       "visibility": null,
       "width": null
      }
     },
     "e8b90e1b90914733bf7d5465853a87c9": {
      "model_module": "@jupyter-widgets/controls",
      "model_module_version": "2.0.0",
      "model_name": "HTMLStyleModel",
      "state": {
       "_model_module": "@jupyter-widgets/controls",
       "_model_module_version": "2.0.0",
       "_model_name": "HTMLStyleModel",
       "_view_count": null,
       "_view_module": "@jupyter-widgets/base",
       "_view_module_version": "2.0.0",
       "_view_name": "StyleView",
       "background": null,
       "description_width": "",
       "font_size": null,
       "text_color": null
      }
     },
     "e9dcd64c143f4d8eb5847711ddbfcdb7": {
      "model_module": "@jupyter-widgets/controls",
      "model_module_version": "2.0.0",
      "model_name": "FloatProgressModel",
      "state": {
       "_dom_classes": [],
       "_model_module": "@jupyter-widgets/controls",
       "_model_module_version": "2.0.0",
       "_model_name": "FloatProgressModel",
       "_view_count": null,
       "_view_module": "@jupyter-widgets/controls",
       "_view_module_version": "2.0.0",
       "_view_name": "ProgressView",
       "bar_style": "success",
       "description": "",
       "description_allow_html": false,
       "layout": "IPY_MODEL_e51f4342bfbc41e8b3cc13d7666f9867",
       "max": 1355256.0,
       "min": 0.0,
       "orientation": "horizontal",
       "style": "IPY_MODEL_6a93dd8bb51f4285b90b21384c0408f3",
       "tabbable": null,
       "tooltip": null,
       "value": 1355256.0
      }
     },
     "eddfd75924cc4aff95d66f894f34d1f8": {
      "model_module": "@jupyter-widgets/controls",
      "model_module_version": "2.0.0",
      "model_name": "ProgressStyleModel",
      "state": {
       "_model_module": "@jupyter-widgets/controls",
       "_model_module_version": "2.0.0",
       "_model_name": "ProgressStyleModel",
       "_view_count": null,
       "_view_module": "@jupyter-widgets/base",
       "_view_module_version": "2.0.0",
       "_view_name": "StyleView",
       "bar_color": null,
       "description_width": ""
      }
     },
     "ee5ff1878f864c0397e0e0385f59f4d1": {
      "model_module": "@jupyter-widgets/controls",
      "model_module_version": "2.0.0",
      "model_name": "HTMLStyleModel",
      "state": {
       "_model_module": "@jupyter-widgets/controls",
       "_model_module_version": "2.0.0",
       "_model_name": "HTMLStyleModel",
       "_view_count": null,
       "_view_module": "@jupyter-widgets/base",
       "_view_module_version": "2.0.0",
       "_view_name": "StyleView",
       "background": null,
       "description_width": "",
       "font_size": null,
       "text_color": null
      }
     },
     "ee67004a48c64e9f987a8b7b36749fed": {
      "model_module": "@jupyter-widgets/base",
      "model_module_version": "2.0.0",
      "model_name": "LayoutModel",
      "state": {
       "_model_module": "@jupyter-widgets/base",
       "_model_module_version": "2.0.0",
       "_model_name": "LayoutModel",
       "_view_count": null,
       "_view_module": "@jupyter-widgets/base",
       "_view_module_version": "2.0.0",
       "_view_name": "LayoutView",
       "align_content": null,
       "align_items": null,
       "align_self": null,
       "border_bottom": null,
       "border_left": null,
       "border_right": null,
       "border_top": null,
       "bottom": null,
       "display": null,
       "flex": null,
       "flex_flow": null,
       "grid_area": null,
       "grid_auto_columns": null,
       "grid_auto_flow": null,
       "grid_auto_rows": null,
       "grid_column": null,
       "grid_gap": null,
       "grid_row": null,
       "grid_template_areas": null,
       "grid_template_columns": null,
       "grid_template_rows": null,
       "height": null,
       "justify_content": null,
       "justify_items": null,
       "left": null,
       "margin": null,
       "max_height": null,
       "max_width": null,
       "min_height": null,
       "min_width": null,
       "object_fit": null,
       "object_position": null,
       "order": null,
       "overflow": null,
       "padding": null,
       "right": null,
       "top": null,
       "visibility": null,
       "width": null
      }
     },
     "efc27c1886a541968ab12e5613c83b32": {
      "model_module": "@jupyter-widgets/base",
      "model_module_version": "2.0.0",
      "model_name": "LayoutModel",
      "state": {
       "_model_module": "@jupyter-widgets/base",
       "_model_module_version": "2.0.0",
       "_model_name": "LayoutModel",
       "_view_count": null,
       "_view_module": "@jupyter-widgets/base",
       "_view_module_version": "2.0.0",
       "_view_name": "LayoutView",
       "align_content": null,
       "align_items": null,
       "align_self": null,
       "border_bottom": null,
       "border_left": null,
       "border_right": null,
       "border_top": null,
       "bottom": null,
       "display": null,
       "flex": null,
       "flex_flow": null,
       "grid_area": null,
       "grid_auto_columns": null,
       "grid_auto_flow": null,
       "grid_auto_rows": null,
       "grid_column": null,
       "grid_gap": null,
       "grid_row": null,
       "grid_template_areas": null,
       "grid_template_columns": null,
       "grid_template_rows": null,
       "height": null,
       "justify_content": null,
       "justify_items": null,
       "left": null,
       "margin": null,
       "max_height": null,
       "max_width": null,
       "min_height": null,
       "min_width": null,
       "object_fit": null,
       "object_position": null,
       "order": null,
       "overflow": null,
       "padding": null,
       "right": null,
       "top": null,
       "visibility": null,
       "width": null
      }
     },
     "f0418b21b1f749458d05d5560613ede3": {
      "model_module": "@jupyter-widgets/base",
      "model_module_version": "2.0.0",
      "model_name": "LayoutModel",
      "state": {
       "_model_module": "@jupyter-widgets/base",
       "_model_module_version": "2.0.0",
       "_model_name": "LayoutModel",
       "_view_count": null,
       "_view_module": "@jupyter-widgets/base",
       "_view_module_version": "2.0.0",
       "_view_name": "LayoutView",
       "align_content": null,
       "align_items": null,
       "align_self": null,
       "border_bottom": null,
       "border_left": null,
       "border_right": null,
       "border_top": null,
       "bottom": null,
       "display": null,
       "flex": null,
       "flex_flow": null,
       "grid_area": null,
       "grid_auto_columns": null,
       "grid_auto_flow": null,
       "grid_auto_rows": null,
       "grid_column": null,
       "grid_gap": null,
       "grid_row": null,
       "grid_template_areas": null,
       "grid_template_columns": null,
       "grid_template_rows": null,
       "height": null,
       "justify_content": null,
       "justify_items": null,
       "left": null,
       "margin": null,
       "max_height": null,
       "max_width": null,
       "min_height": null,
       "min_width": null,
       "object_fit": null,
       "object_position": null,
       "order": null,
       "overflow": null,
       "padding": null,
       "right": null,
       "top": null,
       "visibility": null,
       "width": null
      }
     },
     "f06ce730c28446c08bd6d662f040d6df": {
      "model_module": "@jupyter-widgets/base",
      "model_module_version": "2.0.0",
      "model_name": "LayoutModel",
      "state": {
       "_model_module": "@jupyter-widgets/base",
       "_model_module_version": "2.0.0",
       "_model_name": "LayoutModel",
       "_view_count": null,
       "_view_module": "@jupyter-widgets/base",
       "_view_module_version": "2.0.0",
       "_view_name": "LayoutView",
       "align_content": null,
       "align_items": null,
       "align_self": null,
       "border_bottom": null,
       "border_left": null,
       "border_right": null,
       "border_top": null,
       "bottom": null,
       "display": null,
       "flex": null,
       "flex_flow": null,
       "grid_area": null,
       "grid_auto_columns": null,
       "grid_auto_flow": null,
       "grid_auto_rows": null,
       "grid_column": null,
       "grid_gap": null,
       "grid_row": null,
       "grid_template_areas": null,
       "grid_template_columns": null,
       "grid_template_rows": null,
       "height": null,
       "justify_content": null,
       "justify_items": null,
       "left": null,
       "margin": null,
       "max_height": null,
       "max_width": null,
       "min_height": null,
       "min_width": null,
       "object_fit": null,
       "object_position": null,
       "order": null,
       "overflow": null,
       "padding": null,
       "right": null,
       "top": null,
       "visibility": null,
       "width": null
      }
     },
     "f1e4b2fc827b419a91aba47ac7f39ae0": {
      "model_module": "@jupyter-widgets/base",
      "model_module_version": "2.0.0",
      "model_name": "LayoutModel",
      "state": {
       "_model_module": "@jupyter-widgets/base",
       "_model_module_version": "2.0.0",
       "_model_name": "LayoutModel",
       "_view_count": null,
       "_view_module": "@jupyter-widgets/base",
       "_view_module_version": "2.0.0",
       "_view_name": "LayoutView",
       "align_content": null,
       "align_items": null,
       "align_self": null,
       "border_bottom": null,
       "border_left": null,
       "border_right": null,
       "border_top": null,
       "bottom": null,
       "display": null,
       "flex": null,
       "flex_flow": null,
       "grid_area": null,
       "grid_auto_columns": null,
       "grid_auto_flow": null,
       "grid_auto_rows": null,
       "grid_column": null,
       "grid_gap": null,
       "grid_row": null,
       "grid_template_areas": null,
       "grid_template_columns": null,
       "grid_template_rows": null,
       "height": null,
       "justify_content": null,
       "justify_items": null,
       "left": null,
       "margin": null,
       "max_height": null,
       "max_width": null,
       "min_height": null,
       "min_width": null,
       "object_fit": null,
       "object_position": null,
       "order": null,
       "overflow": null,
       "padding": null,
       "right": null,
       "top": null,
       "visibility": null,
       "width": null
      }
     },
     "f334990059f14cfdaf5e00b53956d684": {
      "model_module": "@jupyter-widgets/controls",
      "model_module_version": "2.0.0",
      "model_name": "HTMLModel",
      "state": {
       "_dom_classes": [],
       "_model_module": "@jupyter-widgets/controls",
       "_model_module_version": "2.0.0",
       "_model_name": "HTMLModel",
       "_view_count": null,
       "_view_module": "@jupyter-widgets/controls",
       "_view_module_version": "2.0.0",
       "_view_name": "HTMLView",
       "description": "",
       "description_allow_html": false,
       "layout": "IPY_MODEL_2b5185edd5e14c16a1781489573ff4cd",
       "placeholder": "​",
       "style": "IPY_MODEL_6f435b7cda554fbfa9e4ef5acdc2f5ce",
       "tabbable": null,
       "tooltip": null,
       "value": " 9.99M/9.99M [00:00&lt;00:00, 257MB/s]"
      }
     }
    },
    "version_major": 2,
    "version_minor": 0
   }
  }
 },
 "nbformat": 4,
 "nbformat_minor": 5
}